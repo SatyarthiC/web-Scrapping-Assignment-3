{
 "cells": [
  {
   "cell_type": "code",
   "execution_count": 1,
   "metadata": {},
   "outputs": [],
   "source": [
    "import pandas as pd\n",
    "import selenium\n",
    "from selenium import webdriver\n",
    "from selenium.common.exceptions import StaleElementReferenceException, NoSuchElementException"
   ]
  },
  {
   "cell_type": "markdown",
   "metadata": {},
   "source": [
    "#Q1. Write a python program which searches all the product under a particular product vertical\n",
    "from www.amazon.in. The product verticals to be searched will be taken as input from user.\n",
    "For e.g. If user input is ‘guitar’. Then search for guitars."
   ]
  },
  {
   "cell_type": "code",
   "execution_count": 9,
   "metadata": {},
   "outputs": [],
   "source": [
    " driver = webdriver.Chrome(\"C:/Users/CHITRAK/Downloads/chromedriver.exe\")"
   ]
  },
  {
   "cell_type": "code",
   "execution_count": 10,
   "metadata": {},
   "outputs": [],
   "source": [
    "driver.get('https://www.amazon.in/')"
   ]
  },
  {
   "cell_type": "code",
   "execution_count": 7,
   "metadata": {},
   "outputs": [
    {
     "name": "stdout",
     "output_type": "stream",
     "text": [
      "Enter product:Airpods\n"
     ]
    }
   ],
   "source": [
    "search = input(\"Enter product:\") "
   ]
  },
  {
   "cell_type": "code",
   "execution_count": 11,
   "metadata": {},
   "outputs": [],
   "source": [
    "search_bar = driver.find_element_by_id(\"twotabsearchtextbox\")\n",
    "search_bar.clear()\n",
    "search_bar.send_keys(search)                                  \n",
    "search_button = driver.find_element_by_xpath('//span[@id=\"nav-search-submit-text\"]')\n",
    "search_button.click()    "
   ]
  },
  {
   "cell_type": "markdown",
   "metadata": {},
   "source": [
    "#Q2. In the above question, now scrape the following details of each product listed in first 3 pages\n",
    "of your search results and save it in a dataframe and csv. In case if any product vertical has\n",
    "less than 3 pages in search results then scrape all the products available under that product\n",
    "vertical. Details to be scraped are: \"Brand Name\", \"Name of the Product\", \"Rating\", \"No. of\n",
    "Ratings\", \"Price\", \"Return/Exchange\", \"Expected Delivery\", \"Availability\", \"Other Details\"\n",
    "and “Product URL”. In case, if any of the details are missing for any of the product then\n",
    "replace it by “-“."
   ]
  },
  {
   "cell_type": "code",
   "execution_count": 14,
   "metadata": {},
   "outputs": [],
   "source": [
    "Brand_Name = []\n",
    "Product_Name = []\n",
    "Rating = []\n",
    "No_of_Ratings = []\n",
    "Price = []\n",
    "Return_Exchange = []\n",
    "Expected_Delivery = []\n",
    "Availability = []\n",
    "Other_Details = []\n",
    "Product_URL = []"
   ]
  },
  {
   "cell_type": "code",
   "execution_count": 15,
   "metadata": {},
   "outputs": [],
   "source": [
    "urls=[i.get_attribute(\"href\")for i in driver.find_elements_by_xpath(\"//h2[@class='a-size-mini a-spacing-none a-color-base s-line-clamp-2']/a\")]\n",
    "\n",
    "for url in urls[0:100]:\n",
    "    \n",
    "        Product_URL.append(url)\n",
    "        driver.get(url)        \n",
    "        \n",
    "        #for scrapping brand names\n",
    "        b=driver.find_elements_by_xpath(\"//a[@id='bylineInfo']\")\n",
    "        for i in b:\n",
    "            if i.text is None :\n",
    "                Brand_Name.append('----') \n",
    "            else:\n",
    "                Brand_Name.append(i.text)\n",
    "        \n",
    "        \n",
    "        #scraping Product Names\n",
    "        pn=driver.find_elements_by_xpath(\"//h1[@id='title']\")\n",
    "        for i in b:\n",
    "            if i.text is None :\n",
    "                Product_Name.append('----') \n",
    "            else:\n",
    "                Product_Name.append(i.text)\n",
    "                \n",
    "        \n",
    "        # scraping Rating\n",
    "        r=driver.find_elements_by_xpath(\"//span[@data-hook='rating-out-of-text']\")\n",
    "        for i in r:\n",
    "            if i.text is None :\n",
    "                Rating.append('----') \n",
    "            else:\n",
    "                Rating.append(i.text)\n",
    "\n",
    "    \n",
    "        # scraping No_of_Ratings\n",
    "        nr=driver.find_elements_by_xpath(\"//span[@id='acrCustomerReviewText']\")\n",
    "        for i in nr:\n",
    "            if i.text is None :\n",
    "                No_of_Ratings.append('----') \n",
    "            else:\n",
    "                No_of_Ratings.append(i.text)\n",
    "        \n",
    "\n",
    "        # scraping Price\n",
    "        pr=driver.find_elements_by_xpath(\"//span[@id='priceblock_ourprice']\")\n",
    "        for i in nr:\n",
    "            if i.text is None :\n",
    "                Price.append('----') \n",
    "            else:\n",
    "                Price.append(i.text)\n",
    "\n",
    "        \n",
    "        # scraping Expected Delivery\n",
    "        ed = driver.find_elements_by_xpath(\"//div[@id='dynamicDeliveryMessage_feature_div']\")\n",
    "        for i in ed:\n",
    "            if i.text is None :\n",
    "                Expected_Delivery.append('----') \n",
    "            else:\n",
    "                Expected_Delivery.append(i.text)\n",
    "\n",
    "        \n",
    "        # scraping Return/Exchange\n",
    "        re = driver.find_elements_by_xpath(\"//a[@id='productSupportAndReturnPolicy-return-policy-anchor-text']\")\n",
    "        for i in re:\n",
    "            if i.text is None :\n",
    "                Return_Exchange.append('----') \n",
    "            else:\n",
    "                Return_Exchange.append(i.text) \n",
    "        Return_Exchange[0:1]        \n",
    "        \n",
    "        # scraping Availability\n",
    "        a=driver.find_elements_by_xpath(\"//div[@id='availability']/span\")\n",
    "        for i in a:\n",
    "            if i.text is None :\n",
    "                Availability.append('----') \n",
    "            else:\n",
    "                Availability.append(i.text)\n",
    "\n",
    "    \n",
    "        # scraping other details\n",
    "        od=driver.find_elements_by_xpath(\"//span[@id='price-shipping-message']\")\n",
    "        for i in a:\n",
    "            if i.text is None :\n",
    "                Other_Details.append('----') \n",
    "            else:\n",
    "                Other_Details.append(i.text)\n",
    "        "
   ]
  },
  {
   "cell_type": "code",
   "execution_count": 16,
   "metadata": {
    "scrolled": true
   },
   "outputs": [
    {
     "data": {
      "text/plain": [
       "['FREE delivery: Wednesday, March 3 Details\\nFastest delivery: Today\\nOrder within 2 hrs and 1 min Details',\n",
       " 'FREE delivery: Wednesday, March 3 Details\\nFastest delivery: Tomorrow\\nOrder within 1 hr and 1 min Details',\n",
       " 'FREE delivery: March 3 - 6 Details',\n",
       " 'FREE delivery: March 6 - 7 Details',\n",
       " 'FREE delivery: Saturday, March 6 Details',\n",
       " 'FREE delivery: Wednesday, March 3 Details\\nFastest delivery: Today\\nOrder within 2 hrs and 1 min Details',\n",
       " 'FREE delivery: Wednesday, March 3 Details\\nFastest delivery: Today\\nOrder within 2 hrs and 1 min Details',\n",
       " 'FREE delivery: Wednesday, March 3 Details\\nFastest delivery: Today\\nOrder within 2 hrs and 1 min Details',\n",
       " 'FREE delivery: Wednesday, March 3 Details\\nFastest delivery: Today\\nOrder within 2 hrs and 1 min Details',\n",
       " 'FREE delivery: Wednesday, March 3 Details\\nFastest delivery: Today\\nOrder within 2 hrs and 1 min Details',\n",
       " 'FREE delivery: Thursday, March 4 Details\\nFastest delivery: Today 10PM\\nOrder within 8 hrs and 1 min Details',\n",
       " '₹ 83.00 delivery: March 6 - 7 Details',\n",
       " 'FREE delivery: Saturday, March 6 Details',\n",
       " '₹ 80.00 delivery: March 6 - 7 Details',\n",
       " 'FREE delivery: Wednesday, March 3 Details\\nFastest delivery: Today\\nOrder within 2 hrs Details',\n",
       " 'FREE delivery: March 6 - 7 Details',\n",
       " 'FREE delivery: Wednesday, March 3 Details\\nFastest delivery: Today\\nOrder within 2 hrs Details',\n",
       " 'FREE delivery: Wednesday, March 3 Details\\nFastest delivery: Today\\nOrder within 2 hrs Details']"
      ]
     },
     "execution_count": 16,
     "metadata": {},
     "output_type": "execute_result"
    }
   ],
   "source": [
    "Expected_Delivery[0:100]        \n"
   ]
  },
  {
   "cell_type": "code",
   "execution_count": 17,
   "metadata": {
    "scrolled": true
   },
   "outputs": [
    {
     "data": {
      "text/plain": [
       "['4.2 out of 5',\n",
       " '3.8 out of 5',\n",
       " '2.2 out of 5',\n",
       " '3.8 out of 5',\n",
       " '3.5 out of 5',\n",
       " '3.4 out of 5',\n",
       " '3.4 out of 5',\n",
       " '4.2 out of 5',\n",
       " '3.4 out of 5',\n",
       " '4.2 out of 5',\n",
       " '3.5 out of 5',\n",
       " '4.1 out of 5',\n",
       " '2.6 out of 5',\n",
       " '3.8 out of 5',\n",
       " '3.8 out of 5',\n",
       " '3.5 out of 5']"
      ]
     },
     "execution_count": 17,
     "metadata": {},
     "output_type": "execute_result"
    }
   ],
   "source": [
    "Rating[0:100]"
   ]
  },
  {
   "cell_type": "code",
   "execution_count": 18,
   "metadata": {},
   "outputs": [
    {
     "data": {
      "text/plain": [
       "['10-day replacement only',\n",
       " '10-day replacement only',\n",
       " '10-day replacement only',\n",
       " '10-day replacement only']"
      ]
     },
     "execution_count": 18,
     "metadata": {},
     "output_type": "execute_result"
    }
   ],
   "source": [
    "Return_Exchange[0:100]"
   ]
  },
  {
   "cell_type": "code",
   "execution_count": 19,
   "metadata": {},
   "outputs": [
    {
     "name": "stdout",
     "output_type": "stream",
     "text": [
      "18\n",
      "18\n",
      "16\n",
      "28\n",
      "28\n",
      "4\n",
      "18\n",
      "18\n",
      "18\n",
      "18\n"
     ]
    }
   ],
   "source": [
    "print(len(Brand_Name))\n",
    "print(len(Product_Name))\n",
    "print(len(Rating))\n",
    "print(len(No_of_Ratings))\n",
    "print(len(Price))\n",
    "print(len(Return_Exchange))\n",
    "print(len(Expected_Delivery))\n",
    "print(len(Availability))\n",
    "print(len(Other_Details))\n",
    "print(len(Product_URL))"
   ]
  },
  {
   "cell_type": "code",
   "execution_count": 20,
   "metadata": {},
   "outputs": [],
   "source": [
    "import pandas as pd\n",
    "table=pd.DataFrame({})\n",
    "\n",
    "table['Brand Name']=Brand_Name[:3]\n",
    "table['Product Name']=Product_Name[:3]\n",
    "table['Return/Exchane']=Return_Exchange[:3]\n",
    "table['No of Ratings']=No_of_Ratings[:3]\n",
    "table['Rating']=Rating[:3]\n",
    "table['Price']=Price[:3]\n",
    "table['Expected Delivery']=Expected_Delivery[:3]\n",
    "table['Availability']=Availability[:3]\n",
    "table['Other Details']=Other_Details[:3]\n",
    "table['Product URL']=Product_URL[:3]"
   ]
  },
  {
   "cell_type": "code",
   "execution_count": 21,
   "metadata": {},
   "outputs": [
    {
     "data": {
      "text/html": [
       "<div>\n",
       "<style scoped>\n",
       "    .dataframe tbody tr th:only-of-type {\n",
       "        vertical-align: middle;\n",
       "    }\n",
       "\n",
       "    .dataframe tbody tr th {\n",
       "        vertical-align: top;\n",
       "    }\n",
       "\n",
       "    .dataframe thead th {\n",
       "        text-align: right;\n",
       "    }\n",
       "</style>\n",
       "<table border=\"1\" class=\"dataframe\">\n",
       "  <thead>\n",
       "    <tr style=\"text-align: right;\">\n",
       "      <th></th>\n",
       "      <th>Brand Name</th>\n",
       "      <th>Product Name</th>\n",
       "      <th>Return/Exchane</th>\n",
       "      <th>No of Ratings</th>\n",
       "      <th>Rating</th>\n",
       "      <th>Price</th>\n",
       "      <th>Expected Delivery</th>\n",
       "      <th>Availability</th>\n",
       "      <th>Other Details</th>\n",
       "      <th>Product URL</th>\n",
       "    </tr>\n",
       "  </thead>\n",
       "  <tbody>\n",
       "    <tr>\n",
       "      <th>0</th>\n",
       "      <td>Visit the Apple Store</td>\n",
       "      <td>Visit the Apple Store</td>\n",
       "      <td>10-day replacement only</td>\n",
       "      <td>5,492 ratings</td>\n",
       "      <td>4.2 out of 5</td>\n",
       "      <td>5,492 ratings</td>\n",
       "      <td>FREE delivery: Wednesday, March 3 Details\\nFas...</td>\n",
       "      <td>In stock.</td>\n",
       "      <td>In stock.</td>\n",
       "      <td>https://www.amazon.in/gp/slredirect/picassoRed...</td>\n",
       "    </tr>\n",
       "    <tr>\n",
       "      <th>1</th>\n",
       "      <td>Visit the Apple Store</td>\n",
       "      <td>Visit the Apple Store</td>\n",
       "      <td>10-day replacement only</td>\n",
       "      <td>26,294 ratings</td>\n",
       "      <td>3.8 out of 5</td>\n",
       "      <td>26,294 ratings</td>\n",
       "      <td>FREE delivery: Wednesday, March 3 Details\\nFas...</td>\n",
       "      <td>In stock.</td>\n",
       "      <td>In stock.</td>\n",
       "      <td>https://www.amazon.in/gp/slredirect/picassoRed...</td>\n",
       "    </tr>\n",
       "    <tr>\n",
       "      <th>2</th>\n",
       "      <td>Brand: Generic</td>\n",
       "      <td>Brand: Generic</td>\n",
       "      <td>10-day replacement only</td>\n",
       "      <td>281 ratings</td>\n",
       "      <td>2.2 out of 5</td>\n",
       "      <td>281 ratings</td>\n",
       "      <td>FREE delivery: March 3 - 6 Details</td>\n",
       "      <td>In stock.</td>\n",
       "      <td>In stock.</td>\n",
       "      <td>https://www.amazon.in/Allyouwant-Wireless-Port...</td>\n",
       "    </tr>\n",
       "  </tbody>\n",
       "</table>\n",
       "</div>"
      ],
      "text/plain": [
       "              Brand Name           Product Name           Return/Exchane  \\\n",
       "0  Visit the Apple Store  Visit the Apple Store  10-day replacement only   \n",
       "1  Visit the Apple Store  Visit the Apple Store  10-day replacement only   \n",
       "2         Brand: Generic         Brand: Generic  10-day replacement only   \n",
       "\n",
       "    No of Ratings        Rating           Price  \\\n",
       "0   5,492 ratings  4.2 out of 5   5,492 ratings   \n",
       "1  26,294 ratings  3.8 out of 5  26,294 ratings   \n",
       "2     281 ratings  2.2 out of 5     281 ratings   \n",
       "\n",
       "                                   Expected Delivery Availability  \\\n",
       "0  FREE delivery: Wednesday, March 3 Details\\nFas...    In stock.   \n",
       "1  FREE delivery: Wednesday, March 3 Details\\nFas...    In stock.   \n",
       "2                 FREE delivery: March 3 - 6 Details    In stock.   \n",
       "\n",
       "  Other Details                                        Product URL  \n",
       "0     In stock.  https://www.amazon.in/gp/slredirect/picassoRed...  \n",
       "1     In stock.  https://www.amazon.in/gp/slredirect/picassoRed...  \n",
       "2     In stock.  https://www.amazon.in/Allyouwant-Wireless-Port...  "
      ]
     },
     "execution_count": 21,
     "metadata": {},
     "output_type": "execute_result"
    }
   ],
   "source": [
    "table"
   ]
  },
  {
   "cell_type": "markdown",
   "metadata": {},
   "source": [
    "#Q3. Write a python program to access the search bar and search button on images.google.com and\n",
    "scrape 100 images each for keywords ‘fruits’, ‘cars’ and ‘Machine Learning’.\n"
   ]
  },
  {
   "cell_type": "code",
   "execution_count": 15,
   "metadata": {},
   "outputs": [],
   "source": [
    " driver = webdriver.Chrome(\"C:/Users/CHITRAK/Downloads/chromedriver.exe\")"
   ]
  },
  {
   "cell_type": "code",
   "execution_count": 16,
   "metadata": {},
   "outputs": [],
   "source": [
    "driver.get('https://images.google.com/?gws_rd=ssl')"
   ]
  },
  {
   "cell_type": "code",
   "execution_count": 17,
   "metadata": {},
   "outputs": [],
   "source": [
    "search_bar = driver.find_element_by_xpath('//input[@class=\"gLFyf gsfi\"]')\n",
    "search_bar.clear()\n",
    "search_bar.send_keys('fruits')                                  \n",
    "search_button = driver.find_element_by_xpath('//span[@class=\"z1asCe MZy1Rb\"]')\n",
    "search_button.click() "
   ]
  },
  {
   "cell_type": "code",
   "execution_count": 19,
   "metadata": {},
   "outputs": [
    {
     "name": "stdout",
     "output_type": "stream",
     "text": [
      "https://www.google.com/imgres?imgurl=https%3A%2F%2Fwww.healthyeating.org%2Fimages%2Fdefault-source%2Fhome-0.0%2Fnutrition-topics-2.0%2Fgeneral-nutrition-wellness%2F2-2-2-3foodgroups_fruits_detailfeature_thumb.jpg%3Fsfvrsn%3D7abe71fe_4&imgrefurl=https%3A%2F%2Fwww.healthyeating.org%2FHealthy-Eating%2FAll-Star-Foods%2FFruits&tbnid=12LB6t-_YQapMM&vet=12ahUKEwiO5b-buozvAhUOhEsFHaasCvYQMygAegUIARDOAQ..i&docid=_XVIsgIH8atHaM&w=700&h=426&q=fruits&ved=2ahUKEwiO5b-buozvAhUOhEsFHaasCvYQMygAegUIARDOAQ\n",
      "https://www.google.com/imgres?imgurl=https%3A%2F%2Fupload.wikimedia.org%2Fwikipedia%2Fcommons%2F2%2F2f%2FCulinary_fruits_front_view.jpg&imgrefurl=https%3A%2F%2Fen.wikipedia.org%2Fwiki%2FFruit&tbnid=pnDbLOFjmWsEVM&vet=12ahUKEwiO5b-buozvAhUOhEsFHaasCvYQMygBegUIARDQAQ..i&docid=YL15pOVr82UOFM&w=3818&h=2540&q=fruits&ved=2ahUKEwiO5b-buozvAhUOhEsFHaasCvYQMygBegUIARDQAQ\n",
      "https://www.google.com/imgres?imgurl=https%3A%2F%2Fi.pinimg.com%2Foriginals%2F7a%2F20%2F52%2F7a20521fb26ce2a45e635c4da4aa26f6.jpg&imgrefurl=https%3A%2F%2Fwww.pinterest.com%2Fpin%2F777363585661725897%2F&tbnid=h9FZ86Vl8Z6L2M&vet=12ahUKEwiO5b-buozvAhUOhEsFHaasCvYQMygCegUIARDSAQ..i&docid=Xxzai7dd5AXXzM&w=1500&h=1900&q=fruits&ved=2ahUKEwiO5b-buozvAhUOhEsFHaasCvYQMygCegUIARDSAQ\n",
      "https://www.google.com/imgres?imgurl=https%3A%2F%2Fimages-na.ssl-images-amazon.com%2Fimages%2FI%2F91WdMqaFL6L.jpg&imgrefurl=https%3A%2F%2Fwww.amazon.in%2FFruits-All-One-Dreamland-Publications%2Fdp%2F8184510594&tbnid=DJZ90QQP1VuhEM&vet=12ahUKEwiO5b-buozvAhUOhEsFHaasCvYQMygDegUIARDUAQ..i&docid=zQB8dyYb89lltM&w=1706&h=2560&q=fruits&ved=2ahUKEwiO5b-buozvAhUOhEsFHaasCvYQMygDegUIARDUAQ\n",
      "https://www.google.com/imgres?imgurl=https%3A%2F%2Fpost.medicalnewstoday.com%2Fwp-content%2Fuploads%2Fsites%2F3%2F2020%2F02%2F325253_2200-1200x628.jpg&imgrefurl=https%3A%2F%2Fwww.medicalnewstoday.com%2Farticles%2F325253&tbnid=GyD6vWqTzD1GMM&vet=12ahUKEwiO5b-buozvAhUOhEsFHaasCvYQMygEegUIARDWAQ..i&docid=D4EGqPTZRea5FM&w=1200&h=628&q=fruits&ved=2ahUKEwiO5b-buozvAhUOhEsFHaasCvYQMygEegUIARDWAQ\n",
      "https://www.google.com/imgres?imgurl=https%3A%2F%2Fwww.diagnosisdiet.com%2Fassets%2Fimages%2Fc%2Ffruit-og-d176ef00.jpg&imgrefurl=https%3A%2F%2Fwww.diagnosisdiet.com%2Ffull-article%2Ffruit&tbnid=1E8sGTV6jx9DMM&vet=12ahUKEwiO5b-buozvAhUOhEsFHaasCvYQMygFegUIARDYAQ..i&docid=C6aztEbQ3_kgOM&w=900&h=450&q=fruits&ved=2ahUKEwiO5b-buozvAhUOhEsFHaasCvYQMygFegUIARDYAQ\n",
      "https://www.google.com/imgres?imgurl=https%3A%2F%2Fi.ytimg.com%2Fvi%2FPY2OxP_jMZ0%2Fmaxresdefault.jpg&imgrefurl=https%3A%2F%2Fwww.youtube.com%2Fwatch%3Fv%3DPY2OxP_jMZ0&tbnid=TjYXP-tvc-TAgM&vet=12ahUKEwiO5b-buozvAhUOhEsFHaasCvYQMygGegUIARDaAQ..i&docid=H5TncV3WUwb3NM&w=1280&h=720&q=fruits&ved=2ahUKEwiO5b-buozvAhUOhEsFHaasCvYQMygGegUIARDaAQ\n",
      "https://www.google.com/imgres?imgurl=https%3A%2F%2Fres.cloudinary.com%2Fgrohealth%2Fimage%2Fupload%2F%24wpsize_!_cld_full!%2Cw_2100%2Ch_1427%2Cc_scale%2Fv1588088840%2FiStock-467652436.jpg&imgrefurl=https%3A%2F%2Fwww.diabetes.co.uk%2Ffood%2Ffruit.html&tbnid=Iqrn9zwUMx_LVM&vet=12ahUKEwiO5b-buozvAhUOhEsFHaasCvYQMygHegUIARDdAQ..i&docid=V1GXApsZb-s1oM&w=2100&h=1427&q=fruits&ved=2ahUKEwiO5b-buozvAhUOhEsFHaasCvYQMygHegUIARDdAQ\n",
      "https://www.google.com/imgres?imgurl=https%3A%2F%2Fcdn.cliqueinc.com%2Fposts%2F281986%2Ffruits-that-are-high-in-sugar-281986-1566362117724-main.700x0c.jpg&imgrefurl=https%3A%2F%2Fthethirty.whowhatwear.com%2Ffruits-that-are-high-in-sugar&tbnid=7fXD4yPgAlcOoM&vet=12ahUKEwiO5b-buozvAhUOhEsFHaasCvYQMygIegUIARDfAQ..i&docid=kyDaFSTSyiamwM&w=700&h=525&q=fruits&ved=2ahUKEwiO5b-buozvAhUOhEsFHaasCvYQMygIegUIARDfAQ\n",
      "https://www.google.com/imgres?imgurl=https%3A%2F%2Fbasket.com%2Fwp-content%2Fuploads%2F2018%2F07%2FWhat-Your-Favorite-Fruit-Says-About-You.jpg&imgrefurl=https%3A%2F%2Fbasket.com%2Fblog%2Fwhat-your-favorite-fruit-says-about-you%2F&tbnid=GcKFsOrgqWDe8M&vet=12ahUKEwiO5b-buozvAhUOhEsFHaasCvYQMygJegUIARDhAQ..i&docid=2KpnYHD7gWhPWM&w=4500&h=3000&q=fruits&ved=2ahUKEwiO5b-buozvAhUOhEsFHaasCvYQMygJegUIARDhAQ\n",
      "https://www.google.com/imgres?imgurl=https%3A%2F%2Fi.ytimg.com%2Fvi%2FS0S1M9bKlYk%2Fmaxresdefault.jpg&imgrefurl=https%3A%2F%2Fwww.youtube.com%2Fwatch%3Fv%3DS0S1M9bKlYk&tbnid=hpyYjz9Di7Sr5M&vet=12ahUKEwiO5b-buozvAhUOhEsFHaasCvYQMygKegUIARDjAQ..i&docid=aFzyXVAIxQoOAM&w=1280&h=720&q=fruits&ved=2ahUKEwiO5b-buozvAhUOhEsFHaasCvYQMygKegUIARDjAQ\n",
      "https://www.google.com/imgres?imgurl=https%3A%2F%2Fwww.byrdie.com%2Fthmb%2FXHYvx1E1cA_z1k_Gl12gs2MHy28%3D%2F1549x1549%2Fsmart%2Ffilters%3Ano_upscale()%2FGettyImages-539031092-6f4af91aca38420dadb89d70c32d034a.jpg&imgrefurl=https%3A%2F%2Fwww.byrdie.com%2Funhealthy-fruit&tbnid=cA6h7SOrvwBMSM&vet=12ahUKEwiO5b-buozvAhUOhEsFHaasCvYQMygLegUIARDmAQ..i&docid=C2WO6ebFavcIvM&w=1549&h=1549&q=fruits&ved=2ahUKEwiO5b-buozvAhUOhEsFHaasCvYQMygLegUIARDmAQ\n",
      "https://www.google.com/imgres?imgurl=https%3A%2F%2Fi.pinimg.com%2Foriginals%2Fc2%2F2e%2F32%2Fc22e324ceb7a7f5b1fc69152dd68d85b.jpg&imgrefurl=https%3A%2F%2Fwww.pinterest.com%2Fpin%2F641340803167435998%2F&tbnid=piwF95wcOjYE8M&vet=12ahUKEwiO5b-buozvAhUOhEsFHaasCvYQMygMegUIARDoAQ..i&docid=x6jL6dUALnT2NM&w=1500&h=2200&q=fruits&ved=2ahUKEwiO5b-buozvAhUOhEsFHaasCvYQMygMegUIARDoAQ\n",
      "https://www.google.com/imgres?imgurl=https%3A%2F%2Fwww.unlockfood.ca%2FEatRightOntario%2Fmedia%2FWebsite-images-resized%2FHow-to-store-fruit-to-keep-it-fresh-resized.jpg&imgrefurl=https%3A%2F%2Fwww.unlockfood.ca%2Fen%2FArticles%2FCooking-Food-Preparation%2FHow-to-store-fruit-to-keep-them-fresh.aspx&tbnid=46m7s3p1Eb4y0M&vet=12ahUKEwiO5b-buozvAhUOhEsFHaasCvYQMygNegUIARDqAQ..i&docid=D9zZ7kS5L2y85M&w=830&h=553&q=fruits&ved=2ahUKEwiO5b-buozvAhUOhEsFHaasCvYQMygNegUIARDqAQ\n",
      "https://www.google.com/imgres?imgurl=https%3A%2F%2Fwww.heart.org%2F-%2Fmedia%2Faha%2Fh4gm%2Farticle-images%2Ffruit-and-vegetables.jpg&imgrefurl=https%3A%2F%2Fwww.heart.org%2Fen%2Fhealthy-living%2Fhealthy-eating%2Fadd-color%2Fhow-to-eat-more-fruits-and-vegetables&tbnid=Jr8XDPQC8CI0kM&vet=12ahUKEwiO5b-buozvAhUOhEsFHaasCvYQMygOegUIARDsAQ..i&docid=OfURMI3MK1WPXM&w=1000&h=667&q=fruits&ved=2ahUKEwiO5b-buozvAhUOhEsFHaasCvYQMygOegUIARDsAQ\n",
      "https://www.google.com/imgres?imgurl=https%3A%2F%2Fpolicygenius-blog.imgix.net%2F2018%2F05%2Ffruits-vegetables.jpg&imgrefurl=https%3A%2F%2Fwww.policygenius.com%2Fblog%2F9-ways-to-save-money-on-fruits-vegetables%2F&tbnid=mxwUiCU6f2fUyM&vet=12ahUKEwiO5b-buozvAhUOhEsFHaasCvYQMygPegUIARDuAQ..i&docid=dhQ2cvgg6fZQsM&w=4200&h=2800&q=fruits&ved=2ahUKEwiO5b-buozvAhUOhEsFHaasCvYQMygPegUIARDuAQ\n",
      "https://www.google.com/imgres?imgurl=https%3A%2F%2Fstatic.toiimg.com%2Fphoto%2F76992342.cms&imgrefurl=https%3A%2F%2Ftimesofindia.indiatimes.com%2Flife-style%2Ffood-news%2Finteresting-fruits-from-around-the-world%2Fphotostory%2F76992335.cms&tbnid=FzDtoN1xpPKCEM&vet=12ahUKEwiO5b-buozvAhUOhEsFHaasCvYQMygQegUIARDwAQ..i&docid=Yqk35LBexoYilM&w=1200&h=900&q=fruits&ved=2ahUKEwiO5b-buozvAhUOhEsFHaasCvYQMygQegUIARDwAQ\n",
      "https://www.google.com/imgres?imgurl=https%3A%2F%2Fdelmonte-sitefinity-public.s3.amazonaws.com%2Fimages%2Fdefault-source%2Fdefault-album%2Ffruits436108f9b3a440b5b421dca85dcc9b52_e5788bd0-7c2f-4fa3-94c6-19db5c4515cf.jpg%3Fsfvrsn%3Dc81eaee6_4&imgrefurl=https%3A%2F%2Fwww.delmontefresh.com%2F&tbnid=5N0WTaydyUWWSM&vet=12ahUKEwiO5b-buozvAhUOhEsFHaasCvYQMygRegUIARDyAQ..i&docid=MVGR2tflyoW86M&w=305&h=236&q=fruits&ved=2ahUKEwiO5b-buozvAhUOhEsFHaasCvYQMygRegUIARDyAQ\n",
      "https://www.google.com/imgres?imgurl=https%3A%2F%2Fc.ndtvimg.com%2F2019-07%2Fpeorfu68_fruits_625x300_12_July_19.jpg&imgrefurl=https%3A%2F%2Fwww.ndtv.com%2Fhealth%2Fbest-time-to-eat-fruits-and-how-much-fruit-you-should-be-eating-revealed-2068528&tbnid=sgkYuXe-rfZx-M&vet=12ahUKEwiO5b-buozvAhUOhEsFHaasCvYQMygSegUIARD0AQ..i&docid=fId3zRW2fMFjPM&w=620&h=350&q=fruits&ved=2ahUKEwiO5b-buozvAhUOhEsFHaasCvYQMygSegUIARD0AQ\n",
      "https://www.google.com/imgres?imgurl=https%3A%2F%2F7esl.com%2Fwp-content%2Fuploads%2F2017%2F12%2Ffruit.jpg&imgrefurl=https%3A%2F%2F7esl.com%2Ffruits-vocabulary-english%2F&tbnid=e8KhG28uIdSVIM&vet=12ahUKEwiO5b-buozvAhUOhEsFHaasCvYQMygTegUIARD2AQ..i&docid=GxkvbocTLHyeGM&w=1200&h=628&q=fruits&ved=2ahUKEwiO5b-buozvAhUOhEsFHaasCvYQMygTegUIARD2AQ\n",
      "https://www.google.com/imgres?imgurl=https%3A%2F%2Fimages.theconversation.com%2Ffiles%2F232033%2Foriginal%2Ffile-20180815-2906-h00fij.jpg%3Fixlib%3Drb-1.1.0%26q%3D45%26auto%3Dformat%26w%3D496%26fit%3Dclip&imgrefurl=https%3A%2F%2Ftheconversation.com%2Fhow-to-get-children-to-eat-a-rainbow-of-fruit-and-vegetables-97546&tbnid=z0bNY5c-AWGVeM&vet=12ahUKEwiO5b-buozvAhUOhEsFHaasCvYQMygUegUIARD4AQ..i&docid=a4MMySdqxRyEPM&w=496&h=331&q=fruits&ved=2ahUKEwiO5b-buozvAhUOhEsFHaasCvYQMygUegUIARD4AQ\n",
      "https://www.google.com/imgres?imgurl=https%3A%2F%2Fi.pinimg.com%2Foriginals%2Fbd%2Fd5%2Fe9%2Fbdd5e983743da88cd9028b4b87b7dd73.jpg&imgrefurl=https%3A%2F%2Fwww.pinterest.com%2Fpin%2F325666616798148782%2F&tbnid=QVF5O5aS3LBzSM&vet=12ahUKEwiO5b-buozvAhUOhEsFHaasCvYQMygVegUIARD6AQ..i&docid=kOKyIoHkuPIa1M&w=1200&h=1400&q=fruits&ved=2ahUKEwiO5b-buozvAhUOhEsFHaasCvYQMygVegUIARD6AQ\n",
      "https://www.google.com/imgres?imgurl=https%3A%2F%2Fwww.cardiosmart.org%2Fimages%2Fdefault-source%2Fnews-article-images%2F73421875.tmb-dtl-news-a.gif%3Fsfvrsn%3Da74d0aef_2&imgrefurl=http%3A%2F%2Fwww.cardiosmart.org%2Fnews%2F2015%2F11%2Ffruits-and-vegetables-help-reduce-future-heart-risk&tbnid=py0rcFj4dOehQM&vet=12ahUKEwiO5b-buozvAhUOhEsFHaasCvYQMygWegUIARD8AQ..i&docid=y5vq55FCtCwFEM&w=332&h=332&q=fruits&ved=2ahUKEwiO5b-buozvAhUOhEsFHaasCvYQMygWegUIARD8AQ\n",
      "https://www.google.com/imgres?imgurl=https%3A%2F%2Fi0.wp.com%2Fimages-prod.healthline.com%2Fhlcmsresource%2Fimages%2FAN_images%2Fhealthy-fruits-1296x728.jpg%3Fw%3D1155%26h%3D1528&imgrefurl=https%3A%2F%2Fwww.healthline.com%2Fnutrition%2F20-healthiest-fruits&tbnid=pduk3TmqX2JmzM&vet=12ahUKEwiO5b-buozvAhUOhEsFHaasCvYQMygXegUIARD-AQ..i&docid=E8sjXf1Q0tMeFM&w=1155&h=648&q=fruits&ved=2ahUKEwiO5b-buozvAhUOhEsFHaasCvYQMygXegUIARD-AQ\n",
      "https://www.google.com/imgres?imgurl=https%3A%2F%2Fimagesvc.meredithcorp.io%2Fv3%2Fmm%2Fimage%3Furl%3Dhttps%253A%252F%252Fimg1.cookinglight.timeinc.net%252Fsites%252Fdefault%252Ffiles%252F1502826406%252F1708w-getty-fruit-closeup-CarstenSchanter-EyeEm.jpg&imgrefurl=https%3A%2F%2Fwww.cookinglight.com%2Feating-smart%2Fsmart-choices%2Fdifference-between-dried-and-fresh-fruit&tbnid=iymTX83Mcm2m1M&vet=12ahUKEwiO5b-buozvAhUOhEsFHaasCvYQMygZegUIARCHAg..i&docid=-mN6EbLn5_TUYM&w=2667&h=2000&q=fruits&ved=2ahUKEwiO5b-buozvAhUOhEsFHaasCvYQMygZegUIARCHAg\n",
      "https://www.google.com/imgres?imgurl=https%3A%2F%2Fmedia.npr.org%2Fassets%2Fimg%2F2019%2F07%2F17%2Fgettyimages-688974837_custom-05a1fe7c8ce05a3a307dc7aa2af024713745dfe2.jpg&imgrefurl=https%3A%2F%2Fwww.npr.org%2Fsections%2Fthesalt%2F2019%2F07%2F17%2F742670701%2Fif-we-all-ate-enough-fruits-and-vegetables-thered-be-big-shortages&tbnid=IXGsY8w1w2mDTM&vet=12ahUKEwiO5b-buozvAhUOhEsFHaasCvYQMygaegUIARCJAg..i&docid=tmsKaP5DNTp2eM&w=2121&h=1412&q=fruits&ved=2ahUKEwiO5b-buozvAhUOhEsFHaasCvYQMygaegUIARCJAg\n",
      "https://www.google.com/imgres?imgurl=https%3A%2F%2Fimages.indianexpress.com%2F2020%2F07%2Ffruits_getty759.jpg&imgrefurl=https%3A%2F%2Findianexpress.com%2Farticle%2Flifestyle%2Ffood-wine%2Ffruits-to-be-consumed-during-monsoon-season-litchi-pear-papaya-jamun-health-benefits-6492920%2F&tbnid=4z5ZVX4lqhZvWM&vet=12ahUKEwiO5b-buozvAhUOhEsFHaasCvYQMygbegUIARCLAg..i&docid=KEvjTdMfcgVrHM&w=759&h=422&q=fruits&ved=2ahUKEwiO5b-buozvAhUOhEsFHaasCvYQMygbegUIARCLAg\n",
      "https://www.google.com/imgres?imgurl=https%3A%2F%2Fwww.diabete.qc.ca%2Fwp-content%2Fuploads%2F2014%2F08%2FLes-fruits.png&imgrefurl=https%3A%2F%2Fwww.diabete.qc.ca%2Fen%2Fliving-with-diabetes%2Fdiet%2Ffood-and-nutrients%2Ffruit%2F&tbnid=paq7KHg_NStSlM&vet=12ahUKEwiO5b-buozvAhUOhEsFHaasCvYQMygcegUIARCNAg..i&docid=b5NXeJH_Da2luM&w=800&h=800&q=fruits&ved=2ahUKEwiO5b-buozvAhUOhEsFHaasCvYQMygcegUIARCNAg\n",
      "https://www.google.com/imgres?imgurl=https%3A%2F%2Fwww.businessinsider.in%2Fphoto%2F76079967%2F20-of-the-most-unusual-fruits-and-vegetables-from-around-the-world-see-if-you-can-identify-them.jpg%3Fimgsize%3D667295&imgrefurl=https%3A%2F%2Fwww.insider.com%2Funcommon-fruits-and-vegetables-quiz-2020-5&tbnid=EeyD7H52E9b-oM&vet=12ahUKEwiO5b-buozvAhUOhEsFHaasCvYQMygdegUIARCPAg..i&docid=LLm6k35SvzVWTM&w=4608&h=3456&q=fruits&ved=2ahUKEwiO5b-buozvAhUOhEsFHaasCvYQMygdegUIARCPAg\n",
      "https://www.google.com/imgres?imgurl=https%3A%2F%2Fimages-na.ssl-images-amazon.com%2Fimages%2FI%2F51eB6A%2BNrwL._SX325_BO1%2C204%2C203%2C200_.jpg&imgrefurl=https%3A%2F%2Fwww.amazon.in%2FFruits-Educational-Chart-Pegasus-Team%2Fdp%2F8131938883&tbnid=sQVMPRBuq09HGM&vet=12ahUKEwiO5b-buozvAhUOhEsFHaasCvYQMygeegUIARCRAg..i&docid=IeiFBehAY2guxM&w=327&h=499&q=fruits&ved=2ahUKEwiO5b-buozvAhUOhEsFHaasCvYQMygeegUIARCRAg\n",
      "https://www.google.com/imgres?imgurl=https%3A%2F%2Fimg.etimg.com%2Fthumb%2Fwidth-1200%2Cheight-900%2Cimgsize-1339698%2Cresizemode-1%2Cmsid-75370162%2Fnews%2Feconomy%2Fagriculture%2Fexotic-fruits-become-scarce-and-costlier-as-bottlenecks-in-transportation-emerge.jpg&imgrefurl=https%3A%2F%2Fm.economictimes.com%2Fnews%2Feconomy%2Fagriculture%2Fexotic-fruits-become-scarce-and-costlier-as-bottlenecks-in-transportation-emerge%2Farticleshow%2F75370162.cms&tbnid=ljXx5JO6TFi5MM&vet=12ahUKEwiO5b-buozvAhUOhEsFHaasCvYQMygfegUIARCTAg..i&docid=52ZPNavQBq8ELM&w=1200&h=900&q=fruits&ved=2ahUKEwiO5b-buozvAhUOhEsFHaasCvYQMygfegUIARCTAg\n",
      "https://www.google.com/imgres?imgurl=https%3A%2F%2Fwww.thekohsamuiguide.com%2Fwp-content%2Fuploads%2F2012%2F01%2Fthai-fruit-16.jpg&imgrefurl=https%3A%2F%2Fwww.thekohsamuiguide.com%2Fthai-fruit%2F&tbnid=ABytvcetKVhCVM&vet=12ahUKEwiO5b-buozvAhUOhEsFHaasCvYQMyggegUIARCVAg..i&docid=ScmnaNlKQe13BM&w=1280&h=848&q=fruits&ved=2ahUKEwiO5b-buozvAhUOhEsFHaasCvYQMyggegUIARCVAg\n",
      "https://www.google.com/imgres?imgurl=https%3A%2F%2Fwww.verywellhealth.com%2Fthmb%2F0mTCeKqywiovRWMiugc4mN99CGQ%3D%2F2880x1918%2Ffilters%3Afill(87E3EF%2C1)%2Ffruits-to-avoid-if-you-have-diabetes-1087587-primary-recirc-3a95a09a48cb46b49d5632326f9405d3.jpg&imgrefurl=https%3A%2F%2Fwww.verywellhealth.com%2Ffruits-to-avoid-if-you-have-diabetes-1087587&tbnid=CAOb_fOZ82GSBM&vet=12ahUKEwiO5b-buozvAhUOhEsFHaasCvYQMyghegUIARCXAg..i&docid=PJRNbkcdUz5k2M&w=2880&h=1918&q=fruits&ved=2ahUKEwiO5b-buozvAhUOhEsFHaasCvYQMyghegUIARCXAg\n",
      "https://www.google.com/imgres?imgurl=https%3A%2F%2Fwww.verywellfit.com%2Fthmb%2Fa4580FjTjbub9q4kI5m9X-Po-p0%3D%2F2002x1334%2Ffilters%3Ano_upscale()%3Amax_bytes(150000)%3Astrip_icc()%2FBananas-5c6a36a346e0fb0001f0e4a3.jpg&imgrefurl=https%3A%2F%2Fwww.verywellfit.com%2Fserving-sizes-for-18-fruits-and-vegetables-2506865&tbnid=TBIl9yeitq356M&vet=12ahUKEwiO5b-buozvAhUOhEsFHaasCvYQMygiegUIARCZAg..i&docid=3JMZq2CD0U919M&w=2002&h=1334&q=fruits&ved=2ahUKEwiO5b-buozvAhUOhEsFHaasCvYQMygiegUIARCZAg\n",
      "https://www.google.com/imgres?imgurl=https%3A%2F%2Fapi.time.com%2Fwp-content%2Fuploads%2F2018%2F04%2Fstrawberries.jpg&imgrefurl=https%3A%2F%2Ftime.com%2F5234787%2Fdirty-dozen-pesticides%2F&tbnid=afTarIymhHa6iM&vet=12ahUKEwiO5b-buozvAhUOhEsFHaasCvYQMygjegUIARCbAg..i&docid=J2FcljCYIc5roM&w=3124&h=2109&q=fruits&ved=2ahUKEwiO5b-buozvAhUOhEsFHaasCvYQMygjegUIARCbAg\n",
      "https://www.google.com/imgres?imgurl=https%3A%2F%2Fimg.buzzfeed.com%2Fstore-an-image-prod-us-east-1%2F-dmUX_wTb.png%3Foutput-format%3Dauto%26output-quality%3Dauto%26downsize%3D500%3A*&imgrefurl=https%3A%2F%2Fwww.buzzfeed.com%2Flavanyanarayanan%2Ffruit-trivia-quiz&tbnid=wBaDDLGk3T8ugM&vet=12ahUKEwiO5b-buozvAhUOhEsFHaasCvYQMygkegUIARCdAg..i&docid=F0NYkaeqRD2tRM&w=500&h=375&q=fruits&ved=2ahUKEwiO5b-buozvAhUOhEsFHaasCvYQMygkegUIARCdAg\n",
      "https://www.google.com/imgres?imgurl=https%3A%2F%2Fmiro.medium.com%2Fmax%2F601%2F1*CjEqlt11pvJQCRLTO_FTRw.png&imgrefurl=https%3A%2F%2Fchanapdavis.medium.com%2Ffruit-and-your-health-yay-or-nay-to-an-apple-a-day-6bbabe68a950&tbnid=SFa2VEWexDx-oM&vet=12ahUKEwiO5b-buozvAhUOhEsFHaasCvYQMyglegUIARCfAg..i&docid=MO0-w0fY10SfsM&w=601&h=600&q=fruits&ved=2ahUKEwiO5b-buozvAhUOhEsFHaasCvYQMyglegUIARCfAg\n",
      "https://www.google.com/imgres?imgurl=https%3A%2F%2Fimages.everydayhealth.com%2Fimages%2Fordinary-fruits-with-amazing-health-benefits-05-1440x810.jpg&imgrefurl=https%3A%2F%2Fwww.everydayhealth.com%2Fdiet-nutrition-pictures%2Fthe-healthiest-power-fruits-next-door.aspx&tbnid=WbfsWd0xruXHOM&vet=12ahUKEwiO5b-buozvAhUOhEsFHaasCvYQMygmegUIARChAg..i&docid=R3lz-xhE9kTbgM&w=1440&h=810&q=fruits&ved=2ahUKEwiO5b-buozvAhUOhEsFHaasCvYQMygmegUIARChAg\n",
      "https://www.google.com/imgres?imgurl=http%3A%2F%2Fwww.aicr.org%2Fwp-content%2Fuploads%2F2017%2F02%2F43965686_s.jpg&imgrefurl=https%3A%2F%2Fwww.aicr.org%2Fresources%2Fblog%2Feat-more-fruits-vegetables-lower-the-risk-of-dying-from-cancer-other-diseases-study-finds%2F&tbnid=69uscWtbj-iiGM&vet=12ahUKEwiO5b-buozvAhUOhEsFHaasCvYQMygnegUIARCjAg..i&docid=WN9YbekJY3KLyM&w=450&h=428&q=fruits&ved=2ahUKEwiO5b-buozvAhUOhEsFHaasCvYQMygnegUIARCjAg\n",
      "https://www.google.com/imgres?imgurl=https%3A%2F%2Fcontent.invisioncic.com%2FMjennycraig%2Fmonthly_2020_06%2F605017879_SummerFruitVeggies_Apples_PhotobyMatheusCenalionUnsplash.thumb.jpg.518262fe0d72479e1395432e6e1c8687.jpg&imgrefurl=https%3A%2F%2Fcommunity.jennycraig.com%2Fhealthy-habits-blog%2Feat-well%2Fsummer-fruits-and-vegetables%2F&tbnid=iKlkErwp7B-9jM&vet=12ahUKEwiO5b-buozvAhUOhEsFHaasCvYQMygoegUIARCmAg..i&docid=ZYFBjqbHvHI_uM&w=1500&h=1125&q=fruits&ved=2ahUKEwiO5b-buozvAhUOhEsFHaasCvYQMygoegUIARCmAg\n",
      "https://www.google.com/imgres?imgurl=https%3A%2F%2Fstatic.toiimg.com%2Fphoto%2F77721447.cms&imgrefurl=https%3A%2F%2Ftimesofindia.indiatimes.com%2Flife-style%2Fhealth-fitness%2Fdiet%2Fpurple-coloured-fruits-and-vegetables-that-are-ideal-for-boosting-immunity-here-are-the-best-ones%2Fphotostory%2F77721387.cms&tbnid=F9lHF0asY6d0xM&vet=12ahUKEwiO5b-buozvAhUOhEsFHaasCvYQMygpegUIARCoAg..i&docid=UY6teP4gF-kUPM&w=1200&h=900&q=fruits&ved=2ahUKEwiO5b-buozvAhUOhEsFHaasCvYQMygpegUIARCoAg\n",
      "https://www.google.com/imgres?imgurl=https%3A%2F%2Fwww.savinodelbene.com%2Fwp-content%2Fuploads%2F2020%2F11%2Ftrasporto_logistica_freshfruits_vegetables.jpg&imgrefurl=https%3A%2F%2Fwww.savinodelbene.com%2Fen%2Fmarkets%2Ffresh-fruit-vegetable%2F&tbnid=6Cgmosjjcxh0cM&vet=12ahUKEwiO5b-buozvAhUOhEsFHaasCvYQMygqegUIARCqAg..i&docid=wh1xHDcNxwVCCM&w=600&h=600&q=fruits&ved=2ahUKEwiO5b-buozvAhUOhEsFHaasCvYQMygqegUIARCqAg\n",
      "https://www.google.com/imgres?imgurl=https%3A%2F%2Fwww.mensjournal.com%2Fwp-content%2Fuploads%2Fmf%2F_power_fruit_pomegranate_0.jpg%3Fquality%3D86%26strip%3Dall&imgrefurl=https%3A%2F%2Fwww.mensjournal.com%2Ffood-drink%2Fthe-best-8-fruits-for-better-health%2F&tbnid=wRHahkTY1MuKhM&vet=12ahUKEwiO5b-buozvAhUOhEsFHaasCvYQMygregUIARCsAg..i&docid=8TxouHmaZ3SGaM&w=1188&h=1028&q=fruits&ved=2ahUKEwiO5b-buozvAhUOhEsFHaasCvYQMygregUIARCsAg\n",
      "https://www.google.com/imgres?imgurl=https%3A%2F%2Fi0.wp.com%2Fimages-prod.healthline.com%2Fhlcmsresource%2Fimages%2Ftopic_centers%2F2020-7%2Ffruit-still-life-1296x728-header.jpg%3Fw%3D1155%26h%3D1528&imgrefurl=https%3A%2F%2Fwww.healthline.com%2Fnutrition%2Fis-fruit-good-or-bad-for-your-health&tbnid=0htpsfBbg53JbM&vet=12ahUKEwiO5b-buozvAhUOhEsFHaasCvYQMygsegUIARCuAg..i&docid=PoMvyC1o2YPkoM&w=1155&h=648&q=fruits&ved=2ahUKEwiO5b-buozvAhUOhEsFHaasCvYQMygsegUIARCuAg\n",
      "https://www.google.com/imgres?imgurl=https%3A%2F%2Fwww.foodsafetynews.com%2Ffiles%2F2020%2F03%2Ffruits-and-vegetables.jpg&imgrefurl=https%3A%2F%2Fwww.foodsafetynews.com%2F2020%2F07%2Fimported-fruit-and-veg-main-problem-in-singaporean-sampling%2F&tbnid=IxjwNtDx6OTqOM&vet=12ahUKEwiO5b-buozvAhUOhEsFHaasCvYQMygtegUIARCwAg..i&docid=m0S5RTCXcJljDM&w=1200&h=680&q=fruits&ved=2ahUKEwiO5b-buozvAhUOhEsFHaasCvYQMygtegUIARCwAg\n",
      "https://www.google.com/imgres?imgurl=https%3A%2F%2Fimg.onmanorama.com%2Fcontent%2Fdam%2Fmm%2Fen%2Ffood%2Ffoodie%2Fimages%2F2020%2F6%2F8%2Ffruits-eat.jpg&imgrefurl=https%3A%2F%2Fwww.onmanorama.com%2Ffood%2Ffeatures%2F2020%2F06%2F08%2Fright-time-to-consume-fruits.html&tbnid=J9brkEpHhm0BbM&vet=12ahUKEwiO5b-buozvAhUOhEsFHaasCvYQMyguegUIARCyAg..i&docid=n4t8M4zX4teMuM&w=1200&h=625&q=fruits&ved=2ahUKEwiO5b-buozvAhUOhEsFHaasCvYQMyguegUIARCyAg\n",
      "https://www.google.com/imgres?imgurl=https%3A%2F%2Fimages.immediate.co.uk%2Fproduction%2Fvolatile%2Fsites%2F30%2F2020%2F02%2FKiwi-fruits-582a07b.jpg%3Fquality%3D90%26resize%3D661%252C600&imgrefurl=https%3A%2F%2Fwww.bbcgoodfood.com%2Fglossary%2Fkiwi-glossary&tbnid=c8XWgHKLqIV-SM&vet=12ahUKEwiO5b-buozvAhUOhEsFHaasCvYQMygvegUIARC0Ag..i&docid=uRF_aXi8BAK7xM&w=661&h=600&q=fruits&ved=2ahUKEwiO5b-buozvAhUOhEsFHaasCvYQMygvegUIARC0Ag\n",
      "https://www.google.com/imgres?imgurl=https%3A%2F%2Fhips.hearstapps.com%2Fhmg-prod.s3.amazonaws.com%2Fimages%2Fassorted-fruit-in-bowl-royalty-free-image-903846026-1545573737.jpg&imgrefurl=https%3A%2F%2Fwww.runnersworld.com%2Fnutrition-weight-loss%2Fa24784787%2Fhealthiest-fruits%2F&tbnid=jj6rFRaldhJEnM&vet=12ahUKEwiO5b-buozvAhUOhEsFHaasCvYQMygwegUIARC2Ag..i&docid=dh2QwmErgo4EeM&w=3863&h=2578&q=fruits&ved=2ahUKEwiO5b-buozvAhUOhEsFHaasCvYQMygwegUIARC2Ag\n",
      "https://www.google.com/imgres?imgurl=https%3A%2F%2Fanalyticsindiamag.com%2Fwp-content%2Fuploads%2F2020%2F06%2FCapture.png&imgrefurl=https%3A%2F%2Fanalyticsindiamag.com%2Ffruit-recognition-using-the-convolutional-neural-network%2F&tbnid=vMKZJRsXsLiPSM&vet=12ahUKEwiO5b-buozvAhUOhEsFHaasCvYQMygxegUIARC4Ag..i&docid=dRmOLq5ajnLaHM&w=570&h=775&q=fruits&ved=2ahUKEwiO5b-buozvAhUOhEsFHaasCvYQMygxegUIARC4Ag\n",
      "https://www.google.com/imgres?imgurl=https%3A%2F%2Ffruitguys.com%2Fwp-content%2Fuploads%2F2019%2F04%2FFruitGuys_FruitColors_2015.jpg&imgrefurl=https%3A%2F%2Ffruitguys.com%2Falmanac%2Finfographics%2Ffield-guide-fruit-colors%2F&tbnid=TJe2zMDnS6FwHM&vet=12ahUKEwiO5b-buozvAhUOhEsFHaasCvYQMygyegQIARBX..i&docid=8Ay_GTtIf04KEM&w=5400&h=7200&q=fruits&ved=2ahUKEwiO5b-buozvAhUOhEsFHaasCvYQMygyegQIARBX\n",
      "https://www.google.com/imgres?imgurl=https%3A%2F%2Fwww.verywellfit.com%2Fthmb%2FTLNW4ayaHb5Qh5spFiRHWQWqsP8%3D%2F500x350%2Ffilters%3Ano_upscale()%3Amax_bytes(150000)%3Astrip_icc()%2Ffruits-and-vegetables_crop-e2d484078f1d405cb2d08dd3fed7092a.jpg&imgrefurl=https%3A%2F%2Fwww.verywellfit.com%2Fgetting-more-fruits-and-vegetables-in-your-diet-2506856&tbnid=U-lPoNrnmkpd5M&vet=12ahUKEwiO5b-buozvAhUOhEsFHaasCvYQMygzegQIARBZ..i&docid=wQFXa2lAQcm_4M&w=500&h=350&q=fruits&ved=2ahUKEwiO5b-buozvAhUOhEsFHaasCvYQMygzegQIARBZ\n",
      "https://www.google.com/imgres?imgurl=https%3A%2F%2Fthumbor.thedailymeal.com%2FBm3fFYuigHsPzID1JpnxP2uk5ks%3D%2F%2Fhttps%3A%2F%2Fwww.thedailymeal.com%2Fsites%2Fdefault%2Ffiles%2Fstory%2F2018%2FiStock-636877252.jpg&imgrefurl=https%3A%2F%2Fwww.thedailymeal.com%2Feat%2Fwhich-fruits-contain-most-sugar&tbnid=KCpiVKQQNNzbsM&vet=12ahUKEwiO5b-buozvAhUOhEsFHaasCvYQMyg0egQIARBb..i&docid=nn6JgbU9SnzpvM&w=2120&h=1415&q=fruits&ved=2ahUKEwiO5b-buozvAhUOhEsFHaasCvYQMyg0egQIARBb\n",
      "https://www.google.com/imgres?imgurl=https%3A%2F%2Fwww.thespruceeats.com%2Fthmb%2FnV8L-tnV0Ir28iQPbrF8prG9QL0%3D%2F2464x1848%2Fsmart%2Ffilters%3Ano_upscale()%2FGettyImages-1084246092-5c200bfac9e77c00017365af.jpg&imgrefurl=https%3A%2F%2Fwww.thespruceeats.com%2Fthai-preparation-of-tropical-fruits-3217092&tbnid=EUdmdsVW2AVrYM&vet=12ahUKEwiO5b-buozvAhUOhEsFHaasCvYQMyg1egQIARBd..i&docid=I5upzGc2-5QX9M&w=2464&h=1848&q=fruits&ved=2ahUKEwiO5b-buozvAhUOhEsFHaasCvYQMyg1egQIARBd\n",
      "https://www.google.com/imgres?imgurl=https%3A%2F%2Fwww.nutritionaction.com%2Fwp-content%2Fuploads%2Fcantaloupe_honeydew_highRes_600pxtall.jpg&imgrefurl=https%3A%2F%2Fwww.nutritionaction.com%2Fdaily%2Fwhat-to-eat%2F5-reasons-to-eat-more-fruit%2F&tbnid=Y1pc2CcRBvEfYM&vet=12ahUKEwiO5b-buozvAhUOhEsFHaasCvYQMyg2egQIARBf..i&docid=aGB_i_GQ-98cpM&w=829&h=600&q=fruits&ved=2ahUKEwiO5b-buozvAhUOhEsFHaasCvYQMyg2egQIARBf\n",
      "https://www.google.com/imgres?imgurl=https%3A%2F%2Fmedia1.popsugar-assets.com%2Ffiles%2Fthumbor%2FrBMlH6V8K60z3QklV_TF1ZfJc-s%2Ffit-in%2F2048xorig%2Ffilters%3Aformat_auto-!!-%3Astrip_icc-!!-%2F2018%2F07%2F17%2F968%2Fn%2F1922729%2F479df6855b4e6a263402a0.48863077_%2Fi%2FWorst-Fruits-Weight-Loss.jpg&imgrefurl=https%3A%2F%2Fwww.popsugar.com%2Ffitness%2FWorst-Fruits-Weight-Loss-45058644&tbnid=Bew-5_DV9-g9NM&vet=12ahUKEwiO5b-buozvAhUOhEsFHaasCvYQMyg3egQIARBh..i&docid=0CFsUcvukMLmXM&w=1999&h=1999&q=fruits&ved=2ahUKEwiO5b-buozvAhUOhEsFHaasCvYQMyg3egQIARBh\n",
      "https://www.google.com/imgres?imgurl=https%3A%2F%2Fwww.eatforhealth.gov.au%2Fsites%2Fdefault%2Ffiles%2Fimages%2Fthe_guidelines%2Ffruit_selection_155265101_web.jpg&imgrefurl=https%3A%2F%2Fwww.eatforhealth.gov.au%2Ffood-essentials%2Ffive-food-groups%2Ffruit&tbnid=0hukMyv7eIUkVM&vet=12ahUKEwiO5b-buozvAhUOhEsFHaasCvYQMyg4egQIARBj..i&docid=pW-PuZS3JWOaAM&w=350&h=209&q=fruits&ved=2ahUKEwiO5b-buozvAhUOhEsFHaasCvYQMyg4egQIARBj\n",
      "https://www.google.com/imgres?imgurl=https%3A%2F%2Fimages.everydayhealth.com%2Fimages%2Fordinary-fruits-with-amazing-health-benefits-10-1440x810.jpg&imgrefurl=https%3A%2F%2Fwww.everydayhealth.com%2Fdiet-nutrition-pictures%2Fthe-healthiest-power-fruits-next-door.aspx&tbnid=RsthFzFLNUsi3M&vet=12ahUKEwiO5b-buozvAhUOhEsFHaasCvYQMyg5egQIARBl..i&docid=R3lz-xhE9kTbgM&w=1440&h=810&q=fruits&ved=2ahUKEwiO5b-buozvAhUOhEsFHaasCvYQMyg5egQIARBl\n",
      "https://www.google.com/imgres?imgurl=https%3A%2F%2Fwww.dietdoctor.com%2Fwp-content%2Fuploads%2F2019%2F03%2FFruits-and-vegetables-guide.jpg&imgrefurl=https%3A%2F%2Fwww.dietdoctor.com%2Flow-carb%2Ffruits-and-vegetables&tbnid=ImRWisbvW9bo1M&vet=12ahUKEwiO5b-buozvAhUOhEsFHaasCvYQMyg6egQIARBn..i&docid=6mtjwg1GeML9LM&w=5000&h=3333&q=fruits&ved=2ahUKEwiO5b-buozvAhUOhEsFHaasCvYQMyg6egQIARBn\n",
      "https://www.google.com/imgres?imgurl=https%3A%2F%2Fwww.luxuryvillasphuketthailand.com%2Fwp-content%2Fuploads%2F2018%2F01%2FFruits-in-Phuket.jpg&imgrefurl=https%3A%2F%2Fwww.luxuryvillasphuketthailand.com%2Ffruits-in-thailand%2F&tbnid=zosadSAHidZ8LM&vet=12ahUKEwiO5b-buozvAhUOhEsFHaasCvYQMyg7egQIARBp..i&docid=fVWXGmQW7Y1i1M&w=1200&h=800&q=fruits&ved=2ahUKEwiO5b-buozvAhUOhEsFHaasCvYQMyg7egQIARBp\n",
      "https://www.google.com/imgres?imgurl=https%3A%2F%2Fwww.quickanddirtytips.com%2Fsites%2Fdefault%2Ffiles%2Fstyles%2Farticle_main_image%2Fpublic%2Fimages%2F16276%2Ffruits-compressor.jpg%3Fitok%3Dgi9Weupv&imgrefurl=https%3A%2F%2Fwww.quickanddirtytips.com%2Fhealth-fitness%2Fhealthy-eating%2Fare-some-fruits-more-fattening-than-others&tbnid=ryySEgrfpneQlM&vet=12ahUKEwiO5b-buozvAhUOhEsFHaasCvYQMyg8egQIARBr..i&docid=qLlrCozPY40t8M&w=700&h=524&q=fruits&ved=2ahUKEwiO5b-buozvAhUOhEsFHaasCvYQMyg8egQIARBr\n",
      "https://www.google.com/imgres?imgurl=https%3A%2F%2Fimg.etimg.com%2Fthumb%2Fwidth-1200%2Cheight-900%2Cimgsize-322201%2Cresizemode-1%2Cmsid-75714887%2Fmagazines%2Fpanache%2Fdoctors-suggest-having-fruits-could-help-keep-coronavirus-at-bay.jpg&imgrefurl=https%3A%2F%2Fm.economictimes.com%2Fmagazines%2Fpanache%2Fdoctors-suggest-having-fruits-could-help-keep-coronavirus-at-bay%2Farticleshow%2F75714887.cms&tbnid=e0fO1mszOgblpM&vet=12ahUKEwiO5b-buozvAhUOhEsFHaasCvYQMyg9egQIARBt..i&docid=MtyBmjuOkw4axM&w=1200&h=900&q=fruits&ved=2ahUKEwiO5b-buozvAhUOhEsFHaasCvYQMyg9egQIARBt\n",
      "https://www.google.com/imgres?imgurl=https%3A%2F%2Fcdn1.sph.harvard.edu%2Fwp-content%2Fuploads%2Fsites%2F30%2F2012%2F09%2Fvegetables-and-fruits-farmers-market.jpg&imgrefurl=https%3A%2F%2Fwww.hsph.harvard.edu%2Fnutritionsource%2Fwhat-should-you-eat%2Fvegetables-and-fruits%2F&tbnid=TquVvUZRjSERZM&vet=12ahUKEwiO5b-buozvAhUOhEsFHaasCvYQMyg-egQIARBv..i&docid=3KdI980rHs9GtM&w=425&h=282&q=fruits&ved=2ahUKEwiO5b-buozvAhUOhEsFHaasCvYQMyg-egQIARBv\n",
      "https://www.google.com/imgres?imgurl=https%3A%2F%2Fstatic01.nyt.com%2Fimages%2F2018%2F05%2F23%2Fdining%2F23fruit%2F23fruit-facebookJumbo.jpg%3Fyear%3D2018%26h%3D550%26w%3D1050%26sig%3D0x49b670c5cde546f84da80ff8b05bec47&imgrefurl=https%3A%2F%2Fwww.nytimes.com%2F2018%2F05%2F22%2Fdining%2Fbest-summer-fruit.html&tbnid=3hqw5TztVGAHcM&vet=12ahUKEwiO5b-buozvAhUOhEsFHaasCvYQMyg_egQIARBx..i&docid=tCIuxVV2nutQeM&w=1050&h=550&q=fruits&ved=2ahUKEwiO5b-buozvAhUOhEsFHaasCvYQMyg_egQIARBx\n",
      "https://www.google.com/imgres?imgurl=https%3A%2F%2Fwww.treehugger.com%2Fthmb%2FQvRzLzfDMiom4QLljXfQQQUuhZ4%3D%2F768x0%2Ffilters%3Ano_upscale()%3Amax_bytes(150000)%3Astrip_icc()%2F__opt__aboutcom__coeus__resources__content_migration__mnn__images__2017__01__Collection-Exotic-Fruits-Wooden-Table-808a6d28dd704338aa8012c5f335a7e7.jpg&imgrefurl=https%3A%2F%2Fwww.treehugger.com%2Ffruits-youve-probably-never-heard-of-4869359&tbnid=Ydna2BPlA_yqGM&vet=12ahUKEwiO5b-buozvAhUOhEsFHaasCvYQMyhAegQIARBz..i&docid=Qmh0mAZCH4MuMM&w=768&h=512&q=fruits&ved=2ahUKEwiO5b-buozvAhUOhEsFHaasCvYQMyhAegQIARBz\n",
      "https://www.google.com/imgres?imgurl=https%3A%2F%2Fsandinmysuitcase.com%2Fwp-content%2Fuploads%2F2020%2F05%2F17-Mexican-Fruits.jpg&imgrefurl=https%3A%2F%2Fsandinmysuitcase.com%2Ffruit-in-mexico%2F&tbnid=1WvrChiYdkJRuM&vet=12ahUKEwiO5b-buozvAhUOhEsFHaasCvYQMyhBegQIARB1..i&docid=KzdW8ghXLKdYNM&w=650&h=975&q=fruits&ved=2ahUKEwiO5b-buozvAhUOhEsFHaasCvYQMyhBegQIARB1\n",
      "https://www.google.com/imgres?imgurl=https%3A%2F%2Fstatic.scientificamerican.com%2Fsciam%2Fcache%2Ffile%2F528E0B49-CDD0-42D4-B5BAA3EBAEC01AE6_source.jpg%3Fw%3D590%26h%3D800%262BDA5AE7-F98A-493B-A10B4C078F76B21B&imgrefurl=https%3A%2F%2Fwww.scientificamerican.com%2Farticle%2Fare-some-fruits-more-fattening-than-others%2F&tbnid=cem0x9CwJUIx3M&vet=12ahUKEwiO5b-buozvAhUOhEsFHaasCvYQMyhCegQIARB3..i&docid=bVmouGp43UJz2M&w=590&h=427&q=fruits&ved=2ahUKEwiO5b-buozvAhUOhEsFHaasCvYQMyhCegQIARB3\n",
      "https://www.google.com/imgres?imgurl=https%3A%2F%2Fstatic.toiimg.com%2Fphoto%2F78607953.cms&imgrefurl=https%3A%2F%2Ftimesofindia.indiatimes.com%2Flife-style%2Ffood-news%2Frare-indian-fruits-that-you-need-to-know-about%2Fphotostory%2F78607864.cms&tbnid=cgfXAGeo4yAgjM&vet=12ahUKEwiO5b-buozvAhUOhEsFHaasCvYQMyhDegQIARB5..i&docid=3v5ehXqBnzBkyM&w=1200&h=900&q=fruits&ved=2ahUKEwiO5b-buozvAhUOhEsFHaasCvYQMyhDegQIARB5\n",
      "https://www.google.com/imgres?imgurl=https%3A%2F%2Fimagesvc.meredithcorp.io%2Fv3%2Fmm%2Fimage%3Furl%3Dhttps%253A%252F%252Fstatic.onecms.io%252Fwp-content%252Fuploads%252Fsites%252F37%252F2019%252F09%252F10184935%252Fred-green-apples-leaves-6fb7c0ca.jpg&imgrefurl=https%3A%2F%2Fwww.bhg.com%2Frecipes%2Fhealthy%2Feating%2Ffruits-good-for-the-heart%2F&tbnid=SnyXiXFMjRogoM&vet=12ahUKEwiO5b-buozvAhUOhEsFHaasCvYQMyhEegQIARB7..i&docid=ifP4N-TkFf6B3M&w=1244&h=1866&q=fruits&ved=2ahUKEwiO5b-buozvAhUOhEsFHaasCvYQMyhEegQIARB7\n",
      "https://www.google.com/imgres?imgurl=https%3A%2F%2Fimg.theweek.in%2Fcontent%2Fdam%2Fweek%2Fnews%2Fsci-tech%2F2019%2FMay%2Ffood-fruit-basket-vegetarian-fruits-eat-healthy-nature-shut.jpg&imgrefurl=https%3A%2F%2Fwww.theweek.in%2Fnews%2Fhealth%2F2020%2F02%2F20%2FEating-fruits-vegetables-linked-to-lessening-of-menopause-symptoms-Study.html&tbnid=0jsBd7rzx0av-M&vet=12ahUKEwiO5b-buozvAhUOhEsFHaasCvYQMyhFegQIARB9..i&docid=jyQLI-vMGDp28M&w=760&h=443&q=fruits&ved=2ahUKEwiO5b-buozvAhUOhEsFHaasCvYQMyhFegQIARB9\n",
      "https://www.google.com/imgres?imgurl=https%3A%2F%2Fimage.shutterstock.com%2Fimage-photo%2Fassortment-different-fruits-berries-flat-260nw-1395910394.jpg&imgrefurl=https%3A%2F%2Fwww.shutterstock.com%2Fsearch%2Ffruits&tbnid=4ITBkebCMnb0oM&vet=12ahUKEwiO5b-buozvAhUOhEsFHaasCvYQMyhGegQIARB_..i&docid=lvpG_QOogetTRM&w=760&h=280&q=fruits&ved=2ahUKEwiO5b-buozvAhUOhEsFHaasCvYQMyhGegQIARB_\n",
      "https://www.google.com/imgres?imgurl=https%3A%2F%2Fc.ndtvimg.com%2Ffruits_625x300_1526984615609.jpg%3Fdownsize%3D360%3A*&imgrefurl=https%3A%2F%2Fwww.ndtv.com%2Fhealth%2Fwhat-is-better-eating-fruits-with-a-meal-or-after-a-meal-expert-gives-the-answer-2371523&tbnid=P7CL-62kY1V7uM&vet=12ahUKEwiO5b-buozvAhUOhEsFHaasCvYQMyhHegUIARCCAQ..i&docid=mft_V4xTlxL87M&w=360&h=192&itg=1&q=fruits&ved=2ahUKEwiO5b-buozvAhUOhEsFHaasCvYQMyhHegUIARCCAQ\n",
      "https://www.google.com/imgres?imgurl=https%3A%2F%2Fstatic01.nyt.com%2Fimages%2F2018%2F03%2F07%2Fdining%2F00IMPORTS%2F00IMPORTS-articleLarge.gif%3Fquality%3D75%26auto%3Dwebp%26disable%3Dupscale&imgrefurl=https%3A%2F%2Fwww.nytimes.com%2F2018%2F03%2F13%2Fdining%2Ffruit-vegetables-imports.html&tbnid=rZ1IuXgVhvcaxM&vet=12ahUKEwiO5b-buozvAhUOhEsFHaasCvYQMyhIegUIARCEAQ..i&docid=TYutrZ_sMOZOLM&w=600&h=600&q=fruits&ved=2ahUKEwiO5b-buozvAhUOhEsFHaasCvYQMyhIegUIARCEAQ\n",
      "https://www.google.com/imgres?imgurl=https%3A%2F%2Fthepaleodiet-assets.s3.amazonaws.com%2Fimages%2FRecipes%2F_1200x630_crop_center-center_82_none%2FFruit.jpg%3Fmtime%3D20200514115951%26focal%3Dnone%26tmtime%3D20210112140723&imgrefurl=https%3A%2F%2Fthepaleodiet.com%2Ffruits-and-sugars&tbnid=Vltce3cpkjruMM&vet=12ahUKEwiO5b-buozvAhUOhEsFHaasCvYQMyhKegUIARCOAQ..i&docid=KJLeTDZjOvz7QM&w=1200&h=630&q=fruits&ved=2ahUKEwiO5b-buozvAhUOhEsFHaasCvYQMyhKegUIARCOAQ\n",
      "https://www.google.com/imgres?imgurl=http%3A%2F%2Fres.cloudinary.com%2Fsimpleview%2Fimage%2Fupload%2Fv1537562280%2Fclients%2Fguam%2FChamorroCulture_Nature_Fruits2_e3348127-3f0d-4c64-9da5-8039b4f1ad65.jpg&imgrefurl=https%3A%2F%2Fwww.visitguam.com%2Fchamorro-culture%2Fnature%2Ffruits%2F&tbnid=MyA5uamAD6-ttM&vet=12ahUKEwiO5b-buozvAhUOhEsFHaasCvYQMyhLegUIARCQAQ..i&docid=OgUXX2jRqtnuUM&w=4928&h=3264&q=fruits&ved=2ahUKEwiO5b-buozvAhUOhEsFHaasCvYQMyhLegUIARCQAQ\n",
      "https://www.google.com/imgres?imgurl=https%3A%2F%2Fi.guim.co.uk%2Fimg%2Fmedia%2F6b4ecb8419da52aeaee10abbedd3f03048acf722%2F0_161_4928_2957%2Fmaster%2F4928.jpg%3Fwidth%3D1200%26height%3D900%26quality%3D85%26auto%3Dformat%26fit%3Dcrop%26s%3D4893ad925ffa20886636bcb80c70874b&imgrefurl=https%3A%2F%2Fwww.theguardian.com%2Flifeandstyle%2F2017%2Ffeb%2F24%2Fmeet-people-eat-10-portions-fruit-vegetables-day&tbnid=tZpmBmpCuO8AMM&vet=12ahUKEwiO5b-buozvAhUOhEsFHaasCvYQMyhMegUIARCSAQ..i&docid=VgnShZHTUBVESM&w=1200&h=900&q=fruits&ved=2ahUKEwiO5b-buozvAhUOhEsFHaasCvYQMyhMegUIARCSAQ\n",
      "https://www.google.com/imgres?imgurl=https%3A%2F%2Fwww.theland.com.au%2Fimages%2Ftransform%2Fv1%2Fcrop%2Ffrm%2FF96xjWybVc3FcQiiSwA3u6%2F04b088bc-0470-45f3-99e9-f5ff6e28d6e1.jpg%2Fr0_236_4608_2837_w1200_h678_fmax.jpg&imgrefurl=https%3A%2F%2Fwww.theland.com.au%2Fstory%2F7072134%2F2021-declared-international-year-of-fruit-and-vegetables%2F&tbnid=aSAxopuu22oZRM&vet=12ahUKEwiO5b-buozvAhUOhEsFHaasCvYQMyhNegUIARCUAQ..i&docid=hZjex8zIUQfHkM&w=1200&h=677&q=fruits&ved=2ahUKEwiO5b-buozvAhUOhEsFHaasCvYQMyhNegUIARCUAQ\n",
      "https://www.google.com/imgres?imgurl=https%3A%2F%2Fwww.tasteofhome.com%2Fwp-content%2Fuploads%2F2019%2F04%2Fpineapple-shutterstock_1068040016.jpg&imgrefurl=https%3A%2F%2Fwww.tasteofhome.com%2Fcollection%2Ffruits-for-diabetics-to-avoid%2F&tbnid=0WnLsztd2CP4pM&vet=12ahUKEwiO5b-buozvAhUOhEsFHaasCvYQMyhOegUIARCWAQ..i&docid=dGTnvnxTWM-2RM&w=1200&h=1200&q=fruits&ved=2ahUKEwiO5b-buozvAhUOhEsFHaasCvYQMyhOegUIARCWAQ\n",
      "https://www.google.com/imgres?imgurl=https%3A%2F%2Fhips.hearstapps.com%2Fhmg-prod.s3.amazonaws.com%2Fimages%2Fvariation-of-fresh-fruits-and-vegetables-on-market-royalty-free-image-1089443188-1560798730.jpg&imgrefurl=https%3A%2F%2Fwww.delish.com%2Ffood%2Fa28072385%2Fbest-fall-fruits-vegetables%2F&tbnid=vGmx1zHqnZ-gyM&vet=12ahUKEwiO5b-buozvAhUOhEsFHaasCvYQMyhPegUIARCYAQ..i&docid=FXJVI2uIIpEISM&w=768&h=512&q=fruits&ved=2ahUKEwiO5b-buozvAhUOhEsFHaasCvYQMyhPegUIARCYAQ\n",
      "https://www.google.com/imgres?imgurl=https%3A%2F%2Fstatic.onecms.io%2Fwp-content%2Fuploads%2Fsites%2F23%2F2020%2F06%2F01%2Fbest-summer-fruits-2000.jpg&imgrefurl=https%3A%2F%2Fwww.realsimple.com%2Ffood-recipes%2Fshopping-storing%2Ffood%2Fsummer-vegetables-fruits&tbnid=FLCx_Lqp6cz3KM&vet=12ahUKEwiO5b-buozvAhUOhEsFHaasCvYQMyhQegUIARCaAQ..i&docid=h6vPe16y2D_PXM&w=2000&h=1333&q=fruits&ved=2ahUKEwiO5b-buozvAhUOhEsFHaasCvYQMyhQegUIARCaAQ\n",
      "https://www.google.com/imgres?imgurl=https%3A%2F%2Farticle.innovadatabase.com%2Farticleimgs%2Farticle_images%2F637437091840703423fruit%2520%26%2520veg.jpeg&imgrefurl=https%3A%2F%2Fwww.foodingredientsfirst.com%2Fnews%2Finternational-year-of-fruits-and-vegetables-2021-official-launched-as-fao-urges-fixes-to-food-systems.html&tbnid=SVYuPJCJvaJLQM&vet=12ahUKEwiO5b-buozvAhUOhEsFHaasCvYQMyhRegUIARCcAQ..i&docid=Uy-SyPMWMrwBTM&w=800&h=800&q=fruits&ved=2ahUKEwiO5b-buozvAhUOhEsFHaasCvYQMyhRegUIARCcAQ\n",
      "https://www.google.com/imgres?imgurl=https%3A%2F%2Fwww.pubhort.org%2Ffruits%2F76%2F1%2F2%2Fga.jpeg&imgrefurl=https%3A%2F%2Fwww.pubhort.org%2Ffruits%2F&tbnid=IxOiiuf_FrZx0M&vet=12ahUKEwiO5b-buozvAhUOhEsFHaasCvYQMyhSegUIARCeAQ..i&docid=3dOf2v3h6h5U9M&w=512&h=256&q=fruits&ved=2ahUKEwiO5b-buozvAhUOhEsFHaasCvYQMyhSegUIARCeAQ\n",
      "https://www.google.com/imgres?imgurl=https%3A%2F%2Fhips.hearstapps.com%2Fhmg-prod.s3.amazonaws.com%2Fimages%2Fgettyimages-707450939-1585077934.jpg%3Fcrop%3D1.00xw%3A0.668xh%3B0%2C0%26resize%3D640%3A*&imgrefurl=https%3A%2F%2Fwww.womenshealthmag.com%2Fweight-loss%2Fg31903094%2Ffruits-for-weight-loss%2F&tbnid=NVFpkMu1f9_pqM&vet=12ahUKEwiO5b-buozvAhUOhEsFHaasCvYQMyhTegUIARCgAQ..i&docid=nJ1nby7VMXnlXM&w=640&h=641&q=fruits&ved=2ahUKEwiO5b-buozvAhUOhEsFHaasCvYQMyhTegUIARCgAQ\n",
      "https://www.google.com/imgres?imgurl=https%3A%2F%2Fwww.verywellfit.com%2Fthmb%2Fj1qR83ZiIyfyvMTp08gidOAMXKw%3D%2F3000x2002%2Ffilters%3Afill(FFDB5D%2C1)%2Flow-in-sugar-fruits_crop-e7e2361ab34641b4b529df389ce88e34.jpg&imgrefurl=https%3A%2F%2Fwww.verywellfit.com%2Flow-carb-fruit-list-2242528&tbnid=-RSnCGSTGjQhuM&vet=12ahUKEwiO5b-buozvAhUOhEsFHaasCvYQMyhUegUIARCiAQ..i&docid=-DeSE_ceMm6uVM&w=3000&h=2002&q=fruits&ved=2ahUKEwiO5b-buozvAhUOhEsFHaasCvYQMyhUegUIARCiAQ\n",
      "https://www.google.com/imgres?imgurl=https%3A%2F%2Fimg.webmd.com%2Fdtmcms%2Flive%2Fwebmd%2Fconsumer_assets%2Fsite_images%2Farticle_thumbnails%2Fslideshows%2Fwhich_fruits_have_the_most_sugar_slideshow%2F650x350_which_fruits_have_the_most_sugar_slideshow.jpg&imgrefurl=https%3A%2F%2Fwww.webmd.com%2Fdiet%2Fss%2Fslideshow-fruit-sugar&tbnid=oqVfOKB0nyLDyM&vet=12ahUKEwiO5b-buozvAhUOhEsFHaasCvYQMyhVegUIARCkAQ..i&docid=-4a9P5QGt_pkRM&w=650&h=350&q=fruits&ved=2ahUKEwiO5b-buozvAhUOhEsFHaasCvYQMyhVegUIARCkAQ\n",
      "https://www.google.com/imgres?imgurl=http%3A%2F%2Fc.files.bbci.co.uk%2F138DA%2Fproduction%2F_113109008_fruitandveg.jpg&imgrefurl=https%3A%2F%2Fwww.bbc.co.uk%2Fnewsround%2F53195056&tbnid=M3g_dFFPr4XzxM&vet=12ahUKEwiO5b-buozvAhUOhEsFHaasCvYQMyhWegUIARCmAQ..i&docid=N6QMv1l3XKU_yM&w=1024&h=576&q=fruits&ved=2ahUKEwiO5b-buozvAhUOhEsFHaasCvYQMyhWegUIARCmAQ\n",
      "https://www.google.com/imgres?imgurl=https%3A%2F%2Fi.ytimg.com%2Fvi%2FcthLdPrK4IU%2Fmaxresdefault.jpg&imgrefurl=https%3A%2F%2Fwww.youtube.com%2Fwatch%3Fv%3DcthLdPrK4IU&tbnid=L42m7B1wbf_47M&vet=12ahUKEwiO5b-buozvAhUOhEsFHaasCvYQMyhXegUIARCoAQ..i&docid=vhFvWw8ZC4nU2M&w=1280&h=720&q=fruits&ved=2ahUKEwiO5b-buozvAhUOhEsFHaasCvYQMyhXegUIARCoAQ\n",
      "https://www.google.com/imgres?imgurl=https%3A%2F%2Fmedia.cntraveler.com%2Fphotos%2F546976f2cbbd2620680d9f2f%2F16%3A9%2Fw_2048%2Ch_1152%2Cc_limit%2Frare-fruits-tout.jpg&imgrefurl=https%3A%2F%2Fwww.cntraveler.com%2Fgalleries%2F2014-11-17%2F11-unusual-fruits-you-should-try-on-your-next-trip&tbnid=pjjG7ftPY7_5JM&vet=12ahUKEwiO5b-buozvAhUOhEsFHaasCvYQMyhYegUIARCrAQ..i&docid=aErxHwMPKP6zpM&w=2048&h=1152&q=fruits&ved=2ahUKEwiO5b-buozvAhUOhEsFHaasCvYQMyhYegUIARCrAQ\n",
      "https://www.google.com/imgres?imgurl=https%3A%2F%2F2rdnmg1qbg403gumla1v9i2h-wpengine.netdna-ssl.com%2Fwp-content%2Fuploads%2Fsites%2F3%2F2016%2F10%2FhealthyFruit-517472788-770x533-1-650x428.jpg&imgrefurl=https%3A%2F%2Fhealth.clevelandclinic.org%2F5-fruits-that-deserve-the-buzz-your-dietitians-picks%2F&tbnid=uGhqjkS_zaRa_M&vet=12ahUKEwiO5b-buozvAhUOhEsFHaasCvYQMyhZegUIARCtAQ..i&docid=KH9MlLPuuBVuEM&w=650&h=428&q=fruits&ved=2ahUKEwiO5b-buozvAhUOhEsFHaasCvYQMyhZegUIARCtAQ\n",
      "https://www.google.com/imgres?imgurl=https%3A%2F%2Fwww.wellthy.care%2Fwp-content%2Fuploads%2F2019%2F07%2Fheart-health-diet-fruits-696x522.jpg&imgrefurl=https%3A%2F%2Fwww.wellthy.care%2Fheart-health-diet-fruits%2F&tbnid=N-C7CNACG-dGDM&vet=12ahUKEwiO5b-buozvAhUOhEsFHaasCvYQMyhaegUIARCvAQ..i&docid=Is3l0UF9tIAz4M&w=696&h=522&q=fruits&ved=2ahUKEwiO5b-buozvAhUOhEsFHaasCvYQMyhaegUIARCvAQ\n",
      "https://www.google.com/imgres?imgurl=https%3A%2F%2Fimage.sciencenordic.com%2F1452923.jpg%3FimageId%3D1452923%26panow%3D0%26panoh%3D0%26panox%3D0%26panoy%3D0%26heightw%3D0%26heighth%3D0%26heightx%3D0%26heighty%3D0%26width%3D1200%26height%3D630&imgrefurl=https%3A%2F%2Fsciencenordic.com%2Fa%2F1452912&tbnid=hpq6JMpl_3sIoM&vet=12ahUKEwiO5b-buozvAhUOhEsFHaasCvYQMyhbegUIARCxAQ..i&docid=hX-uaalRxExHCM&w=1200&h=630&q=fruits&ved=2ahUKEwiO5b-buozvAhUOhEsFHaasCvYQMyhbegUIARCxAQ\n",
      "https://www.google.com/imgres?imgurl=https%3A%2F%2Fi2.wp.com%2Fwww.eatthis.com%2Fwp-content%2Fuploads%2F%2Fmedia%2Fimages%2Fext%2F735766636%2Fplums.jpg%3Fresize%3D640%252C360%26ssl%3D1&imgrefurl=https%3A%2F%2Fwww.eatthis.com%2Ffruit-sugar%2F&tbnid=K_14FRkEwsSJKM&vet=12ahUKEwiO5b-buozvAhUOhEsFHaasCvYQMyhcegUIARCzAQ..i&docid=531hWk19qX9jJM&w=640&h=360&q=fruits&ved=2ahUKEwiO5b-buozvAhUOhEsFHaasCvYQMyhcegUIARCzAQ\n",
      "https://www.google.com/imgres?imgurl=https%3A%2F%2Fresize.indiatvnews.com%2Fen%2Fresize%2Fnewbucket%2F715_-%2F2020%2F11%2Ffruits-1606296336.jpg&imgrefurl=https%3A%2F%2Fwww.indiatvnews.com%2Fhealth%2Fwhen-is-the-ideal-time-to-have-fruits-667323&tbnid=zF0F8NSqp627qM&vet=12ahUKEwiO5b-buozvAhUOhEsFHaasCvYQMyhdegUIARC1AQ..i&docid=id6hi-GqeHawiM&w=715&h=402&q=fruits&ved=2ahUKEwiO5b-buozvAhUOhEsFHaasCvYQMyhdegUIARC1AQ\n",
      "https://www.google.com/imgres?imgurl=https%3A%2F%2Fhips.hearstapps.com%2Fhmg-prod.s3.amazonaws.com%2Fimages%2Fcluster-of-rambutan-fruits-a-close-relative-to-the-lychee-news-photo-1603480462.jpg%3Fcrop%3D1.00xw%3A0.752xh%3B0%2C0.00962xh%26resize%3D1200%3A*&imgrefurl=https%3A%2F%2Fwww.womansday.com%2Ffood-recipes%2Ffood-drinks%2Fa2381%2F10-exotic-fruits-youve-probably-never-tried-116713%2F&tbnid=UuiY7AIdV_-e5M&vet=12ahUKEwiO5b-buozvAhUOhEsFHaasCvYQMyheegUIARC3AQ..i&docid=S-Nq-_stqEdzcM&w=1024&h=513&q=fruits&ved=2ahUKEwiO5b-buozvAhUOhEsFHaasCvYQMyheegUIARC3AQ\n",
      "https://www.google.com/imgres?imgurl=https%3A%2F%2Fwww.dietdoctor.com%2Fwp-content%2Fuploads%2F2016%2F03%2FLow-Carb-Fruits-1-2400x1441-1.jpg&imgrefurl=https%3A%2F%2Fwww.dietdoctor.com%2Flow-carb%2Ffruits&tbnid=SjM3HzLJVFcasM&vet=12ahUKEwiO5b-buozvAhUOhEsFHaasCvYQMyhfegUIARC5AQ..i&docid=7dBL_WEHJtrg8M&w=2400&h=1441&q=fruits&ved=2ahUKEwiO5b-buozvAhUOhEsFHaasCvYQMyhfegUIARC5AQ\n",
      "https://www.google.com/imgres?imgurl=https%3A%2F%2Fwww.mayoclinichealthsystem.org%2F-%2Fmedia%2Fnational-files%2Fimages%2Fhometown-health%2F2019%2F123-fruits-and-vegetables.jpg&imgrefurl=https%3A%2F%2Fwww.mayoclinichealthsystem.org%2Fhometown-health%2Fspeaking-of-health%2F123-approach-to-eating-fruits-and-vegetables&tbnid=UK20Um9UaULj6M&vet=12ahUKEwiO5b-buozvAhUOhEsFHaasCvYQMyhgegUIARC7AQ..i&docid=oVNBwd3ArZyRzM&w=660&h=370&q=fruits&ved=2ahUKEwiO5b-buozvAhUOhEsFHaasCvYQMyhgegUIARC7AQ\n",
      "https://www.google.com/imgres?imgurl=https%3A%2F%2Fcdn.britannica.com%2F06%2F75906-050-16A53398%2Fmango-fruits.jpg&imgrefurl=https%3A%2F%2Fwww.britannica.com%2Ftopic%2Ffruit-food&tbnid=gRWyDqHB6uR5PM&vet=12ahUKEwiO5b-buozvAhUOhEsFHaasCvYQMyhhegUIARC9AQ..i&docid=DWIodFKsyPK-SM&w=1600&h=1279&q=fruits&ved=2ahUKEwiO5b-buozvAhUOhEsFHaasCvYQMyhhegUIARC9AQ\n",
      "https://www.google.com/imgres?imgurl=https%3A%2F%2Fwww.mensjournal.com%2Fwp-content%2Fuploads%2Fmf%2F_power_fruit_apple.jpg%3Fquality%3D86%26strip%3Dall&imgrefurl=https%3A%2F%2Fwww.mensjournal.com%2Ffood-drink%2Fthe-best-8-fruits-for-better-health%2F&tbnid=uKzldwYKL1N1gM&vet=12ahUKEwiO5b-buozvAhUOhEsFHaasCvYQMyhjegUIARDGAQ..i&docid=8TxouHmaZ3SGaM&w=1188&h=1028&q=fruits&ved=2ahUKEwiO5b-buozvAhUOhEsFHaasCvYQMyhjegUIARDGAQ\n",
      "https://www.google.com/imgres?imgurl=http%3A%2F%2Fwww.thatsmags.com%2Fimage%2Fview%2F202010%2FFruits.jpg&imgrefurl=https%3A%2F%2Fwww.thatsmags.com%2Fchina%2Fpost%2F31837%2F25-asian-fruits-ranked-from-delicious-to-disgusting-10-to-25&tbnid=OLLM02orTyvQYM&vet=12ahUKEwiO5b-buozvAhUOhEsFHaasCvYQMyhkegUIARDIAQ..i&docid=3dF_4a5y0MjdiM&w=800&h=535&q=fruits&ved=2ahUKEwiO5b-buozvAhUOhEsFHaasCvYQMyhkegUIARDIAQ\n",
      "https://www.google.com/imgres?imgurl=https%3A%2F%2Fhips.hearstapps.com%2Fhmg-prod.s3.amazonaws.com%2Fimages%2Fsummer-superfoods-1531409632.jpg%3Fcrop%3D1.00xw%3A0.649xh%3B0%2C0.243xh%26resize%3D480%3A*&imgrefurl=https%3A%2F%2Fwww.goodhousekeeping.com%2Fhealth%2Fdiet-nutrition%2Fg4455%2Fsummer-superfoods-list%2F&tbnid=7ZBOCS1nezP0zM&vet=12ahUKEwiO5b-buozvAhUOhEsFHaasCvYQMyhlegUIARDKAQ..i&docid=DwTo_FiEFF6qIM&w=480&h=240&q=fruits&ved=2ahUKEwiO5b-buozvAhUOhEsFHaasCvYQMyhlegUIARDKAQ\n",
      "https://www.google.com/imgres?imgurl=https%3A%2F%2Fwww.news-medical.net%2Fimage.axd%3Fpicture%3D2020%252F1%252Fshutterstock_321864554.jpg&imgrefurl=https%3A%2F%2Fwww.news-medical.net%2Fhealth%2FHow-Dangerous-is-a-Lack-of-Fruit-and-Vegetables.aspx&tbnid=yUKi2ZoHAFzwwM&vet=12ahUKEwiO5b-buozvAhUOhEsFHaasCvYQMyhmegUIARDMAQ..i&docid=Vk3V9bMBx1L26M&w=673&h=448&q=fruits&ved=2ahUKEwiO5b-buozvAhUOhEsFHaasCvYQMyhmegUIARDMAQ\n"
     ]
    }
   ],
   "source": [
    "urls = driver.find_elements_by_xpath(\"//a[@class='wXeWr islib nfEiy mM5pbd']\")\n",
    "\n",
    "for urls in urls[0:100]:\n",
    "    \n",
    "        driver.find_element_by_xpath(\"//div[@class='bRMDJf islir']\").click()        \n",
    "\n",
    "        \n",
    "\n",
    "        print(urls.get_attribute(\"href\"))"
   ]
  },
  {
   "cell_type": "code",
   "execution_count": 20,
   "metadata": {},
   "outputs": [],
   "source": [
    " driver = webdriver.Chrome(\"C:/Users/CHITRAK/Downloads/chromedriver.exe\")"
   ]
  },
  {
   "cell_type": "code",
   "execution_count": 21,
   "metadata": {},
   "outputs": [],
   "source": [
    "driver.get('https://images.google.com/?gws_rd=ssl')"
   ]
  },
  {
   "cell_type": "code",
   "execution_count": 22,
   "metadata": {},
   "outputs": [],
   "source": [
    "search_bar = driver.find_element_by_xpath('//input[@class=\"gLFyf gsfi\"]')\n",
    "search_bar.clear()\n",
    "search_bar.send_keys('cars')                                  \n",
    "search_button = driver.find_element_by_xpath('//span[@class=\"z1asCe MZy1Rb\"]')\n",
    "search_button.click() "
   ]
  },
  {
   "cell_type": "code",
   "execution_count": 31,
   "metadata": {},
   "outputs": [
    {
     "name": "stdout",
     "output_type": "stream",
     "text": [
      "https://www.google.com/imgres?imgurl=https%3A%2F%2Fspecials-images.forbesimg.com%2Fimageserve%2F5d3703e2f1176b00089761a6%2F960x0.jpg%3FcropX1%3D836%26cropX2%3D5396%26cropY1%3D799%26cropY2%3D3364&imgrefurl=https%3A%2F%2Fwww.forbes.com%2Fsites%2Fjimgorzelany%2F2019%2F07%2F23%2Fhere-are-the-coolest-new-cars-for-2020%2F&tbnid=2HR6gA81oIwMTM&vet=12ahUKEwjdscDdvIzvAhW-_TgGHVCnBvEQMygAegUIARDOAQ..i&docid=HZLLyFhoQjvNCM&w=960&h=540&q=cars&ved=2ahUKEwjdscDdvIzvAhW-_TgGHVCnBvEQMygAegUIARDOAQ\n",
      "https://www.google.com/imgres?imgurl=https%3A%2F%2Fmedia.wired.com%2Fphotos%2F5d09594a62bcb0c9752779d9%2F1%3A1%2Fw_1500%2Ch_1500%2Cc_limit%2FTranspo_G70_TA-518126.jpg&imgrefurl=https%3A%2F%2Fwww.wired.com%2Fstory%2Fjd-power-korean-cars-beat-us-europe-quality%2F&tbnid=70qyfnrS9vvQHM&vet=12ahUKEwjdscDdvIzvAhW-_TgGHVCnBvEQMygBegUIARDQAQ..i&docid=tPMJM81OaxoalM&w=1500&h=1500&q=cars&ved=2ahUKEwjdscDdvIzvAhW-_TgGHVCnBvEQMygBegUIARDQAQ\n",
      "https://www.google.com/imgres?imgurl=https%3A%2F%2Fwww.extremetech.com%2Fwp-content%2Fuploads%2F2019%2F12%2FSONATA-hero-option1-764A5360-edit.jpg&imgrefurl=https%3A%2F%2Fwww.extremetech.com%2Fextreme%2F303740-car-of-the-year-extremetechs-best-cars-for-2020&tbnid=yTUc1B6nwrsI_M&vet=12ahUKEwjdscDdvIzvAhW-_TgGHVCnBvEQMygCegUIARDSAQ..i&docid=WRUkA1xe_6Tf7M&w=1344&h=743&q=cars&ved=2ahUKEwjdscDdvIzvAhW-_TgGHVCnBvEQMygCegUIARDSAQ\n",
      "https://www.google.com/imgres?imgurl=https%3A%2F%2Fetimg.etb2bimg.com%2Fphoto%2F73002933.cms&imgrefurl=https%3A%2F%2Fauto.economictimes.indiatimes.com%2Fnews%2Fpassenger-vehicle%2Fcars%2Fhalf-a-dozen-cars-coming-in-january-2020%2F73002945&tbnid=37PTwn9iAFpySM&vet=12ahUKEwjdscDdvIzvAhW-_TgGHVCnBvEQMygDegUIARDUAQ..i&docid=54GY1qfFc4KqEM&w=4000&h=3000&q=cars&ved=2ahUKEwjdscDdvIzvAhW-_TgGHVCnBvEQMygDegUIARDUAQ\n",
      "https://www.google.com/imgres?imgurl=https%3A%2F%2Fstatic-ssl.businessinsider.com%2Fimage%2F5d9b5bff52887931e8497a36-1405%2F141222twnmustang.jpg&imgrefurl=https%3A%2F%2Fwww.businessinsider.in%2Fbusiness%2Fnews%2Fthis-list-of-the-10-new-cars-owners-keep-the-longest-reveals-just-how-much-american-love-their-suvs-and-sports-cars%2Farticleshow%2F71543233.cms&tbnid=UZpOzbvi1JdxIM&vet=12ahUKEwjdscDdvIzvAhW-_TgGHVCnBvEQMygEegUIARDWAQ..i&docid=u6HP5iWc-iqq8M&w=1405&h=1054&q=cars&ved=2ahUKEwjdscDdvIzvAhW-_TgGHVCnBvEQMygEegUIARDWAQ\n",
      "https://www.google.com/imgres?imgurl=https%3A%2F%2Fassets.bwbx.io%2Fimages%2Fusers%2FiqjWHBFdfxIU%2Fiho0QqgeF4K8%2Fv1%2F1000x-1.jpg&imgrefurl=https%3A%2F%2Fwww.bloomberg.com%2Fnews%2Farticles%2F2020-04-23%2Finvisibility-cloaks-and-air-purifiers-how-covid-will-change-cars&tbnid=tvbVeBbasbzF6M&vet=12ahUKEwjdscDdvIzvAhW-_TgGHVCnBvEQMygFegUIARDYAQ..i&docid=m-hsIunDPJUjnM&w=1000&h=666&q=cars&ved=2ahUKEwjdscDdvIzvAhW-_TgGHVCnBvEQMygFegUIARDYAQ\n",
      "https://www.google.com/imgres?imgurl=https%3A%2F%2Fwww.focus2move.com%2Fwp-content%2Fuploads%2F2020%2F08%2FTesla-Roadster-2020-1024-03.jpg&imgrefurl=https%3A%2F%2Fwww.focus2move.com%2Fworld-cars-brand-ranking%2F&tbnid=f1vt403BeW-nFM&vet=12ahUKEwjdscDdvIzvAhW-_TgGHVCnBvEQMygGegUIARDaAQ..i&docid=VQ1Ug9pU43k5oM&w=1024&h=768&q=cars&ved=2ahUKEwjdscDdvIzvAhW-_TgGHVCnBvEQMygGegUIARDaAQ\n",
      "https://www.google.com/imgres?imgurl=https%3A%2F%2Fwww.aitrends.com%2Fwp-content%2Fuploads%2F2019%2F09%2F9-13SportsCar-2.jpg&imgrefurl=https%3A%2F%2Fwww.aitrends.com%2Fai-insider%2Ftop-end-sports-cars-as-ai-autonomous-vehicles%2F&tbnid=pdo43_2PEwdyjM&vet=12ahUKEwjdscDdvIzvAhW-_TgGHVCnBvEQMygHegUIARDcAQ..i&docid=Rmox5i_0kLzJxM&w=600&h=400&q=cars&ved=2ahUKEwjdscDdvIzvAhW-_TgGHVCnBvEQMygHegUIARDcAQ\n",
      "https://www.google.com/imgres?imgurl=http%3A%2F%2Fprod-upp-image-read.ft.com%2Fa4e8f394-313b-11ea-a329-0bcf87a328f2&imgrefurl=https%3A%2F%2Fwww.ft.com%2Fcontent%2F8089bb56-30fe-11ea-9703-eea0cae3f0de&tbnid=cB0JI16dIfkHWM&vet=12ahUKEwjdscDdvIzvAhW-_TgGHVCnBvEQMygIegUIARDeAQ..i&docid=IwUyF1IRuaf7pM&w=2048&h=1152&q=cars&ved=2ahUKEwjdscDdvIzvAhW-_TgGHVCnBvEQMygIegUIARDeAQ\n",
      "https://www.google.com/imgres?imgurl=https%3A%2F%2Fhips.hearstapps.com%2Fhmg-prod.s3.amazonaws.com%2Fimages%2Fbugatti-chiron-pur-sport-106-1582836604.jpg&imgrefurl=https%3A%2F%2Fwww.caranddriver.com%2Ffeatures%2Fg15383134%2Fmost-beautiful-cars%2F&tbnid=Ok1FLyRoBPte8M&vet=12ahUKEwjdscDdvIzvAhW-_TgGHVCnBvEQMygJegUIARDgAQ..i&docid=Z-lCaRMD1NHjUM&w=3798&h=2532&q=cars&ved=2ahUKEwjdscDdvIzvAhW-_TgGHVCnBvEQMygJegUIARDgAQ\n",
      "https://www.google.com/imgres?imgurl=https%3A%2F%2Fresize.indiatvnews.com%2Fen%2Fresize%2Fnewbucket%2F715_-%2F2019%2F12%2Fmustang-1-1577523921.jpg&imgrefurl=https%3A%2F%2Fwww.indiatvnews.com%2Fauto%2Ftop-10-cars-of-last-decade-574557&tbnid=AeyVFI7Mh2qcXM&vet=12ahUKEwjdscDdvIzvAhW-_TgGHVCnBvEQMygKegUIARDiAQ..i&docid=se0Lo6VWgX2fZM&w=715&h=446&q=cars&ved=2ahUKEwjdscDdvIzvAhW-_TgGHVCnBvEQMygKegUIARDiAQ\n",
      "https://www.google.com/imgres?imgurl=https%3A%2F%2Fstimg.cardekho.com%2Fimages%2Fcarexteriorimages%2F630x420%2FLamborghini%2FAventador%2F7636%2F1584075934787%2Ffront-left-side-47.jpg&imgrefurl=https%3A%2F%2Fwww.cardekho.com%2Fnew-coupe%2Bcars&tbnid=ChgIOuJ9TGetOM&vet=12ahUKEwjdscDdvIzvAhW-_TgGHVCnBvEQMygLegUIARDkAQ..i&docid=C7bwhmxs77554M&w=630&h=420&q=cars&ved=2ahUKEwjdscDdvIzvAhW-_TgGHVCnBvEQMygLegUIARDkAQ\n",
      "https://www.google.com/imgres?imgurl=https%3A%2F%2Fi.ytimg.com%2Fvi%2F7PXLPzcIydw%2Fmaxresdefault.jpg&imgrefurl=https%3A%2F%2Fwww.youtube.com%2Fwatch%3Fv%3D7PXLPzcIydw&tbnid=kNyeVK5VXLT9aM&vet=12ahUKEwjdscDdvIzvAhW-_TgGHVCnBvEQMygMegUIARDmAQ..i&docid=98jFj80m2HcmFM&w=1280&h=720&q=cars&ved=2ahUKEwjdscDdvIzvAhW-_TgGHVCnBvEQMygMegUIARDmAQ\n",
      "https://www.google.com/imgres?imgurl=https%3A%2F%2Fmedia.zigcdn.com%2Fmedia%2Fmodel%2F2020%2FJun%2Fkia-seltos-new_270x180.jpg&imgrefurl=https%3A%2F%2Fwww.zigwheels.com%2Fnewcars&tbnid=qh7eCZDr4bQESM&vet=12ahUKEwjdscDdvIzvAhW-_TgGHVCnBvEQMygNegUIARDpAQ..i&docid=gXMjOtiyfE8HtM&w=270&h=180&q=cars&ved=2ahUKEwjdscDdvIzvAhW-_TgGHVCnBvEQMygNegUIARDpAQ\n",
      "https://www.google.com/imgres?imgurl=https%3A%2F%2Fi.ytimg.com%2Fvi%2FSbXIj2T-_uk%2Fmaxresdefault.jpg&imgrefurl=https%3A%2F%2Fwww.youtube.com%2Fwatch%3Fv%3DSbXIj2T-_uk&tbnid=z5tajK6ms12J7M&vet=12ahUKEwjdscDdvIzvAhW-_TgGHVCnBvEQMygOegUIARDrAQ..i&docid=F6DXWhKuu5pozM&w=1280&h=720&q=cars&ved=2ahUKEwjdscDdvIzvAhW-_TgGHVCnBvEQMygOegUIARDrAQ\n",
      "https://www.google.com/imgres?imgurl=https%3A%2F%2Fhips.hearstapps.com%2Fhmg-prod.s3.amazonaws.com%2Fimages%2Fmclaren-765lt-track-21-1605268504.jpg%3Fcrop%3D0.565xw%3A1.00xh%3B0.0684xw%2C0%26resize%3D640%3A*&imgrefurl=https%3A%2F%2Fwww.esquire.com%2Fuk%2Fdesign%2Fg30563856%2Fbest-cars-2020%2F&tbnid=UJAd_k7XfHJ-yM&vet=12ahUKEwjdscDdvIzvAhW-_TgGHVCnBvEQMygPegUIARDuAQ..i&docid=S7TBHRsEX4DPLM&w=640&h=637&q=cars&ved=2ahUKEwjdscDdvIzvAhW-_TgGHVCnBvEQMygPegUIARDuAQ\n",
      "None\n",
      "https://www.google.com/imgres?imgurl=https%3A%2F%2Fcars.usnews.com%2Fpics%2Fsize%2F640x420%2Fstatic%2Fimages%2Farticle%2F202012%2F128775%2F1_Lamborghini_Sian_FKP_37.jpg&imgrefurl=https%3A%2F%2Fcars.usnews.com%2Fcars-trucks%2Fmost-expensive-cars&tbnid=8abRShwVL34ShM&vet=12ahUKEwjdscDdvIzvAhW-_TgGHVCnBvEQMygRegUIARDyAQ..i&docid=G_28AkVIxgclsM&w=640&h=420&q=cars&ved=2ahUKEwjdscDdvIzvAhW-_TgGHVCnBvEQMygRegUIARDyAQ\n",
      "https://www.google.com/imgres?imgurl=https%3A%2F%2Flookaside.fbsbx.com%2Flookaside%2Fcrawler%2Fmedia%2F%3Fmedia_id%3D1891826220937895%26get_thumbnail%3D1&imgrefurl=https%3A%2F%2Fwww.facebook.com%2FBusinessInsider.Cars%2Fvideos%2Frenaults-new-luxury-self-driving-car%2F1891826220937895%2F&tbnid=orNBC_PL4VDwIM&vet=12ahUKEwjdscDdvIzvAhW-_TgGHVCnBvEQMygSegUIARD0AQ..i&docid=Uww4b27iH8MbQM&w=2000&h=2000&q=cars&ved=2ahUKEwjdscDdvIzvAhW-_TgGHVCnBvEQMygSegUIARD0AQ\n",
      "https://www.google.com/imgres?imgurl=https%3A%2F%2Fcars.usnews.com%2Fpics%2Fsize%2F640x420%2Fstatic%2Fimages%2Farticle%2F202006%2F128503%2F216702_New_Volvo_XC40_-_exterior_640x420.jpg&imgrefurl=https%3A%2F%2Fcars.usnews.com%2Fcars-trucks%2Fcars-with-the-most-high-tech-features-for-the-money&tbnid=VPu4aAP9aciHpM&vet=12ahUKEwjdscDdvIzvAhW-_TgGHVCnBvEQMygTegUIARD3AQ..i&docid=fnNUTfKVusdjbM&w=640&h=420&q=cars&ved=2ahUKEwjdscDdvIzvAhW-_TgGHVCnBvEQMygTegUIARD3AQ\n",
      "https://www.google.com/imgres?imgurl=https%3A%2F%2Fwww.autocar.co.uk%2Fsites%2Fautocar.co.uk%2Ffiles%2Fstyles%2Fgallery_slide%2Fpublic%2Fimages%2Fcar-reviews%2Ffirst-drives%2Flegacy%2Frrswbphev006.jpg%3Fitok%3D9I7wPblq&imgrefurl=https%3A%2F%2Fwww.autocar.co.uk%2Fcar-news%2Fbest-cars%2Ftop-10-best-luxury-cars&tbnid=1ZkCG-rW13zrKM&vet=12ahUKEwjdscDdvIzvAhW-_TgGHVCnBvEQMygUegUIARD5AQ..i&docid=XCHiUiFSk_UN1M&w=900&h=596&q=cars&ved=2ahUKEwjdscDdvIzvAhW-_TgGHVCnBvEQMygUegUIARD5AQ\n",
      "https://www.google.com/imgres?imgurl=https%3A%2F%2Fhips.hearstapps.com%2Fhmg-prod.s3.amazonaws.com%2Fimages%2F2020-audi-rs7-112-1569274021.jpg%3Fcrop%3D0.735xw%3A0.673xh%3B0.141xw%2C0.270xh%26resize%3D480%3A*&imgrefurl=https%3A%2F%2Fwww.caranddriver.com%2Ffeatures%2Fg15383134%2Fmost-beautiful-cars%2F&tbnid=_n7bykh63gyywM&vet=12ahUKEwjdscDdvIzvAhW-_TgGHVCnBvEQMygVegUIARD7AQ..i&docid=Z-lCaRMD1NHjUM&w=480&h=293&q=cars&ved=2ahUKEwjdscDdvIzvAhW-_TgGHVCnBvEQMygVegUIARD7AQ\n",
      "https://www.google.com/imgres?imgurl=https%3A%2F%2Fhips.hearstapps.com%2Fhmg-prod.s3.amazonaws.com%2Fimages%2Fcarbon-fiber-shelby-mustang-1600685276.jpg%3Fcrop%3D0.9988636363636364xw%3A1xh%3Bcenter%2Ctop%26resize%3D480%3A*&imgrefurl=https%3A%2F%2Fwww.popularmechanics.com%2Fcars%2Fg93%2Fthe-100-hottest-cars-of-all-time%2F&tbnid=ErkldIRm3qdsDM&vet=12ahUKEwjdscDdvIzvAhW-_TgGHVCnBvEQMygWegUIARD9AQ..i&docid=zinfrusCIV7a2M&w=480&h=320&q=cars&ved=2ahUKEwjdscDdvIzvAhW-_TgGHVCnBvEQMygWegUIARD9AQ\n",
      "https://www.google.com/imgres?imgurl=https%3A%2F%2Fcdni.autocarindia.com%2FUtils%2FImageResizer.ashx%3Fn%3Dhttp%253A%252F%252Fcms.haymarketindia.net%252Fmodel%252Fuploads%252Fmodelimages%252FSeltosModelImage.jpg%26h%3D300%26w%3D450%26q%3D100&imgrefurl=https%3A%2F%2Fwww.autocarindia.com%2Fcars%2Fkia&tbnid=MHBs6jZkwniphM&vet=12ahUKEwjdscDdvIzvAhW-_TgGHVCnBvEQMygXegUIARD_AQ..i&docid=H4WG_OUvaCgVfM&w=450&h=298&q=cars&ved=2ahUKEwjdscDdvIzvAhW-_TgGHVCnBvEQMygXegUIARD_AQ\n",
      "https://www.google.com/imgres?imgurl=https%3A%2F%2Fspectrum.ieee.org%2Fimage%2FMzU5NjI0OA.jpeg&imgrefurl=https%3A%2F%2Fspectrum.ieee.org%2Ftransportation%2Fadvanced-cars%2F2020-top-10-high-tech-cars&tbnid=f_VaEwVFspGTMM&vet=12ahUKEwjdscDdvIzvAhW-_TgGHVCnBvEQMygZegUIARCIAg..i&docid=r3b0GOJKD1G3dM&w=1240&h=549&q=cars&ved=2ahUKEwjdscDdvIzvAhW-_TgGHVCnBvEQMygZegUIARCIAg\n",
      "https://www.google.com/imgres?imgurl=https%3A%2F%2Fi.ytimg.com%2Fvi%2F_adJBzQgfsg%2Fmaxresdefault.jpg&imgrefurl=https%3A%2F%2Fwww.youtube.com%2Fwatch%3Fv%3D_adJBzQgfsg&tbnid=WT8c5cqtQ8TNsM&vet=12ahUKEwjdscDdvIzvAhW-_TgGHVCnBvEQMygaegUIARCKAg..i&docid=B9O0OBGEXz38UM&w=1280&h=720&q=cars&ved=2ahUKEwjdscDdvIzvAhW-_TgGHVCnBvEQMygaegUIARCKAg\n",
      "https://www.google.com/imgres?imgurl=https%3A%2F%2Fi0.wp.com%2Fblog.bankbazaar.com%2Fwp-content%2Fuploads%2F2010%2F11%2Fcar-trends-e1290075435354.jpg%3Fssl%3D1&imgrefurl=https%3A%2F%2Fblog.bankbazaar.com%2Fwhy-do-prices-of-same-model-cars-vary%2F&tbnid=jY3aKIKaNMLg_M&vet=12ahUKEwjdscDdvIzvAhW-_TgGHVCnBvEQMygbegUIARCNAg..i&docid=7GEsjeS4z87qmM&w=500&h=321&q=cars&ved=2ahUKEwjdscDdvIzvAhW-_TgGHVCnBvEQMygbegUIARCNAg\n",
      "https://www.google.com/imgres?imgurl=https%3A%2F%2Fimg.etimg.com%2Fthumb%2Fwidth-1200%2Cheight-900%2Cimgsize-276648%2Cresizemode-1%2Cmsid-75911132%2Fsmall-biz%2Fstartups%2Fnewsbuzz%2Felectric-cars-are-about-to-start-rolling-out-of-the-arizona-desert.jpg&imgrefurl=https%3A%2F%2Fm.economictimes.com%2Fsmall-biz%2Fstartups%2Fnewsbuzz%2Felectric-cars-are-about-to-start-rolling-out-of-the-arizona-desert%2Farticleshow%2F75911132.cms&tbnid=QSkStbxGA5_tRM&vet=12ahUKEwjdscDdvIzvAhW-_TgGHVCnBvEQMygcegUIARCPAg..i&docid=AdyqHpRKCv80dM&w=1200&h=900&q=cars&ved=2ahUKEwjdscDdvIzvAhW-_TgGHVCnBvEQMygcegUIARCPAg\n",
      "https://www.google.com/imgres?imgurl=https%3A%2F%2Fc.files.bbci.co.uk%2FB982%2Fproduction%2F_114209474_rollsroyce_reuters.jpg&imgrefurl=https%3A%2F%2Fwww.bbc.com%2Fnews%2Fbusiness-53995886&tbnid=zicBOkqXoEwkxM&vet=12ahUKEwjdscDdvIzvAhW-_TgGHVCnBvEQMygdegUIARCRAg..i&docid=ngneLXsMNN0O9M&w=976&h=549&q=cars&ved=2ahUKEwjdscDdvIzvAhW-_TgGHVCnBvEQMygdegUIARCRAg\n",
      "https://www.google.com/imgres?imgurl=https%3A%2F%2Fhips.hearstapps.com%2Fhmg-prod.s3.amazonaws.com%2Fimages%2Fthe-bugatti-chiron-is-shown-to-the-goodwood-festival-of-news-photo-1600106522.jpg%3Fcrop%3D0.641xw%3A1.00xh%3B0.127xw%2C0%26resize%3D640%3A*&imgrefurl=https%3A%2F%2Fwww.popularmechanics.com%2Fcars%2Fg93%2Fthe-100-hottest-cars-of-all-time%2F&tbnid=Ja7mj0WAYlTl9M&vet=12ahUKEwjdscDdvIzvAhW-_TgGHVCnBvEQMygeegUIARCTAg..i&docid=zinfrusCIV7a2M&w=640&h=634&q=cars&ved=2ahUKEwjdscDdvIzvAhW-_TgGHVCnBvEQMygeegUIARCTAg\n",
      "https://www.google.com/imgres?imgurl=https%3A%2F%2Fhips.hearstapps.com%2Famv-prod-gp.s3.amazonaws.com%2Fgearpatrol%2Fwp-content%2Fuploads%2F2019%2F10%2FBuy-a-Kia-Telluride-Instead-gear-patrol-slide-1.jpg%3Fcrop%3D0.620xw%3A0.919xh%3B0.293xw%2C0.0813xh%26resize%3D640%3A*&imgrefurl=https%3A%2F%2Fwww.gearpatrol.com%2Fcars%2Fg33835883%2Fthe-best-cars-to-buy-in-2020%2F&tbnid=0EIW6yHt2Zg_3M&vet=12ahUKEwjdscDdvIzvAhW-_TgGHVCnBvEQMygfegUIARCVAg..i&docid=76_RHlSNSqchmM&w=640&h=636&q=cars&ved=2ahUKEwjdscDdvIzvAhW-_TgGHVCnBvEQMygfegUIARCVAg\n",
      "https://www.google.com/imgres?imgurl=https%3A%2F%2Fupload.wikimedia.org%2Fwikipedia%2Fcommons%2Fthumb%2F7%2F78%2FRolls_Royce_Phantom_IV_1952.JPG%2F1200px-Rolls_Royce_Phantom_IV_1952.JPG&imgrefurl=https%3A%2F%2Fen.wikipedia.org%2Fwiki%2FLuxury_car&tbnid=001Q0HJOlRllyM&vet=12ahUKEwjdscDdvIzvAhW-_TgGHVCnBvEQMyggegUIARCXAg..i&docid=jGYivS-ptMI0sM&w=1200&h=722&q=cars&ved=2ahUKEwjdscDdvIzvAhW-_TgGHVCnBvEQMyggegUIARCXAg\n",
      "https://www.google.com/imgres?imgurl=https%3A%2F%2Fcars.tatamotors.com%2Fimages%2Fperformance-mobile-new.jpg&imgrefurl=https%3A%2F%2Fcars.tatamotors.com%2F&tbnid=BnuL0zKQVqzolM&vet=12ahUKEwjdscDdvIzvAhW-_TgGHVCnBvEQMyghegUIARCZAg..i&docid=2E0wpEDn1iZ_KM&w=745&h=705&q=cars&ved=2ahUKEwjdscDdvIzvAhW-_TgGHVCnBvEQMyghegUIARCZAg\n",
      "https://www.google.com/imgres?imgurl=https%3A%2F%2Fwww.autocarindia.com%2Fmmv%2Fimages%2Fcar-finder%2FRenault-Kwid.webp&imgrefurl=https%3A%2F%2Fwww.autocarindia.com%2Fcars&tbnid=GDUXRads3hZ3CM&vet=12ahUKEwjdscDdvIzvAhW-_TgGHVCnBvEQMygiegUIARCbAg..i&docid=kyGJcENdbxU3GM&w=600&h=370&q=cars&ved=2ahUKEwjdscDdvIzvAhW-_TgGHVCnBvEQMygiegUIARCbAg\n",
      "https://www.google.com/imgres?imgurl=https%3A%2F%2Fcdn.luxe.digital%2Fmedia%2F2020%2F12%2F15110747%2Ffastest-cars-world-2021-luxe-digital%25402x.jpg&imgrefurl=https%3A%2F%2Fluxe.digital%2Flifestyle%2Fcars%2Ffastest-cars%2F&tbnid=c-iSDW_0ao_lnM&vet=12ahUKEwjdscDdvIzvAhW-_TgGHVCnBvEQMygjegUIARCdAg..i&docid=TpHOSZRL_ZLoAM&w=2400&h=1200&q=cars&ved=2ahUKEwjdscDdvIzvAhW-_TgGHVCnBvEQMygjegUIARCdAg\n",
      "https://www.google.com/imgres?imgurl=https%3A%2F%2Fcars.usnews.com%2Fimages%2Farticle%2F202011%2F128729%2F1_title_2020_mazda_miata.jpg&imgrefurl=https%3A%2F%2Fcars.usnews.com%2Fcars-trucks%2Fbest-car-brands&tbnid=XugRWSGFTs8h-M&vet=12ahUKEwjdscDdvIzvAhW-_TgGHVCnBvEQMygkegUIARCfAg..i&docid=0ltWF24ZmKFz9M&w=4000&h=2666&q=cars&ved=2ahUKEwjdscDdvIzvAhW-_TgGHVCnBvEQMygkegUIARCfAg\n",
      "https://www.google.com/imgres?imgurl=https%3A%2F%2Fwww.elitetraveler.com%2Fwp-content%2Fuploads%2F2019%2F07%2FScreenshot-2020-05-12-at-15.10.34.png&imgrefurl=https%3A%2F%2Fwww.elitetraveler.com%2Fluxury-transport%2Fautomotive%2Fthe-best-luxury-cars-of-2019&tbnid=cq_oIrK_CcAg8M&vet=12ahUKEwjdscDdvIzvAhW-_TgGHVCnBvEQMyglegUIARChAg..i&docid=o9_EOPnBdlXpcM&w=1194&h=503&q=cars&ved=2ahUKEwjdscDdvIzvAhW-_TgGHVCnBvEQMyglegUIARChAg\n",
      "https://www.google.com/imgres?imgurl=https%3A%2F%2Fimages.financialexpress.com%2F2020%2F10%2FHonda-Cars-2020-October-Discounts-offers.jpg&imgrefurl=https%3A%2F%2Fwww.financialexpress.com%2Fauto%2Fcar-news%2Fhonda-launches-comprehensive-online-car-buying-platform-6-step-process-explained%2F2103795%2F&tbnid=TR5rV8ZSKmzLdM&vet=12ahUKEwjdscDdvIzvAhW-_TgGHVCnBvEQMygmegUIARCjAg..i&docid=JUcLPqTN8OR7UM&w=1200&h=800&q=cars&ved=2ahUKEwjdscDdvIzvAhW-_TgGHVCnBvEQMygmegUIARCjAg\n",
      "https://www.google.com/imgres?imgurl=https%3A%2F%2Fwww.autocar.co.uk%2Fsites%2Fautocar.co.uk%2Ffiles%2Fstyles%2Fbody-image%2Fpublic%2F1-corvette-stingray-c8-2019-fd-hr-hero-front_0.jpg%3Fitok%3DSEYe_vLy&imgrefurl=https%3A%2F%2Fwww.autocar.co.uk%2Fcar-news%2Fbest-cars%2Ftop-10-best-sports-cars&tbnid=uCqykjtDAAUw_M&vet=12ahUKEwjdscDdvIzvAhW-_TgGHVCnBvEQMygnegUIARClAg..i&docid=024hIcSMM-UEJM&w=900&h=596&q=cars&ved=2ahUKEwjdscDdvIzvAhW-_TgGHVCnBvEQMygnegUIARClAg\n",
      "https://www.google.com/imgres?imgurl=https%3A%2F%2Fimages.livemint.com%2Fimg%2F2020%2F07%2F28%2F600x338%2Ff31f3d1d13f2438cacb3a65550dd8fc5-f31f3d1d13f2438cacb3a65550dd8fc5-0_1595481600534_1595925295890.jpg&imgrefurl=https%3A%2F%2Fwww.livemint.com%2Fauto-news%2Fbuying-new-cars-and-two-wheelers-to-get-slightly-cheaper-from-august-1-11595924734674.html&tbnid=Buq_2ewxBhpSGM&vet=12ahUKEwjdscDdvIzvAhW-_TgGHVCnBvEQMygoegUIARCnAg..i&docid=UMyI611NESeVTM&w=600&h=338&q=cars&ved=2ahUKEwjdscDdvIzvAhW-_TgGHVCnBvEQMygoegUIARCnAg\n",
      "https://www.google.com/imgres?imgurl=https%3A%2F%2Fetimg.etb2bimg.com%2Fphoto%2F73164879.cms&imgrefurl=https%3A%2F%2Fauto.economictimes.indiatimes.com%2Fnews%2Fpassenger-vehicle%2Fcars%2Fluxury-car-sales-in-2019-see-biggest-drop-in-over-a-decade%2F73164872&tbnid=5ORgc-tnufnXCM&vet=12ahUKEwjdscDdvIzvAhW-_TgGHVCnBvEQMygpegUIARCpAg..i&docid=NBZlIwp6PnBkPM&w=1254&h=836&q=cars&ved=2ahUKEwjdscDdvIzvAhW-_TgGHVCnBvEQMygpegUIARCpAg\n",
      "https://www.google.com/imgres?imgurl=https%3A%2F%2Fhips.hearstapps.com%2Fhmg-prod.s3.amazonaws.com%2Fimages%2Fmostbeauty-1584578506.jpg&imgrefurl=https%3A%2F%2Fwww.caranddriver.com%2Ffeatures%2Fg15383134%2Fmost-beautiful-cars%2F&tbnid=IFiVRbqN1NraSM&vet=12ahUKEwjdscDdvIzvAhW-_TgGHVCnBvEQMygqegUIARCrAg..i&docid=Z-lCaRMD1NHjUM&w=3000&h=1500&q=cars&ved=2ahUKEwjdscDdvIzvAhW-_TgGHVCnBvEQMygqegUIARCrAg\n",
      "https://www.google.com/imgres?imgurl=https%3A%2F%2Fs.marketwatch.com%2Fpublic%2Fresources%2Fimages%2FMW-HY837_at_gla_ZH_20200122173813.jpg&imgrefurl=https%3A%2F%2Fwww.marketwatch.com%2Fstory%2Fthe-10-best-new-car-models-of-2020-2020-01-29&tbnid=U5hejPShlJZsIM&vet=12ahUKEwjdscDdvIzvAhW-_TgGHVCnBvEQMygregUIARCtAg..i&docid=vzM9sgK6ZcPk-M&w=890&h=501&q=cars&ved=2ahUKEwjdscDdvIzvAhW-_TgGHVCnBvEQMygregUIARCtAg\n",
      "https://www.google.com/imgres?imgurl=https%3A%2F%2Fcars.usnews.com%2Fstatic%2Fimages%2Farticle%2F202011%2F128730%2F8-Lexus-iPiccy-collage.jpg&imgrefurl=https%3A%2F%2Fcars.usnews.com%2Fcars-trucks%2Fbest-luxury-car-brands&tbnid=tS1KGYtYXZQo-M&vet=12ahUKEwjdscDdvIzvAhW-_TgGHVCnBvEQMygsegUIARCvAg..i&docid=gcpb9K9NOfhNiM&w=3200&h=2100&q=cars&ved=2ahUKEwjdscDdvIzvAhW-_TgGHVCnBvEQMygsegUIARCvAg\n",
      "https://www.google.com/imgres?imgurl=https%3A%2F%2Fstimg.cardekho.com%2Fimages%2Fcarexteriorimages%2F630x420%2FFerrari%2FFerrari-Portofino%2F6172%2F1550828910903%2Ffront-left-side-47.jpg%3Ftr%3Dw-300&imgrefurl=https%3A%2F%2Fwww.cardekho.com%2Fcars%2FFerrari&tbnid=bCIZd-c72L9L0M&vet=12ahUKEwjdscDdvIzvAhW-_TgGHVCnBvEQMygtegUIARCxAg..i&docid=mYiiJwsXV5xmJM&w=630&h=420&q=cars&ved=2ahUKEwjdscDdvIzvAhW-_TgGHVCnBvEQMygtegUIARCxAg\n",
      "https://www.google.com/imgres?imgurl=https%3A%2F%2Fpv-magazine-usa.com%2Fwp-content%2Fuploads%2Fsites%2F2%2F2019%2F10%2FFordEV-1200x800.jpeg&imgrefurl=https%3A%2F%2Fpv-magazine-usa.com%2F2020%2F05%2F19%2Fthe-future-of-cars-is-electric-but-how-soon-is-this-future%2F&tbnid=yXXperhjCn-TEM&vet=12ahUKEwjdscDdvIzvAhW-_TgGHVCnBvEQMyguegUIARCzAg..i&docid=u-snO1eZQ8qJgM&w=1200&h=800&q=cars&ved=2ahUKEwjdscDdvIzvAhW-_TgGHVCnBvEQMyguegUIARCzAg\n",
      "https://www.google.com/imgres?imgurl=https%3A%2F%2Fimg.etimg.com%2Fthumb%2Fwidth-1200%2Cheight-900%2Cimgsize-65522%2Cresizemode-1%2Cmsid-67102461%2Fwealth%2Fspend%2Fbest-cars-to-buy-in-different-price-ranges-2019.jpg&imgrefurl=https%3A%2F%2Fm.economictimes.com%2Fwealth%2Fspend%2Fbest-cars-to-buy-in-different-price-ranges-2019%2Farticleshow%2F67102461.cms&tbnid=dgQP0IHoJarclM&vet=12ahUKEwjdscDdvIzvAhW-_TgGHVCnBvEQMygvegUIARC1Ag..i&docid=_VIsvtG0dSN0eM&w=1200&h=900&q=cars&ved=2ahUKEwjdscDdvIzvAhW-_TgGHVCnBvEQMygvegUIARC1Ag\n",
      "https://www.google.com/imgres?imgurl=https%3A%2F%2Fimgk.timesnownews.com%2Fstory%2F1563794266-255756_Volvo_Cars_Tech_Fund_invests_in_Israeli_start-up_UVEye.jpg%3Ftr%3Dw-1200%2Ch-900&imgrefurl=https%3A%2F%2Fwww.timesnownews.com%2Fauto%2Fcar-news%2Farticle%2Fvolvo-implements-180-kmh-speed-limit-on-all-new-cars%2F594971&tbnid=RD4oHtLjgHw_vM&vet=12ahUKEwjdscDdvIzvAhW-_TgGHVCnBvEQMygwegUIARC3Ag..i&docid=fYVXPRX5WOlmqM&w=1200&h=900&q=cars&ved=2ahUKEwjdscDdvIzvAhW-_TgGHVCnBvEQMygwegUIARC3Ag\n",
      "https://www.google.com/imgres?imgurl=https%3A%2F%2Fimgd.aeplcdn.com%2F0x0%2Fcw%2Fec%2F39048%2FAudi-etron-Exterior-170076.jpg%3Fwm%3D0&imgrefurl=https%3A%2F%2Fwww.carwale.com%2Faudi-cars%2F&tbnid=NsJO997mUTr26M&vet=12ahUKEwjdscDdvIzvAhW-_TgGHVCnBvEQMygxegUIARC5Ag..i&docid=4rTrIdpV61U5lM&w=1440&h=813&q=cars&ved=2ahUKEwjdscDdvIzvAhW-_TgGHVCnBvEQMygxegUIARC5Ag\n",
      "https://www.google.com/imgres?imgurl=https%3A%2F%2Fic1.maxabout.us%2Fmaxabout-home%2F%2FC%2F2020%2F12%2Fcarnival-limousine-7vip.jpg&imgrefurl=https%3A%2F%2Fautos.maxabout.com%2F&tbnid=CZOM3qw1DikmUM&vet=12ahUKEwjdscDdvIzvAhW-_TgGHVCnBvEQMygyegQIARBX..i&docid=EssKLJgJLrevWM&w=850&h=445&q=cars&ved=2ahUKEwjdscDdvIzvAhW-_TgGHVCnBvEQMygyegQIARBX\n",
      "https://www.google.com/imgres?imgurl=https%3A%2F%2Fwww.acko.com%2Fwp-content%2Fuploads%2F2020%2F06%2Fhow-to-import-foreign-cars-to-india.png&imgrefurl=https%3A%2F%2Fwww.acko.com%2Fcar-guide%2Fhow-to-import-foreign-cars-to-india-procedure-guidelines%2F&tbnid=vIpzcA0XOBT7-M&vet=12ahUKEwjdscDdvIzvAhW-_TgGHVCnBvEQMygzegQIARBZ..i&docid=5zd3mcXhwQaVSM&w=1200&h=550&q=cars&ved=2ahUKEwjdscDdvIzvAhW-_TgGHVCnBvEQMygzegQIARBZ\n",
      "https://www.google.com/imgres?imgurl=https%3A%2F%2Fcnet4.cbsistatic.com%2Fimg%2F6JEaxnaNrfV5t9r6tUk7oCEt2Bg%3D%2F940x0%2F2020%2F01%2F07%2Fd6578eb8-687c-4555-9c7b-abb3c5f65875%2Fmercedes-benz-vision-avtr-concept-035.jpg&imgrefurl=https%3A%2F%2Fwww.cnet.com%2Froadshow%2Fnews%2Fbest-concept-cars-ces-2020%2F&tbnid=iAn7iZV3FLTzQM&vet=12ahUKEwjdscDdvIzvAhW-_TgGHVCnBvEQMyg0egQIARBb..i&docid=fyJbtMh5unJXnM&w=940&h=627&q=cars&ved=2ahUKEwjdscDdvIzvAhW-_TgGHVCnBvEQMyg0egQIARBb\n",
      "https://www.google.com/imgres?imgurl=https%3A%2F%2Fmedia1.s-nbcnews.com%2Fj%2Fnewscms%2F2019_46%2F3101906%2F191114-volkswagen-id-space-vizzion-concept-ew-818p_668c65c0dd8ab0befbec99aac57f280f.fit-760w.jpg&imgrefurl=https%3A%2F%2Fwww.nbcnews.com%2Fbusiness%2Fautos%2Fcheck-out-14-hottest-cars-coming-2019-l-auto-show-n1082091&tbnid=OUp3YBJ5WCcFdM&vet=12ahUKEwjdscDdvIzvAhW-_TgGHVCnBvEQMyg1egQIARBd..i&docid=sljylkONKbsr-M&w=760&h=418&q=cars&ved=2ahUKEwjdscDdvIzvAhW-_TgGHVCnBvEQMyg1egQIARBd\n",
      "https://www.google.com/imgres?imgurl=https%3A%2F%2Fmedia.zigcdn.com%2Fmedia%2Fmodel%2F2020%2FNov%2Fhyundai-i20-2_270x180.jpg&imgrefurl=https%3A%2F%2Fwww.zigwheels.com%2Fnewcars&tbnid=-fe5jNti4Ot68M&vet=12ahUKEwjdscDdvIzvAhW-_TgGHVCnBvEQMyg2egQIARBf..i&docid=gXMjOtiyfE8HtM&w=270&h=180&q=cars&ved=2ahUKEwjdscDdvIzvAhW-_TgGHVCnBvEQMyg2egQIARBf\n",
      "https://www.google.com/imgres?imgurl=https%3A%2F%2Ftimesofindia.indiatimes.com%2Fthumb%2Fmsid-76781415%2Cwidth-400%2Cresizemode-4%2F76781415.jpg%3Fimglength%3D457557&imgrefurl=https%3A%2F%2Ftimesofindia.indiatimes.com%2Fauto%2Fnews%2Fdemand-for-small-cars-up-diesel-loses-out%2Farticleshow%2F76777101.cms&tbnid=pDMMxX9-M9PlWM&vet=12ahUKEwjdscDdvIzvAhW-_TgGHVCnBvEQMyg3egQIARBh..i&docid=9psf8jjgOG7o5M&w=400&h=225&q=cars&ved=2ahUKEwjdscDdvIzvAhW-_TgGHVCnBvEQMyg3egQIARBh\n",
      "https://www.google.com/imgres?imgurl=https%3A%2F%2Fthumbor.forbes.com%2Fthumbor%2Ftrim%2F299x201%3A2851x1638%2Ffit-in%2F711x400%2Fsmart%2Fhttps%3A%2F%2Fspecials-images.forbesimg.com%2Fimageserve%2F5d37046395e0230008f64edf%2F0x0.jpg&imgrefurl=https%3A%2F%2Fwww.forbes.com%2Fsites%2Fjimgorzelany%2F2019%2F07%2F23%2Fhere-are-the-coolest-new-cars-for-2020%2F&tbnid=Fd6scGc_-VImwM&vet=12ahUKEwjdscDdvIzvAhW-_TgGHVCnBvEQMyg4egQIARBj..i&docid=HZLLyFhoQjvNCM&w=710&h=400&q=cars&ved=2ahUKEwjdscDdvIzvAhW-_TgGHVCnBvEQMyg4egQIARBj\n",
      "https://www.google.com/imgres?imgurl=https%3A%2F%2Fhips.hearstapps.com%2Fhmg-prod.s3.amazonaws.com%2Fimages%2F2021-lexus-lc500-convertible-1584570300.jpg&imgrefurl=https%3A%2F%2Fwww.caranddriver.com%2Ffeatures%2Fg15383134%2Fmost-beautiful-cars%2F&tbnid=of7Y3aNNE9nItM&vet=12ahUKEwjdscDdvIzvAhW-_TgGHVCnBvEQMyg5egQIARBl..i&docid=Z-lCaRMD1NHjUM&w=7520&h=4268&q=cars&ved=2ahUKEwjdscDdvIzvAhW-_TgGHVCnBvEQMyg5egQIARBl\n",
      "https://www.google.com/imgres?imgurl=https%3A%2F%2Fgomechanic.in%2Fblog%2Fwp-content%2Fuploads%2F2020%2F04%2F10-iconic-cars-with-the-longest-production-runs-01-1200x900.jpg&imgrefurl=https%3A%2F%2Fgomechanic.in%2Fblog%2F10-longest-production-cars-in-india%2F&tbnid=xxThsfZs95YmXM&vet=12ahUKEwjdscDdvIzvAhW-_TgGHVCnBvEQMyg6egQIARBn..i&docid=D7g9CxVvB3chqM&w=1200&h=900&q=cars&ved=2ahUKEwjdscDdvIzvAhW-_TgGHVCnBvEQMyg6egQIARBn\n",
      "https://www.google.com/imgres?imgurl=https%3A%2F%2Fimgd.aeplcdn.com%2F0x0%2Fcw%2Fec%2F37561%2FToyota-Camry-Right-Front-Three-Quarter-146683.jpg%3Fwm%3D0&imgrefurl=https%3A%2F%2Fwww.carwale.com%2Ftoyota-cars%2F&tbnid=2F5Ku8DbGz9IAM&vet=12ahUKEwjdscDdvIzvAhW-_TgGHVCnBvEQMyg7egQIARBp..i&docid=e-I4TgPxWf8YoM&w=975&h=550&q=cars&ved=2ahUKEwjdscDdvIzvAhW-_TgGHVCnBvEQMyg7egQIARBp\n",
      "https://www.google.com/imgres?imgurl=https%3A%2F%2Fimg.gaadicdn.com%2Fimages%2Fcarexteriorimages%2F630x420%2FAudi%2FRS-Q8%2F7943%2F1598516299283%2Ffront-left-side-47.jpg&imgrefurl=https%3A%2F%2Fwww.gaadi.com%2Flatest-cars&tbnid=aahLzExwwB2vCM&vet=12ahUKEwjdscDdvIzvAhW-_TgGHVCnBvEQMyg8egQIARBr..i&docid=ucNiY2560W1ltM&w=630&h=420&q=cars&ved=2ahUKEwjdscDdvIzvAhW-_TgGHVCnBvEQMyg8egQIARBr\n",
      "https://www.google.com/imgres?imgurl=https%3A%2F%2Fhips.hearstapps.com%2Fhmg-prod.s3.amazonaws.com%2Fimages%2Fnew-ghost-white-fr-3-4-1-1598911711.jpg&imgrefurl=https%3A%2F%2Fwww.roadandtrack.com%2Fcar-culture%2Fbuying-maintenance%2Fg6830%2Fbest-luxury-cars-brands%2F&tbnid=etcBO3s2atNrCM&vet=12ahUKEwjdscDdvIzvAhW-_TgGHVCnBvEQMyg9egQIARBt..i&docid=hkifE7iZCeSpJM&w=3000&h=2250&q=cars&ved=2ahUKEwjdscDdvIzvAhW-_TgGHVCnBvEQMyg9egQIARBt\n",
      "https://www.google.com/imgres?imgurl=https%3A%2F%2Fimages.unsplash.com%2Fphoto-1525609004556-c46c7d6cf023%3Fixid%3DMXwxMjA3fDB8MHxzZWFyY2h8M3x8Y2Fyc3xlbnwwfHwwfA%253D%253D%26ixlib%3Drb-1.2.1%26w%3D1000%26q%3D80&imgrefurl=https%3A%2F%2Funsplash.com%2Fs%2Fphotos%2Fcars&tbnid=nlB4LcznpUaO3M&vet=12ahUKEwjdscDdvIzvAhW-_TgGHVCnBvEQMyg-egQIARBv..i&docid=pexCxKQSr2TtXM&w=1000&h=1285&q=cars&ved=2ahUKEwjdscDdvIzvAhW-_TgGHVCnBvEQMyg-egQIARBv\n",
      "https://www.google.com/imgres?imgurl=https%3A%2F%2Fcdni.autocarindia.com%2FExtraImages%2F20201231052518_First-cars-world-most-famous-carmakers-WM.jpg&imgrefurl=https%3A%2F%2Fwww.autocarindia.com%2Fcar-news%2Fthe-first-cars-of-the-worlds-most-famous-carmakers-419536&tbnid=NtX2_XLdCJ67aM&vet=12ahUKEwjdscDdvIzvAhW-_TgGHVCnBvEQMyg_egQIARBx..i&docid=T2tiAMLbxR4rrM&w=1200&h=795&q=cars&ved=2ahUKEwjdscDdvIzvAhW-_TgGHVCnBvEQMyg_egQIARBx\n",
      "https://www.google.com/imgres?imgurl=https%3A%2F%2Fmedia.wired.com%2Fphotos%2F5f529fd5da9dd9344a49205c%2F4%3A3%2Fw_2400%2Cc_limit%2Fbusiness_uber_1183229240.jpg&imgrefurl=https%3A%2F%2Fwww.wired.com%2Ftag%2Fcars%2F&tbnid=JmyqMBtBatL8zM&vet=12ahUKEwjdscDdvIzvAhW-_TgGHVCnBvEQMyhAegQIARBz..i&docid=iXHfMcRPPUeuSM&w=2132&h=1599&q=cars&ved=2ahUKEwjdscDdvIzvAhW-_TgGHVCnBvEQMyhAegQIARBz\n",
      "https://www.google.com/imgres?imgurl=https%3A%2F%2Fupload.wikimedia.org%2Fwikipedia%2Fcommons%2F2%2F25%2F2018_Toyota_Corolla_%2528ZRE172R%2529_Ascent_sedan_%25282018-11-02%2529_01.jpg&imgrefurl=https%3A%2F%2Fen.wikipedia.org%2Fwiki%2FAutomotive_industry_in_Pakistan&tbnid=Oi6Hd7EWGIsVxM&vet=12ahUKEwjdscDdvIzvAhW-_TgGHVCnBvEQMyhBegQIARB1..i&docid=L1gRzDqEAtYHxM&w=4205&h=2005&q=cars&ved=2ahUKEwjdscDdvIzvAhW-_TgGHVCnBvEQMyhBegQIARB1\n",
      "https://www.google.com/imgres?imgurl=https%3A%2F%2Fcars.tatamotors.com%2Fimages%2Fsafety-mobile-new.jpg&imgrefurl=https%3A%2F%2Fcars.tatamotors.com%2F&tbnid=Sr8-5xiAoW_MtM&vet=12ahUKEwjdscDdvIzvAhW-_TgGHVCnBvEQMyhCegQIARB3..i&docid=2E0wpEDn1iZ_KM&w=745&h=705&q=cars&ved=2ahUKEwjdscDdvIzvAhW-_TgGHVCnBvEQMyhCegQIARB3\n",
      "https://www.google.com/imgres?imgurl=https%3A%2F%2Fetimg.etb2bimg.com%2Fthumb%2Fmsid-71704722%2Cwidth-1200%2Cresizemode-4%2F.jpg&imgrefurl=https%3A%2F%2Fauto.economictimes.indiatimes.com%2Fnews%2Fpassenger-vehicle%2Fcars%2Ftop-10-exported-cars-uvs-in-h1-hyundai-india-clinches-5-spots%2F71704722&tbnid=t2TFzUjUi62w0M&vet=12ahUKEwjdscDdvIzvAhW-_TgGHVCnBvEQMyhDegQIARB5..i&docid=Xy6tPrfTt-3zLM&w=1200&h=795&q=cars&ved=2ahUKEwjdscDdvIzvAhW-_TgGHVCnBvEQMyhDegQIARB5\n",
      "https://www.google.com/imgres?imgurl=https%3A%2F%2Fimgctcf.aeplcdn.com%2Fthumbs%2Fp-nc-a-ver202101221918%2Fimages%2Fcar-data%2Fbig%2Fbmw-3-series-gran-limousine-default.jpg&imgrefurl=https%3A%2F%2Fwww.cartrade.com%2Fnew-cars&tbnid=9NVxdlkMp2N6zM&vet=12ahUKEwjdscDdvIzvAhW-_TgGHVCnBvEQMyhEegQIARB7..i&docid=aI6PzNmkRFh7vM&w=340&h=192&itg=1&q=cars&ved=2ahUKEwjdscDdvIzvAhW-_TgGHVCnBvEQMyhEegQIARB7\n",
      "https://www.google.com/imgres?imgurl=https%3A%2F%2Fcars.usnews.com%2Fimages%2Farticle%2F202009%2F128642%2F1_title_2020_Toyota_86.jpg&imgrefurl=https%3A%2F%2Fcars.usnews.com%2Fcars-trucks%2Fcheapest-sports-cars&tbnid=5JJwU5ZBtIu3CM&vet=12ahUKEwjdscDdvIzvAhW-_TgGHVCnBvEQMyhFegQIARB9..i&docid=74ZovIGGKBYvqM&w=3600&h=2400&q=cars&ved=2ahUKEwjdscDdvIzvAhW-_TgGHVCnBvEQMyhFegQIARB9\n",
      "https://www.google.com/imgres?imgurl=https%3A%2F%2Fwww.focus2move.com%2Fwp-content%2Fuploads%2F2020%2F03%2Fdavid-von-diemar-9DU0FgX4T6Q-unsplash-scaled.jpg&imgrefurl=https%3A%2F%2Fwww.focus2move.com%2Fworld-best-selling-car%2F&tbnid=lAHB9kng-dLkxM&vet=12ahUKEwjdscDdvIzvAhW-_TgGHVCnBvEQMyhGegQIARB_..i&docid=hLCcTuU4wqw-aM&w=1704&h=2560&q=cars&ved=2ahUKEwjdscDdvIzvAhW-_TgGHVCnBvEQMyhGegQIARB_\n",
      "https://www.google.com/imgres?imgurl=https%3A%2F%2Fcars.tatamotors.com%2Fimages%2Fdesign-mobile.jpg&imgrefurl=https%3A%2F%2Fcars.tatamotors.com%2F&tbnid=ELcKekLRKitzNM&vet=12ahUKEwjdscDdvIzvAhW-_TgGHVCnBvEQMyhHegUIARCBAQ..i&docid=2E0wpEDn1iZ_KM&w=745&h=705&q=cars&ved=2ahUKEwjdscDdvIzvAhW-_TgGHVCnBvEQMyhHegUIARCBAQ\n",
      "https://www.google.com/imgres?imgurl=https%3A%2F%2Fupload.wikimedia.org%2Fwikipedia%2Fen%2F3%2F34%2FCars_2006.jpg&imgrefurl=https%3A%2F%2Fen.wikipedia.org%2Fwiki%2FCars_(film)&tbnid=lwBg-owBejYAzM&vet=12ahUKEwjdscDdvIzvAhW-_TgGHVCnBvEQMyhIegUIARCDAQ..i&docid=eZItEn5mnMS3IM&w=259&h=383&q=cars&ved=2ahUKEwjdscDdvIzvAhW-_TgGHVCnBvEQMyhIegUIARCDAQ\n",
      "https://www.google.com/imgres?imgurl=https%3A%2F%2Fcdni.autocarindia.com%2FUtils%2FImageResizer.ashx%3Fn%3Dhttp%253A%252F%252Fcms.haymarketindia.net%252Fmodel%252Fuploads%252Fmodelimages%252FAudi-Q2-241020191004.jpg%26h%3D300%26w%3D450%26q%3D100&imgrefurl=https%3A%2F%2Fwww.autocarindia.com%2Fnew-cars&tbnid=p2o31X_BO83VsM&vet=12ahUKEwjdscDdvIzvAhW-_TgGHVCnBvEQMyhKegUIARCMAQ..i&docid=IqqmVtbCqVH6bM&w=450&h=295&q=cars&ved=2ahUKEwjdscDdvIzvAhW-_TgGHVCnBvEQMyhKegUIARCMAQ\n",
      "https://www.google.com/imgres?imgurl=https%3A%2F%2Fstatic.autox.com%2Fuploads%2Fcars%2F2021%2F01%2Fvolvo-s60.jpg&imgrefurl=https%3A%2F%2Fwww.autox.com%2Fnew-cars%2Fvolvo%2F&tbnid=BzLJ0HTKLhWVPM&vet=12ahUKEwjdscDdvIzvAhW-_TgGHVCnBvEQMyhLegUIARCOAQ..i&docid=qP3-T04xTHJV8M&w=500&h=261&q=cars&ved=2ahUKEwjdscDdvIzvAhW-_TgGHVCnBvEQMyhLegUIARCOAQ\n",
      "https://www.google.com/imgres?imgurl=https%3A%2F%2Fmedia.wired.com%2Fphotos%2F5d4e581eb8d30b00081f6ebe%2F1%3A1%2Fw_2400%2Cc_limit%2Fsecurity_defcon_cars_636444558.jpg&imgrefurl=https%3A%2F%2Fwww.wired.com%2Ftag%2Fcar-hacking%2F&tbnid=ECruXo9d9fmF0M&vet=12ahUKEwjdscDdvIzvAhW-_TgGHVCnBvEQMyhMegUIARCQAQ..i&docid=BS9aYRx0cSIzGM&w=1800&h=1800&q=cars&ved=2ahUKEwjdscDdvIzvAhW-_TgGHVCnBvEQMyhMegUIARCQAQ\n",
      "https://www.google.com/imgres?imgurl=https%3A%2F%2Fcars.usnews.com%2Fpics%2Fsize%2F640x420%2Fstatic%2Fimages%2Farticle%2F202008%2F128627%2F1-iPiccy-collage_640x420.jpg&imgrefurl=https%3A%2F%2Fcars.usnews.com%2Fcars-trucks%2Famericas-fast-cars&tbnid=oQnzLNKx85pyDM&vet=12ahUKEwjdscDdvIzvAhW-_TgGHVCnBvEQMyhNegUIARCSAQ..i&docid=45A-iQnOTzea4M&w=640&h=420&q=cars&ved=2ahUKEwjdscDdvIzvAhW-_TgGHVCnBvEQMyhNegUIARCSAQ\n",
      "https://www.google.com/imgres?imgurl=https%3A%2F%2Fi.guim.co.uk%2Fimg%2Fmedia%2Fd69b5b434eab8de3bee564dd6041e30f7b8f6708%2F0_118_3500_2100%2Fmaster%2F3500.jpg%3Fwidth%3D1200%26height%3D1200%26quality%3D85%26auto%3Dformat%26fit%3Dcrop%26s%3Dc201893cf4bfc3b1b8e21d34ee8c1f42&imgrefurl=https%3A%2F%2Fwww.theguardian.com%2Ftechnology%2F2020%2Fjan%2F29%2Ftesla-shares-surge-profit&tbnid=l1zwLXrj5ET41M&vet=12ahUKEwjdscDdvIzvAhW-_TgGHVCnBvEQMyhOegUIARCUAQ..i&docid=NOcQRhAlpw-SiM&w=1200&h=1200&q=cars&ved=2ahUKEwjdscDdvIzvAhW-_TgGHVCnBvEQMyhOegUIARCUAQ\n",
      "https://www.google.com/imgres?imgurl=https%3A%2F%2Fi.ytimg.com%2Fvi%2FL9ZYdShgtPE%2Fmaxresdefault.jpg&imgrefurl=https%3A%2F%2Fwww.youtube.com%2Fwatch%3Fv%3DL9ZYdShgtPE&tbnid=4VD15h8_eHhy8M&vet=12ahUKEwjdscDdvIzvAhW-_TgGHVCnBvEQMyhPegUIARCWAQ..i&docid=AiQpdNw1HTLrVM&w=1280&h=720&q=cars&ved=2ahUKEwjdscDdvIzvAhW-_TgGHVCnBvEQMyhPegUIARCWAQ\n",
      "https://www.google.com/imgres?imgurl=https%3A%2F%2Fhips.hearstapps.com%2Fhmg-prod.s3.amazonaws.com%2Fimages%2Froa080118dpt-drives-continentalgt-06-1534221675.jpg%3Fcrop%3D0.754xw%3A0.779xh%3B0%2C0.221xh%26resize%3D480%3A*&imgrefurl=https%3A%2F%2Fwww.roadandtrack.com%2Fcar-culture%2Fbuying-maintenance%2Fg6830%2Fbest-luxury-cars-brands%2F&tbnid=5lqDJEqPeYBXcM&vet=12ahUKEwjdscDdvIzvAhW-_TgGHVCnBvEQMyhQegUIARCZAQ..i&docid=hkifE7iZCeSpJM&w=480&h=248&q=cars&ved=2ahUKEwjdscDdvIzvAhW-_TgGHVCnBvEQMyhQegUIARCZAQ\n",
      "https://www.google.com/imgres?imgurl=https%3A%2F%2Fwww.autocar.co.uk%2Fsites%2Fautocar.co.uk%2Ffiles%2Fstyles%2Fgallery_slide%2Fpublic%2Fimages%2Fcar-reviews%2Ffirst-drives%2Flegacy%2F98_-_fastest_accelerating_road_cars_-_ferrari_f8_tributo.jpg%3Fitok%3DcK2YYgq2&imgrefurl=https%3A%2F%2Fwww.autocar.co.uk%2Fcar-news%2Fbest-cars%2Ftop-fastest-accelerating-cars-world&tbnid=Arqh9jzSlC4KsM&vet=12ahUKEwjdscDdvIzvAhW-_TgGHVCnBvEQMyhRegUIARCbAQ..i&docid=x6jxfzHoUkNUfM&w=900&h=596&q=cars&ved=2ahUKEwjdscDdvIzvAhW-_TgGHVCnBvEQMyhRegUIARCbAQ\n",
      "https://www.google.com/imgres?imgurl=https%3A%2F%2Fwww.bugatti.com%2Ffileadmin%2F_processed_%2Fsei%2Fp1%2Fse-image-85e0e9ab23134961c88e4ecea2bff53f.jpg&imgrefurl=https%3A%2F%2Fwww.bugatti.com%2F&tbnid=Ipn8ncnjsF6muM&vet=12ahUKEwjdscDdvIzvAhW-_TgGHVCnBvEQMyhSegUIARCdAQ..i&docid=1Yx9rAcPDeqjxM&w=543&h=543&q=cars&ved=2ahUKEwjdscDdvIzvAhW-_TgGHVCnBvEQMyhSegUIARCdAQ\n",
      "https://www.google.com/imgres?imgurl=https%3A%2F%2Fhips.hearstapps.com%2Fhmg-prod.s3.amazonaws.com%2Fimages%2F2020-ford-gt-1584569915.jpg&imgrefurl=https%3A%2F%2Fwww.caranddriver.com%2Ffeatures%2Fg15383134%2Fmost-beautiful-cars%2F&tbnid=WPQ2XqkcL0Pp9M&vet=12ahUKEwjdscDdvIzvAhW-_TgGHVCnBvEQMyhTegUIARCfAQ..i&docid=Z-lCaRMD1NHjUM&w=3500&h=2139&q=cars&ved=2ahUKEwjdscDdvIzvAhW-_TgGHVCnBvEQMyhTegUIARCfAQ\n",
      "https://www.google.com/imgres?imgurl=https%3A%2F%2Fmedia.zigcdn.com%2Fmedia%2Fmodel%2F2021%2FFeb%2Fghibli-2_360x240.jpg&imgrefurl=https%3A%2F%2Fwww.zigwheels.com%2Flaunches&tbnid=FODT3uBsKWIPMM&vet=12ahUKEwjdscDdvIzvAhW-_TgGHVCnBvEQMyhUegUIARChAQ..i&docid=dN2Dis6slx2v5M&w=360&h=240&q=cars&ved=2ahUKEwjdscDdvIzvAhW-_TgGHVCnBvEQMyhUegUIARChAQ\n",
      "https://www.google.com/imgres?imgurl=https%3A%2F%2Fcars.usnews.com%2Fstatic%2Fimages%2Farticle%2F202011%2F128729%2F4_2021_mini_cooper.jpg&imgrefurl=https%3A%2F%2Fcars.usnews.com%2Fcars-trucks%2Fbest-car-brands&tbnid=IKBxLILsea-rzM&vet=12ahUKEwjdscDdvIzvAhW-_TgGHVCnBvEQMyhVegUIARCjAQ..i&docid=0ltWF24ZmKFz9M&w=6378&h=4252&q=cars&ved=2ahUKEwjdscDdvIzvAhW-_TgGHVCnBvEQMyhVegUIARCjAQ\n",
      "https://www.google.com/imgres?imgurl=https%3A%2F%2Fimg.etimg.com%2Fthumb%2Fwidth-1200%2Cheight-900%2Cimgsize-699679%2Cresizemode-1%2Cmsid-74966152%2Fmagazines%2Fpanache%2Faston-martin-dbx-ferrari-roma-mclaren-elva-hottest-cars-of-2020-that-turned-cold-due-to-covid-19.jpg&imgrefurl=https%3A%2F%2Fm.economictimes.com%2Fmagazines%2Fpanache%2Faston-martin-dbx-ferrari-roma-mclaren-elva-hottest-cars-of-2020-that-turned-cold-due-to-covid-19%2Farticleshow%2F74966152.cms&tbnid=LWEFG0aSFYx6ZM&vet=12ahUKEwjdscDdvIzvAhW-_TgGHVCnBvEQMyhWegUIARClAQ..i&docid=9LhuvPggJwdEIM&w=1200&h=900&q=cars&ved=2ahUKEwjdscDdvIzvAhW-_TgGHVCnBvEQMyhWegUIARClAQ\n",
      "https://www.google.com/imgres?imgurl=https%3A%2F%2Fmedia.zigcdn.com%2Fmedia%2Fsponsor%2F2021%2FFeb%2Fbanner_mobile_uplink_mobile2.png&imgrefurl=https%3A%2F%2Fwww.zigwheels.com%2F&tbnid=qnfpZ3g6sIGKqM&vet=12ahUKEwjdscDdvIzvAhW-_TgGHVCnBvEQMyhXegUIARCnAQ..i&docid=0mNp2zxWf475YM&w=640&h=420&q=cars&ved=2ahUKEwjdscDdvIzvAhW-_TgGHVCnBvEQMyhXegUIARCnAQ\n",
      "https://www.google.com/imgres?imgurl=https%3A%2F%2Fmc.webpcache.epapr.in%2Fdiscover.php%3Fin%3Dhttps%3A%2F%2Fmcmscache.epapr.in%2Fpost_images%2Fwebsite_341%2Fpost_20233917%2Fthumb.jpg&imgrefurl=https%3A%2F%2Fmotoroctane.com%2Fnews%2F213495-upcoming-ford-cars-in-india-2021&tbnid=XgoC27sOsGpWtM&vet=12ahUKEwjdscDdvIzvAhW-_TgGHVCnBvEQMyhYegUIARCqAQ..i&docid=gqk5Rf01sfj2IM&w=1200&h=750&q=cars&ved=2ahUKEwjdscDdvIzvAhW-_TgGHVCnBvEQMyhYegUIARCqAQ\n",
      "https://www.google.com/imgres?imgurl=https%3A%2F%2Fimages.financialexpress.com%2F2020%2F04%2Fmost-expensive-cars-in-the-world-main.jpg&imgrefurl=https%3A%2F%2Fwww.financialexpress.com%2Fauto%2Fgallery%2Fmost-expensive-cars-in-the-world-ferrari-sergio-pininfarina-bugatti-rolls-royce-sweptail%2Fphotos%2F1930330%2F&tbnid=bBBjKs8nXtafyM&vet=12ahUKEwjdscDdvIzvAhW-_TgGHVCnBvEQMyhZegUIARCsAQ..i&docid=GoF4uUH7E1UxlM&w=800&h=533&q=cars&ved=2ahUKEwjdscDdvIzvAhW-_TgGHVCnBvEQMyhZegUIARCsAQ\n",
      "https://www.google.com/imgres?imgurl=https%3A%2F%2Fimgctcf.aeplcdn.com%2Fthumbs%2Fp-nc-a-ver201911141249%2Fimages%2Fcar-data%2Fbig%2Fmaruti-suzuki-s-presso-default.jpg&imgrefurl=https%3A%2F%2Fwww.cartrade.com%2Fnew-cars&tbnid=0i9xYY9tXi5zDM&vet=12ahUKEwjdscDdvIzvAhW-_TgGHVCnBvEQMyhaegUIARCuAQ..i&docid=aI6PzNmkRFh7vM&w=340&h=192&q=cars&ved=2ahUKEwjdscDdvIzvAhW-_TgGHVCnBvEQMyhaegUIARCuAQ\n",
      "https://www.google.com/imgres?imgurl=https%3A%2F%2Fi0.wp.com%2Fgomechanic.in%2Fblog%2Fwp-content%2Fuploads%2F2020%2F12%2FThe-Best-Drivers-Car-Of-2020.jpg%3Ffit%3D1168%252C601%26ssl%3D1&imgrefurl=https%3A%2F%2Fgomechanic.in%2Fblog%2Fbest-cars-with-manual-transmission-2020%2F&tbnid=ZBavhMQY2-DVaM&vet=12ahUKEwjdscDdvIzvAhW-_TgGHVCnBvEQMyhbegUIARCwAQ..i&docid=8McziAxx7AYiOM&w=1168&h=601&q=cars&ved=2ahUKEwjdscDdvIzvAhW-_TgGHVCnBvEQMyhbegUIARCwAQ\n",
      "https://www.google.com/imgres?imgurl=https%3A%2F%2Fimages.indianexpress.com%2F2021%2F02%2Fhydrogen-car.jpg&imgrefurl=https%3A%2F%2Findianexpress.com%2Farticle%2Fexplained%2Felectric-vehicle-technology-hydrogen-car-national-hydrogen-mission-7193217%2F&tbnid=bObzKkarMbfp0M&vet=12ahUKEwjdscDdvIzvAhW-_TgGHVCnBvEQMyhcegUIARCyAQ..i&docid=0uH_sfNqk5FMqM&w=1200&h=667&q=cars&ved=2ahUKEwjdscDdvIzvAhW-_TgGHVCnBvEQMyhcegUIARCyAQ\n",
      "https://www.google.com/imgres?imgurl=https%3A%2F%2Fmedia.zigcdn.com%2Fmedia%2Fmodel%2F2019%2FSep%2Fvolvo-xc90_270x180.jpg&imgrefurl=https%3A%2F%2Fwww.zigwheels.com%2Fnewcars&tbnid=5ox6Vk4EKV_6gM&vet=12ahUKEwjdscDdvIzvAhW-_TgGHVCnBvEQMyhdegUIARC0AQ..i&docid=gXMjOtiyfE8HtM&w=270&h=180&q=cars&ved=2ahUKEwjdscDdvIzvAhW-_TgGHVCnBvEQMyhdegUIARC0AQ\n",
      "https://www.google.com/imgres?imgurl=https%3A%2F%2Fstimg.cardekho.com%2Fimages%2Fcarexteriorimages%2F630x420%2FMaruti%2FSwift%2F7820%2F1614156733978%2Ffront-left-side-47.jpg&imgrefurl=https%3A%2F%2Fwww.cardekho.com%2Fnew-hatchback%2Bcars&tbnid=Hocm51Umr9zDmM&vet=12ahUKEwjdscDdvIzvAhW-_TgGHVCnBvEQMyheegUIARC2AQ..i&docid=nE5sIEJVKUKaeM&w=630&h=420&q=cars&ved=2ahUKEwjdscDdvIzvAhW-_TgGHVCnBvEQMyheegUIARC2AQ\n",
      "https://www.google.com/imgres?imgurl=https%3A%2F%2Fstatic.autox.com%2Fuploads%2F2020%2F09%2F2020-land-rover-discovery-sport-in-action-m2.jpg&imgrefurl=https%3A%2F%2Fwww.autox.com%2Fnew-cars%2F&tbnid=zI9P9vGV4vmRFM&vet=12ahUKEwjdscDdvIzvAhW-_TgGHVCnBvEQMyhfegUIARC5AQ..i&docid=ZVmsdEMXuFEzaM&w=978&h=400&q=cars&ved=2ahUKEwjdscDdvIzvAhW-_TgGHVCnBvEQMyhfegUIARC5AQ\n",
      "https://www.google.com/imgres?imgurl=https%3A%2F%2Fcdni.autocarindia.com%2FUtils%2FImageResizer.ashx%3Fn%3Dhttp%253A%252F%252Fcms.haymarketindia.net%252Fmodel%252Fuploads%252Fmodelimages%252FVolvo-S60-130220211541.jpg%26h%3D300%26w%3D450%26q%3D100&imgrefurl=https%3A%2F%2Fwww.autocarindia.com%2Fnew-cars&tbnid=32xBLFNzAfHNwM&vet=12ahUKEwjdscDdvIzvAhW-_TgGHVCnBvEQMyhgegUIARC7AQ..i&docid=IqqmVtbCqVH6bM&w=450&h=298&q=cars&ved=2ahUKEwjdscDdvIzvAhW-_TgGHVCnBvEQMyhgegUIARC7AQ\n",
      "https://www.google.com/imgres?imgurl=https%3A%2F%2Fs01.sgp1.cdn.digitaloceanspaces.com%2Farticle%2F91990-cqabpqfutc-1579092479.jpg&imgrefurl=https%3A%2F%2Fscroll.in%2Farticle%2F949974%2Fwill-we-ever-have-flying-vehicles-and-other-questions-about-the-future-of-cars&tbnid=HK_xRKXUP612kM&vet=12ahUKEwjdscDdvIzvAhW-_TgGHVCnBvEQMyhhegUIARC9AQ..i&docid=OyNHnd4dYlrB-M&w=1200&h=630&q=cars&ved=2ahUKEwjdscDdvIzvAhW-_TgGHVCnBvEQMyhhegUIARC9AQ\n",
      "https://www.google.com/imgres?imgurl=https%3A%2F%2Fimg.etimg.com%2Fthumb%2Fwidth-1200%2Cheight-900%2Cimgsize-156583%2Cresizemode-1%2Cmsid-80420848%2Fwealth%2Fspend%2Fbest-cars-under-rs-7-lakh-to-buy-in-2021.jpg&imgrefurl=https%3A%2F%2Fm.economictimes.com%2Fwealth%2Fspend%2Fbest-cars-under-rs-7-lakh-to-buy-in-2021%2Farticleshow%2F80420848.cms&tbnid=yeAWLRGv3QYSZM&vet=12ahUKEwjdscDdvIzvAhW-_TgGHVCnBvEQMyhjegUIARDGAQ..i&docid=WY1l9foKqNNvoM&w=1200&h=900&q=cars&ved=2ahUKEwjdscDdvIzvAhW-_TgGHVCnBvEQMyhjegUIARDGAQ\n",
      "https://www.google.com/imgres?imgurl=https%3A%2F%2Fhips.hearstapps.com%2Fhmg-prod.s3.amazonaws.com%2Fimages%2F2018-rolls-royce-phantom-1536152159.png%3Fcrop%3D1.00xw%3A1.00xh%3B0%2C0%26resize%3D1200%3A*&imgrefurl=https%3A%2F%2Fwww.roadandtrack.com%2Fcar-culture%2Fbuying-maintenance%2Fg6830%2Fbest-luxury-cars-brands%2F&tbnid=ob8QmNJJ56GFzM&vet=12ahUKEwjdscDdvIzvAhW-_TgGHVCnBvEQMyhkegUIARDIAQ..i&docid=hkifE7iZCeSpJM&w=1200&h=600&q=cars&ved=2ahUKEwjdscDdvIzvAhW-_TgGHVCnBvEQMyhkegUIARDIAQ\n",
      "https://www.google.com/imgres?imgurl=https%3A%2F%2Fwww.mercedes-benz.com%2Fen%2Fvehicles%2Fpassenger-cars%2Fmercedes-benz-concept-cars%2Fvision-avtr%2F_jcr_content%2Fimage%2FMQ6-12-image-20200107130512%2F00-mercedes-benz-vehicles-concept-cars-vision-avtr-2560x1440.jpeg&imgrefurl=https%3A%2F%2Fwww.mercedes-benz.com%2Fen%2Fvehicles%2Fpassenger-cars%2Fmercedes-benz-concept-cars%2Fvision-avtr%2F&tbnid=eJy5YOERGcg4JM&vet=12ahUKEwjdscDdvIzvAhW-_TgGHVCnBvEQMyhlegUIARDKAQ..i&docid=kLYnxZJwxLHgsM&w=1352&h=760&q=cars&ved=2ahUKEwjdscDdvIzvAhW-_TgGHVCnBvEQMyhlegUIARDKAQ\n",
      "https://www.google.com/imgres?imgurl=https%3A%2F%2Fspeedvegas.com%2Fwp-content%2Fuploads%2F2020%2F08%2Fhennessey-venom.jpg&imgrefurl=https%3A%2F%2Fspeedvegas.com%2Ffastest-cars-in-the-world%2F&tbnid=772lUJV6ztoQTM&vet=12ahUKEwjdscDdvIzvAhW-_TgGHVCnBvEQMyhmegUIARDMAQ..i&docid=StQhfpbDP2nDAM&w=1000&h=600&q=cars&ved=2ahUKEwjdscDdvIzvAhW-_TgGHVCnBvEQMyhmegUIARDMAQ\n"
     ]
    }
   ],
   "source": [
    "urls = driver.find_elements_by_xpath(\"//a[@class='wXeWr islib nfEiy mM5pbd']\")\n",
    "\n",
    "for urls in urls[0:100]:\n",
    "        driver.find_element_by_xpath(\"//div[@class='bRMDJf islir']\").click()\n",
    "        \n",
    "        print(urls.get_attribute(\"href\"))"
   ]
  },
  {
   "cell_type": "code",
   "execution_count": 3,
   "metadata": {},
   "outputs": [],
   "source": [
    "driver = webdriver.Chrome(\"C:/Users/CHITRAK/Downloads/chromedriver.exe\")"
   ]
  },
  {
   "cell_type": "code",
   "execution_count": 4,
   "metadata": {},
   "outputs": [],
   "source": [
    "driver.get('https://images.google.com/?gws_rd=ssl')"
   ]
  },
  {
   "cell_type": "code",
   "execution_count": 5,
   "metadata": {},
   "outputs": [],
   "source": [
    "search_bar = driver.find_element_by_xpath('//input[@class=\"gLFyf gsfi\"]')\n",
    "search_bar.clear()\n",
    "search_bar.send_keys('‘Machine Learning')                                  \n",
    "search_button = driver.find_element_by_xpath('//span[@class=\"z1asCe MZy1Rb\"]')\n",
    "search_button.click() "
   ]
  },
  {
   "cell_type": "code",
   "execution_count": 8,
   "metadata": {},
   "outputs": [
    {
     "name": "stdout",
     "output_type": "stream",
     "text": [
      "https://www.google.com/imgres?imgurl=https%3A%2F%2Fthumbor.forbes.com%2Fthumbor%2F960x0%2Fhttps%253A%252F%252Fspecials-images.forbesimg.com%252Fdam%252Fimageserve%252F966248982%252F960x0.jpg%253Ffit%253Dscale&imgrefurl=https%3A%2F%2Fwww.forbes.com%2Fsites%2Fkalevleetaru%2F2019%2F01%2F15%2Fwhy-machine-learning-needs-semantics-not-just-statistics%2F&tbnid=ZJ1GOgTF0Or3iM&vet=12ahUKEwiF78qE5IzvAhVHH3IKHUvwAbYQMygAegUIARDNAQ..i&docid=AEohAx4yXGBiGM&w=960&h=618&q=%E2%80%98Machine%20Learning&ved=2ahUKEwiF78qE5IzvAhVHH3IKHUvwAbYQMygAegUIARDNAQ\n",
      "https://www.google.com/imgres?imgurl=https%3A%2F%2Fthumbor.forbes.com%2Fthumbor%2Ffit-in%2F1200x0%2Ffilters%253Aformat%2528jpg%2529%2Fhttps%253A%252F%252Fspecials-images.forbesimg.com%252Fdam%252Fimageserve%252F1129869424%252F0x0.jpg%253Ffit%253Dscale&imgrefurl=https%3A%2F%2Fwww.forbes.com%2Fsites%2Ftomtaulli%2F2019%2F03%2F02%2Fwhat-you-need-to-know-about-machine-learning%2F&tbnid=eoz97HFb1eMi2M&vet=12ahUKEwiF78qE5IzvAhVHH3IKHUvwAbYQMygBegUIARDPAQ..i&docid=KZIq7QZ5ZKhgrM&w=1200&h=900&q=%E2%80%98Machine%20Learning&ved=2ahUKEwiF78qE5IzvAhVHH3IKHUvwAbYQMygBegUIARDPAQ\n",
      "https://www.google.com/imgres?imgurl=https%3A%2F%2Fwww.securityroundtable.org%2Fwp-content%2Fuploads%2F2019%2F06%2Fmachine-learning.png&imgrefurl=https%3A%2F%2Fwww.securityroundtable.org%2Fthe-growing-role-of-machine-learning-in-cybersecurity%2F&tbnid=y8j_mHJpfps5oM&vet=12ahUKEwiF78qE5IzvAhVHH3IKHUvwAbYQMygCegUIARDRAQ..i&docid=4_DUVul2BrfZZM&w=2048&h=1183&q=%E2%80%98Machine%20Learning&ved=2ahUKEwiF78qE5IzvAhVHH3IKHUvwAbYQMygCegUIARDRAQ\n",
      "https://www.google.com/imgres?imgurl=https%3A%2F%2Fmiro.medium.com%2Fmax%2F2400%2F1*c_fiB-YgbnMl6nntYGBMHQ.jpeg&imgrefurl=https%3A%2F%2Fbecominghuman.ai%2Fan-introduction-to-machine-learning-33a1b5d3a560&tbnid=3jLhLzMP7uPj8M&vet=12ahUKEwiF78qE5IzvAhVHH3IKHUvwAbYQMygDegUIARDTAQ..i&docid=fsy6MgAUs3N2mM&w=1200&h=785&q=%E2%80%98Machine%20Learning&ved=2ahUKEwiF78qE5IzvAhVHH3IKHUvwAbYQMygDegUIARDTAQ\n",
      "https://www.google.com/imgres?imgurl=https%3A%2F%2Fwordstream-files-prod.s3.amazonaws.com%2Fs3fs-public%2Fstyles%2Fsimple_image%2Fpublic%2Fimages%2Fmachine-learning1.png%3FSnePeroHk5B9yZaLY7peFkULrfW8Gtaf%26itok%3DyjEJbEKD&imgrefurl=https%3A%2F%2Fwww.wordstream.com%2Fblog%2Fws%2F2017%2F07%2F28%2Fmachine-learning-applications&tbnid=tL75W2Gg067-6M&vet=12ahUKEwiF78qE5IzvAhVHH3IKHUvwAbYQMygEegUIARDVAQ..i&docid=w4crQID_KA1BNM&w=1398&h=1000&q=%E2%80%98Machine%20Learning&ved=2ahUKEwiF78qE5IzvAhVHH3IKHUvwAbYQMygEegUIARDVAQ\n",
      "https://www.google.com/imgres?imgurl=https%3A%2F%2Fwww.thermofisher.com%2Fblog%2Fconnectedlab%2Fwp-content%2Fuploads%2Fsites%2F14%2F2020%2F01%2Fistock-962219860-2-scaled.jpg&imgrefurl=https%3A%2F%2Fwww.thermofisher.com%2Fblog%2Fconnectedlab%2Fmachine-learning-a-primer-to-laboratory-applications%2F&tbnid=PgRkBIB1MLLrxM&vet=12ahUKEwiF78qE5IzvAhVHH3IKHUvwAbYQMygFegUIARDXAQ..i&docid=ywezucgqX3ju7M&w=2560&h=1764&q=%E2%80%98Machine%20Learning&ved=2ahUKEwiF78qE5IzvAhVHH3IKHUvwAbYQMygFegUIARDXAQ\n",
      "https://www.google.com/imgres?imgurl=https%3A%2F%2Fwww.blumeglobal.com%2Fwp-content%2Fuploads%2F2018%2F11%2Fshutterstock_344688470.jpg&imgrefurl=https%3A%2F%2Fwww.blumeglobal.com%2Flearning%2Fmachine-learning%2F&tbnid=E4LcRSbAmRpxHM&vet=12ahUKEwiF78qE5IzvAhVHH3IKHUvwAbYQMygGegUIARDZAQ..i&docid=e6cxx9al5Fp5nM&w=7016&h=4965&q=%E2%80%98Machine%20Learning&ved=2ahUKEwiF78qE5IzvAhVHH3IKHUvwAbYQMygGegUIARDZAQ\n",
      "https://www.google.com/imgres?imgurl=https%3A%2F%2Fwww.ie.edu%2Fexponential-learning%2Fblog%2Fwp-content%2Fuploads%2F2018%2F01%2FMachineLearninginMarketing-1621x1000.jpg&imgrefurl=https%3A%2F%2Fwww.ie.edu%2Fexponential-learning%2Fblog%2Fdata-science%2Fmachine-learning-marketing%2F&tbnid=HBGiXjJd7E1hXM&vet=12ahUKEwiF78qE5IzvAhVHH3IKHUvwAbYQMygHegUIARDbAQ..i&docid=_gNT_SjwQx3HEM&w=1621&h=1000&q=%E2%80%98Machine%20Learning&ved=2ahUKEwiF78qE5IzvAhVHH3IKHUvwAbYQMygHegUIARDbAQ\n",
      "None\n",
      "None\n",
      "https://www.google.com/imgres?imgurl=https%3A%2F%2Fmedia.geeksforgeeks.org%2Fwp-content%2Fcdn-uploads%2FmachineLearning3.png&imgrefurl=https%3A%2F%2Fwww.geeksforgeeks.org%2Fmachine-learning%2F&tbnid=vRPa0fH3k54EqM&vet=12ahUKEwiF78qE5IzvAhVHH3IKHUvwAbYQMygKegUIARDhAQ..i&docid=YWDwa3WDxE4hxM&w=1000&h=700&q=%E2%80%98Machine%20Learning&ved=2ahUKEwiF78qE5IzvAhVHH3IKHUvwAbYQMygKegUIARDhAQ\n",
      "https://www.google.com/imgres?imgurl=https%3A%2F%2Fdata-flair.training%2Fblogs%2Fwp-content%2Fuploads%2Fsites%2F2%2F2017%2F07%2Fwhat-is-machine-learning-1200x675.jpg&imgrefurl=https%3A%2F%2Fdata-flair.training%2Fblogs%2Fmachine-learning-tutorial%2F&tbnid=EmU4M6IKcBH5TM&vet=12ahUKEwiF78qE5IzvAhVHH3IKHUvwAbYQMygLegUIARDjAQ..i&docid=BP-BkWcCjshtpM&w=1200&h=675&q=%E2%80%98Machine%20Learning&ved=2ahUKEwiF78qE5IzvAhVHH3IKHUvwAbYQMygLegUIARDjAQ\n",
      "https://www.google.com/imgres?imgurl=https%3A%2F%2Fs3.amazonaws.com%2Fprod-www-blackline-com%2Fblog%2Fwp-content%2Fuploads%2F2019%2F01%2F29163118%2FA-Conversation-With-BlackLines-Machine-Learning-Experts.jpg&imgrefurl=https%3A%2F%2Fwww.blackline.com%2Fblog%2Ffinance-automation%2Fmachine-learning-experts%2F&tbnid=eiGwvBllfL2uRM&vet=12ahUKEwiF78qE5IzvAhVHH3IKHUvwAbYQMygMegUIARDlAQ..i&docid=rxm0ep_wGbycLM&w=1000&h=600&q=%E2%80%98Machine%20Learning&ved=2ahUKEwiF78qE5IzvAhVHH3IKHUvwAbYQMygMegUIARDlAQ\n",
      "https://www.google.com/imgres?imgurl=https%3A%2F%2Fcdn.analyticsvidhya.com%2Fwp-content%2Fuploads%2F2020%2F03%2F04_thumb.jpg&imgrefurl=https%3A%2F%2Fwww.analyticsvidhya.com%2Fblog%2F2020%2F04%2Fannouncing-machine-learning-starter-program%2F&tbnid=4_ppxHm4nelvbM&vet=12ahUKEwiF78qE5IzvAhVHH3IKHUvwAbYQMygNegUIARDnAQ..i&docid=KxpGSnhrSsFe-M&w=760&h=420&q=%E2%80%98Machine%20Learning&ved=2ahUKEwiF78qE5IzvAhVHH3IKHUvwAbYQMygNegUIARDnAQ\n",
      "https://www.google.com/imgres?imgurl=https%3A%2F%2Fcdn.searchenginejournal.com%2Fwp-content%2Fuploads%2F2020%2F09%2Fhow-machine-learning-is-changing-seo-how-to-adapt-5f60c25878dfc-1520x800.png&imgrefurl=https%3A%2F%2Fwww.searchenginejournal.com%2Fmachine-learning-seo%2F208415%2F&tbnid=o9u_Hrx5xXhkxM&vet=12ahUKEwiF78qE5IzvAhVHH3IKHUvwAbYQMygOegUIARDpAQ..i&docid=C7IBd_LgvDpFHM&w=1520&h=800&q=%E2%80%98Machine%20Learning&ved=2ahUKEwiF78qE5IzvAhVHH3IKHUvwAbYQMygOegUIARDpAQ\n",
      "https://www.google.com/imgres?imgurl=https%3A%2F%2Fi.pcmag.com%2Fimagery%2Farticles%2F03TusrjgeJmocMs3y4zcxE0-7.fit_scale.size_1028x578.v1569484420.jpg&imgrefurl=https%3A%2F%2Fwww.pcmag.com%2Fnews%2Fthe-business-guide-to-machine-learning&tbnid=OYA5fmmuLW9FPM&vet=12ahUKEwiF78qE5IzvAhVHH3IKHUvwAbYQMygPegUIARDrAQ..i&docid=z3PP-D_j2qPkyM&w=1027&h=578&q=%E2%80%98Machine%20Learning&ved=2ahUKEwiF78qE5IzvAhVHH3IKHUvwAbYQMygPegUIARDrAQ\n",
      "https://www.google.com/imgres?imgurl=https%3A%2F%2Fcdn2.hubspot.net%2Fhubfs%2F202339%2Fmachine%2520learning.png&imgrefurl=https%3A%2F%2Fwww.newgenapps.com%2Fblog%2Fhow-machine-learning-is-changing-the-it-industry%2F&tbnid=Xrjb4tTlwE2Q8M&vet=12ahUKEwiF78qE5IzvAhVHH3IKHUvwAbYQMygQegUIARDtAQ..i&docid=CWOFQTx0SWb4MM&w=1429&h=885&q=%E2%80%98Machine%20Learning&ved=2ahUKEwiF78qE5IzvAhVHH3IKHUvwAbYQMygQegUIARDtAQ\n",
      "https://www.google.com/imgres?imgurl=https%3A%2F%2Feict.iitr.ac.in%2Fimages%2Fmachinelearning.jpg&imgrefurl=https%3A%2F%2Feict.iitr.ac.in%2Fprev.html&tbnid=DD-08JMotCKexM&vet=12ahUKEwiF78qE5IzvAhVHH3IKHUvwAbYQMygRegUIARDvAQ..i&docid=y32Mpm1cNWoe7M&w=1000&h=647&q=%E2%80%98Machine%20Learning&ved=2ahUKEwiF78qE5IzvAhVHH3IKHUvwAbYQMygRegUIARDvAQ\n",
      "https://www.google.com/imgres?imgurl=https%3A%2F%2Fwww.expert.ai%2Fwp-content%2Fuploads%2F2017%2F03%2Fmachine-learning-definition.jpeg&imgrefurl=https%3A%2F%2Fwww.expert.ai%2Fblog%2Fmachine-learning-definition%2F&tbnid=Ae4oqI3KeK3dIM&vet=12ahUKEwiF78qE5IzvAhVHH3IKHUvwAbYQMygSegUIARDxAQ..i&docid=I0ZQVzgv7xSlKM&w=1600&h=419&q=%E2%80%98Machine%20Learning&ved=2ahUKEwiF78qE5IzvAhVHH3IKHUvwAbYQMygSegUIARDxAQ\n",
      "https://www.google.com/imgres?imgurl=https%3A%2F%2Fcommunity-cdn-digitalocean-com.global.ssl.fastly.net%2Fvariants%2FfR1fwLvJDeYDMNenxu3XokLs%2F035575f2985fe451d86e717d73691e533a1a00545d7230900ed786341dc3c882&imgrefurl=https%3A%2F%2Fwww.digitalocean.com%2Fcommunity%2Ftutorials%2Fan-introduction-to-machine-learning&tbnid=dPRCtaqAgh0f3M&vet=12ahUKEwiF78qE5IzvAhVHH3IKHUvwAbYQMygTegUIARDzAQ..i&docid=eL_gRmYuCPT3IM&w=750&h=375&q=%E2%80%98Machine%20Learning&ved=2ahUKEwiF78qE5IzvAhVHH3IKHUvwAbYQMygTegUIARDzAQ\n",
      "https://www.google.com/imgres?imgurl=https%3A%2F%2Fwww.bbva.com%2Fwp-content%2Fuploads%2F2019%2F11%2Fmachine-learning-1920x1180.jpg&imgrefurl=https%3A%2F%2Fwww.bbva.com%2Fen%2Fmachine-learning-how-its-used-in-banking%2F&tbnid=N1j3kHnThTA9KM&vet=12ahUKEwiF78qE5IzvAhVHH3IKHUvwAbYQMygUegUIARD1AQ..i&docid=A20U6myBij3wOM&w=1920&h=1180&q=%E2%80%98Machine%20Learning&ved=2ahUKEwiF78qE5IzvAhVHH3IKHUvwAbYQMygUegUIARD1AQ\n",
      "https://www.google.com/imgres?imgurl=https%3A%2F%2Fimages.idgesg.net%2Fimages%2Farticle%2F2020%2F07%2Fmachine-learning-and-mlops-hpe-ezmeral-softwaretg-100851051-large.jpg&imgrefurl=https%3A%2F%2Fwww.networkworld.com%2Farticle%2F3587131%2Fmachine-learning-in-network-management-has-promise-challenges.html&tbnid=YG_6ZyNuXx7neM&vet=12ahUKEwiF78qE5IzvAhVHH3IKHUvwAbYQMygVegUIARD3AQ..i&docid=YyoYaWVuVpRJuM&w=1200&h=800&q=%E2%80%98Machine%20Learning&ved=2ahUKEwiF78qE5IzvAhVHH3IKHUvwAbYQMygVegUIARD3AQ\n",
      "https://www.google.com/imgres?imgurl=https%3A%2F%2Fwww.simplilearn.com%2Fice9%2Ffree_resources_article_thumb%2FDeep-Learning-vs-Machine-Learning.jpg&imgrefurl=https%3A%2F%2Fwww.simplilearn.com%2Fmachine-learning-vs-deep-learning-major-differences-you-need-to-know-article&tbnid=xwU9PW0bTAPaIM&vet=12ahUKEwiF78qE5IzvAhVHH3IKHUvwAbYQMygWegUIARD5AQ..i&docid=QGD4Ft0EgfblhM&w=848&h=477&q=%E2%80%98Machine%20Learning&ved=2ahUKEwiF78qE5IzvAhVHH3IKHUvwAbYQMygWegUIARD5AQ\n",
      "https://www.google.com/imgres?imgurl=https%3A%2F%2Fvelocityglobal.com%2Fwp-content%2Fuploads%2F2019%2F02%2FBlog-Images-Forget-Machine-Learning-Humans-Still-Have-a-Lot-to-Learn-Part-II.jpg&imgrefurl=https%3A%2F%2Fvelocityglobal.com%2Fblog%2Fforget-machine-learning-humans-still-a-lot-to-learn-about-themselves-ii%2F&tbnid=-YiNP6NXm8RNJM&vet=12ahUKEwiF78qE5IzvAhVHH3IKHUvwAbYQMygXegUIARD7AQ..i&docid=iLkysiPtZJ_8eM&w=2400&h=1256&q=%E2%80%98Machine%20Learning&ved=2ahUKEwiF78qE5IzvAhVHH3IKHUvwAbYQMygXegUIARD7AQ\n",
      "https://www.google.com/imgres?imgurl=https%3A%2F%2Fhazelcast.com%2Fwp-content%2Fuploads%2F2019%2F02%2Fshutterstock_1214787442-1024x465-1000x454.jpg&imgrefurl=https%3A%2F%2Fhazelcast.com%2Fblog%2Fexecuting-machine-learning-at-scale-and-speed%2F&tbnid=bkHiQ2CrR_mqUM&vet=12ahUKEwiF78qE5IzvAhVHH3IKHUvwAbYQMygZegUIARCEAg..i&docid=ggSa-fcJqRlH7M&w=1000&h=454&q=%E2%80%98Machine%20Learning&ved=2ahUKEwiF78qE5IzvAhVHH3IKHUvwAbYQMygZegUIARCEAg\n",
      "https://www.google.com/imgres?imgurl=https%3A%2F%2Fappen.com%2Fwp-content%2Fuploads%2F2019%2F10%2FiStock-1181216327-750x422-1.jpg&imgrefurl=https%3A%2F%2Fappen.com%2Fblog%2Fwhat-does-interoperability-mean-for-the-future-of-machine-learning%2F&tbnid=0K283ml7Q7lHsM&vet=12ahUKEwiF78qE5IzvAhVHH3IKHUvwAbYQMygaegUIARCGAg..i&docid=obbBpgCu_4CePM&w=750&h=422&q=%E2%80%98Machine%20Learning&ved=2ahUKEwiF78qE5IzvAhVHH3IKHUvwAbYQMygaegUIARCGAg\n",
      "https://www.google.com/imgres?imgurl=https%3A%2F%2Fimages.idgesg.net%2Fimages%2Farticle%2F2020%2F08%2Fcso_ts_ai_ml_by-just_super-getty-images_2400x1600-100853892-large.jpg&imgrefurl=https%3A%2F%2Fwww.csoonline.com%2Farticle%2F3434610%2Fhow-secure-are-your-ai-and-machine-learning-projects.html&tbnid=m1HEaIQBQ2SZXM&vet=12ahUKEwiF78qE5IzvAhVHH3IKHUvwAbYQMygbegUIARCIAg..i&docid=REDyW6oOqiy3OM&w=1200&h=800&q=%E2%80%98Machine%20Learning&ved=2ahUKEwiF78qE5IzvAhVHH3IKHUvwAbYQMygbegUIARCIAg\n",
      "https://www.google.com/imgres?imgurl=https%3A%2F%2Fmobidev.biz%2Fwp-content%2Fuploads%2F2020%2F08%2F2400-unsupervised-machine-learning-improve-data-quality.png&imgrefurl=https%3A%2F%2Fmobidev.biz%2Fblog%2Funsupervised-machine-learning-improve-data-quality&tbnid=y7g1pMnatsaAAM&vet=12ahUKEwiF78qE5IzvAhVHH3IKHUvwAbYQMygcegUIARCKAg..i&docid=XFTLA7eFJn8HrM&w=2400&h=1100&q=%E2%80%98Machine%20Learning&ved=2ahUKEwiF78qE5IzvAhVHH3IKHUvwAbYQMygcegUIARCKAg\n",
      "https://www.google.com/imgres?imgurl=https%3A%2F%2Fi.ytimg.com%2Fvi%2FpHiMN_gy9mk%2Fmaxresdefault.jpg&imgrefurl=https%3A%2F%2Fm.youtube.com%2Fwatch%3Fv%3DpHiMN_gy9mk&tbnid=mzm5Q9aZ6e0cDM&vet=12ahUKEwiF78qE5IzvAhVHH3IKHUvwAbYQMygdegUIARCMAg..i&docid=8C6uWdK7irQHeM&w=1280&h=720&q=%E2%80%98Machine%20Learning&ved=2ahUKEwiF78qE5IzvAhVHH3IKHUvwAbYQMygdegUIARCMAg\n",
      "https://www.google.com/imgres?imgurl=https%3A%2F%2Fdevelopers.google.com%2Fmachine-learning%2Fguides%2Fimages%2Fpair-guidebook-hero-image.png&imgrefurl=https%3A%2F%2Fdevelopers.google.com%2Fmachine-learning%2Fguides&tbnid=lcWil2j3lsLIZM&vet=12ahUKEwiF78qE5IzvAhVHH3IKHUvwAbYQMygeegUIARCPAg..i&docid=4l6xk-mugKI7wM&w=800&h=450&q=%E2%80%98Machine%20Learning&ved=2ahUKEwiF78qE5IzvAhVHH3IKHUvwAbYQMygeegUIARCPAg\n",
      "https://www.google.com/imgres?imgurl=https%3A%2F%2Fserokell.io%2Ffiles%2Fzx%2Fzxwju3ha.Machine-learning-vs-deep-learning.jpg&imgrefurl=https%3A%2F%2Fserokell.io%2Fblog%2Fai-ml-dl-difference&tbnid=cibb-DONFd2OjM&vet=12ahUKEwiF78qE5IzvAhVHH3IKHUvwAbYQMygfegUIARCRAg..i&docid=2iCJ7CMZUqojfM&w=1203&h=1187&q=%E2%80%98Machine%20Learning&ved=2ahUKEwiF78qE5IzvAhVHH3IKHUvwAbYQMygfegUIARCRAg\n",
      "https://www.google.com/imgres?imgurl=https%3A%2F%2Fmedia.springernature.com%2Frelative-r300-703_m1050%2Fspringer-static%2Fimage%2Fart%253A10.1038%252Fs41592-019-0432-9%2FMediaObjects%2F41592_2019_432_Figa_HTML.png&imgrefurl=https%3A%2F%2Fwww.nature.com%2Farticles%2Fs41592-019-0432-9&tbnid=PqHTMplPAXN0rM&vet=12ahUKEwiF78qE5IzvAhVHH3IKHUvwAbYQMyggegUIARCTAg..i&docid=xRd5A2AgQoCftM&w=703&h=559&q=%E2%80%98Machine%20Learning&ved=2ahUKEwiF78qE5IzvAhVHH3IKHUvwAbYQMyggegUIARCTAg\n",
      "https://www.google.com/imgres?imgurl=https%3A%2F%2Fmiro.medium.com%2Fmax%2F1200%2F1*pzrsGTuIVROqhz6_pXHgLg.jpeg&imgrefurl=https%3A%2F%2Ftowardsdatascience.com%2Fa-journey-into-supervised-machine-learning-f26f238b0477&tbnid=zE6LRWYbV5R3hM&vet=12ahUKEwiF78qE5IzvAhVHH3IKHUvwAbYQMyghegUIARCVAg..i&docid=u2qu9APJG30MKM&w=1200&h=818&q=%E2%80%98Machine%20Learning&ved=2ahUKEwiF78qE5IzvAhVHH3IKHUvwAbYQMyghegUIARCVAg\n",
      "https://www.google.com/imgres?imgurl=https%3A%2F%2Fwww.ceralytics.com%2Fwp-content%2Fuploads%2F2019%2F08%2Fmachine-learning-featured.jpg&imgrefurl=https%3A%2F%2Fwww.ceralytics.com%2F3-types-of-machine-learning%2F&tbnid=ZGfOT3dgKF70FM&vet=12ahUKEwiF78qE5IzvAhVHH3IKHUvwAbYQMygiegUIARCXAg..i&docid=5K714KKJCvu4PM&w=745&h=466&q=%E2%80%98Machine%20Learning&ved=2ahUKEwiF78qE5IzvAhVHH3IKHUvwAbYQMygiegUIARCXAg\n",
      "https://www.google.com/imgres?imgurl=https%3A%2F%2Fwww.disruptivestatic.com%2Fwp-content%2Fuploads%2F2018%2F05%2Fmachine-learning-ecommerce-blog-1.jpg&imgrefurl=https%3A%2F%2Fwww.disruptiveadvertising.com%2Fppc%2Fecommerce%2Fmachine-learning-ecommerce%2F&tbnid=yoJEseFPl_D5jM&vet=12ahUKEwiF78qE5IzvAhVHH3IKHUvwAbYQMygjegUIARCZAg..i&docid=4xF_bTjKPvibTM&w=750&h=420&q=%E2%80%98Machine%20Learning&ved=2ahUKEwiF78qE5IzvAhVHH3IKHUvwAbYQMygjegUIARCZAg\n",
      "https://www.google.com/imgres?imgurl=https%3A%2F%2Fwww.merkleinc.com%2Fsites%2Fdefault%2Ffiles%2Finline-images%2FDL%2520and%2520ML1%2520resized.jpg&imgrefurl=https%3A%2F%2Fwww.merkleinc.com%2Fblog%2Fdispelling-myths-deep-learning-vs-machine-learning&tbnid=kpy_4f8-tyVkZM&vet=12ahUKEwiF78qE5IzvAhVHH3IKHUvwAbYQMygkegUIARCbAg..i&docid=SKHifFvgMfXByM&w=750&h=375&q=%E2%80%98Machine%20Learning&ved=2ahUKEwiF78qE5IzvAhVHH3IKHUvwAbYQMygkegUIARCbAg\n",
      "https://www.google.com/imgres?imgurl=https%3A%2F%2Fwww.verzeo.in%2Fnew%2Fimages%2Fnewblogs%2Fml01.png&imgrefurl=https%3A%2F%2Fwww.verzeo.in%2Fblog-what-is-machine-learning&tbnid=h356uX0zCmeLkM&vet=12ahUKEwiF78qE5IzvAhVHH3IKHUvwAbYQMyglegUIARCdAg..i&docid=vntHgdbbyRDnMM&w=2400&h=1106&q=%E2%80%98Machine%20Learning&ved=2ahUKEwiF78qE5IzvAhVHH3IKHUvwAbYQMyglegUIARCdAg\n",
      "https://www.google.com/imgres?imgurl=https%3A%2F%2Fanalyticsinsight.b-cdn.net%2Fwp-content%2Fuploads%2F2021%2F01%2FUnderstanding-Deep-Learning-vs-Machine-Learning.jpg&imgrefurl=https%3A%2F%2Fwww.analyticsinsight.net%2Funderstanding-deep-learning-vs-machine-learning%2F&tbnid=Nuy_1LEfDa80iM&vet=12ahUKEwiF78qE5IzvAhVHH3IKHUvwAbYQMygmegUIARCfAg..i&docid=VZTN2XCIKv7DOM&w=900&h=500&itg=1&q=%E2%80%98Machine%20Learning&ved=2ahUKEwiF78qE5IzvAhVHH3IKHUvwAbYQMygmegUIARCfAg\n",
      "https://www.google.com/imgres?imgurl=https%3A%2F%2Fcdn.ttgtmedia.com%2Frms%2FonlineImages%2Fbusiness_analytics-machine_learning_process_mobile.jpg&imgrefurl=https%3A%2F%2Fsearchenterpriseai.techtarget.com%2Fdefinition%2Fmachine-learning-ML&tbnid=4ps2Wcbee99owM&vet=12ahUKEwiF78qE5IzvAhVHH3IKHUvwAbYQMygnegUIARChAg..i&docid=p6dtGcNw2qTSaM&w=560&h=498&q=%E2%80%98Machine%20Learning&ved=2ahUKEwiF78qE5IzvAhVHH3IKHUvwAbYQMygnegUIARChAg\n",
      "https://www.google.com/imgres?imgurl=https%3A%2F%2Fwp.technologyreview.com%2Fwp-content%2Fuploads%2F2018%2F11%2Falgorithm2orange.1-9.jpg%3Fw%3D2667%3Fcrop%3D0px%2C277px%2C3264px%2C1836px%26w%3D2667px&imgrefurl=https%3A%2F%2Fwww.technologyreview.com%2F2018%2F11%2F17%2F103781%2Fwhat-is-machine-learning-we-drew-you-another-flowchart%2F&tbnid=KniAH8_wRjgirM&vet=12ahUKEwiF78qE5IzvAhVHH3IKHUvwAbYQMygoegUIARCjAg..i&docid=AI1FFfjAv7wD5M&w=2667&h=2000&q=%E2%80%98Machine%20Learning&ved=2ahUKEwiF78qE5IzvAhVHH3IKHUvwAbYQMygoegUIARCjAg\n",
      "https://www.google.com/imgres?imgurl=https%3A%2F%2Fwww.iberdrola.com%2Fwcorp%2Fgc%2Fprod%2Fen_US%2Fcomunicacion%2Fmachine_learning_mult_1_res%2Fmachine_learning_746x419.jpg&imgrefurl=https%3A%2F%2Fwww.iberdrola.com%2Finnovation%2Fmachine-learning-automatic-learning&tbnid=FC4GzskmUbuLfM&vet=12ahUKEwiF78qE5IzvAhVHH3IKHUvwAbYQMygpegUIARClAg..i&docid=dqB2M7rXsGoLLM&w=746&h=419&q=%E2%80%98Machine%20Learning&ved=2ahUKEwiF78qE5IzvAhVHH3IKHUvwAbYQMygpegUIARClAg\n",
      "https://www.google.com/imgres?imgurl=https%3A%2F%2Fcoschedule.s3.amazonaws.com%2F106308%2F910af4fa-63fa-4346-a2f2-ef280e8a250f%2F1576687016462.png&imgrefurl=https%3A%2F%2Fwww.potentiaco.com%2Fwhat-is-machine-learning-definition-types-applications-and-examples%2F&tbnid=IjOzpDyunmMyWM&vet=12ahUKEwiF78qE5IzvAhVHH3IKHUvwAbYQMygqegUIARCnAg..i&docid=03O_5-2NrHgsYM&w=600&h=519&q=%E2%80%98Machine%20Learning&ved=2ahUKEwiF78qE5IzvAhVHH3IKHUvwAbYQMygqegUIARCnAg\n",
      "https://www.google.com/imgres?imgurl=https%3A%2F%2Fmiro.medium.com%2Fmax%2F2628%2F1*8wU0hfUY3UK_D8Y7tbIyFQ.png&imgrefurl=https%3A%2F%2Ftowardsdatascience.com%2Fcoding-deep-learning-for-beginners-types-of-machine-learning-b9e651e1ed9d&tbnid=T2NaGa_CanfRzM&vet=12ahUKEwiF78qE5IzvAhVHH3IKHUvwAbYQMygregUIARCpAg..i&docid=oLHSXLW6yz8NaM&w=1314&h=890&q=%E2%80%98Machine%20Learning&ved=2ahUKEwiF78qE5IzvAhVHH3IKHUvwAbYQMygregUIARCpAg\n",
      "https://www.google.com/imgres?imgurl=https%3A%2F%2Fwww.xantaro.net%2Fwp-content%2Fuploads%2F2018%2F10%2FXantaro_ML_DL.png&imgrefurl=https%3A%2F%2Fwww.xantaro.net%2Fen%2Ftech-blogs%2Fmachine-and-deep-learning-cybersecurity%2F&tbnid=j6GpVVQlTjI94M&vet=12ahUKEwiF78qE5IzvAhVHH3IKHUvwAbYQMygsegUIARCrAg..i&docid=zjZANSY6SVjgYM&w=1684&h=1282&q=%E2%80%98Machine%20Learning&ved=2ahUKEwiF78qE5IzvAhVHH3IKHUvwAbYQMygsegUIARCrAg\n",
      "https://www.google.com/imgres?imgurl=https%3A%2F%2Fcdn-media-1.freecodecamp.org%2Fimages%2F1*92h6Lg1Bu1F9QqoVNrkLdQ.jpeg&imgrefurl=https%3A%2F%2Fwww.freecodecamp.org%2Fnews%2Fthe-best-resources-i-used-to-teach-myself-machine-learning-part-1-292232d167%2F&tbnid=Vx6CXLO_O6xcUM&vet=12ahUKEwiF78qE5IzvAhVHH3IKHUvwAbYQMygtegUIARCtAg..i&docid=p08EnIoApgiO2M&w=800&h=639&q=%E2%80%98Machine%20Learning&ved=2ahUKEwiF78qE5IzvAhVHH3IKHUvwAbYQMygtegUIARCtAg\n",
      "https://www.google.com/imgres?imgurl=https%3A%2F%2Fwww.potentiaco.com%2Fwp-content%2Fuploads%2F2019%2F12%2FWhat-Is-Machine-Learning-Article.png&imgrefurl=https%3A%2F%2Fwww.potentiaco.com%2Fwhat-is-machine-learning-definition-types-applications-and-examples%2F&tbnid=64ES_cnLJE8V-M&vet=12ahUKEwiF78qE5IzvAhVHH3IKHUvwAbYQMyguegUIARCvAg..i&docid=03O_5-2NrHgsYM&w=600&h=350&q=%E2%80%98Machine%20Learning&ved=2ahUKEwiF78qE5IzvAhVHH3IKHUvwAbYQMyguegUIARCvAg\n",
      "https://www.google.com/imgres?imgurl=https%3A%2F%2Fwww.nokia.com%2Fsites%2Fdefault%2Ffiles%2Fstyles%2Fnokia_blog_page_image%2Fpublic%2Fblog%2Fnokia-analytics-banner.jpg&imgrefurl=https%3A%2F%2Fwww.nokia.com%2Fblog%2Fstudy-ai-machine-learning%2F&tbnid=yXNgZEFpnrd3yM&vet=12ahUKEwiF78qE5IzvAhVHH3IKHUvwAbYQMygvegUIARCxAg..i&docid=lFbVuztF-oeBLM&w=942&h=381&q=%E2%80%98Machine%20Learning&ved=2ahUKEwiF78qE5IzvAhVHH3IKHUvwAbYQMygvegUIARCxAg\n",
      "https://www.google.com/imgres?imgurl=https%3A%2F%2Fi2.wp.com%2Fsemiengineering.com%2Fwp-content%2Fuploads%2F2018%2F01%2FMLvsDL.png%3Fresize%3D733%252C405%26ssl%3D1&imgrefurl=https%3A%2F%2Fsemiengineering.com%2Fdeep-learning-spreads%2F&tbnid=Vu3iP3AlfVu4rM&vet=12ahUKEwiF78qE5IzvAhVHH3IKHUvwAbYQMygwegUIARCzAg..i&docid=yuS2zituYhM0VM&w=733&h=405&q=%E2%80%98Machine%20Learning&ved=2ahUKEwiF78qE5IzvAhVHH3IKHUvwAbYQMygwegUIARCzAg\n",
      "https://www.google.com/imgres?imgurl=https%3A%2F%2Fassets.entrepreneur.com%2Fcontent%2F3x2%2F2000%2F20190826134910-GettyImages-1132912604.jpeg%3Fwidth%3D700%26crop%3D2%3A1&imgrefurl=https%3A%2F%2Fwww.entrepreneur.com%2Farticle%2F338447&tbnid=Pv3qY3rvTZzi7M&vet=12ahUKEwiF78qE5IzvAhVHH3IKHUvwAbYQMygxegUIARC1Ag..i&docid=yoUsgiPlr-BrAM&w=700&h=350&q=%E2%80%98Machine%20Learning&ved=2ahUKEwiF78qE5IzvAhVHH3IKHUvwAbYQMygxegUIARC1Ag\n",
      "https://www.google.com/imgres?imgurl=https%3A%2F%2Fassets.amazon.science%2Fdims4%2Fdefault%2F07ceabb%2F2147483647%2Fstrip%2Ftrue%2Fcrop%2F1532x804%2B0%2B36%2Fresize%2F1200x630!%2Fquality%2F90%2F%3Furl%3Dhttp%253A%252F%252Famazon-topics-brightspot.s3.amazonaws.com%252Fscience%252Faa%252Fd2%252Fc6f68351463ca69dc25790152692%252Famazon-machine-learning-university.png&imgrefurl=https%3A%2F%2Fwww.amazon.science%2Flatest-news%2Fmachine-learning-course-free-online-from-amazon-machine-learning-university&tbnid=WgF31pLbxoJ4jM&vet=12ahUKEwiF78qE5IzvAhVHH3IKHUvwAbYQMygyegQIARBX..i&docid=_F5jA_dy5teP-M&w=1200&h=630&q=%E2%80%98Machine%20Learning&ved=2ahUKEwiF78qE5IzvAhVHH3IKHUvwAbYQMygyegQIARBX\n",
      "https://www.google.com/imgres?imgurl=https%3A%2F%2Ftr1.cbsistatic.com%2Fhub%2Fi%2Fr%2F2019%2F02%2F14%2Fbfa2d5fd-49b2-4fb7-9d80-a060e61ddb65%2Fresize%2F1200x%2F35819a847de6cbcf2dc157c8a526e22a%2Fmachine-learning.jpg&imgrefurl=https%3A%2F%2Fwww.techrepublic.com%2Farticle%2Fstate-of-enterprise-machine-learning-in-2020-7-key-findings%2F&tbnid=H81xXynNT5kJxM&vet=12ahUKEwiF78qE5IzvAhVHH3IKHUvwAbYQMygzegQIARBZ..i&docid=H2p8JmxH0E3eRM&w=1200&h=900&q=%E2%80%98Machine%20Learning&ved=2ahUKEwiF78qE5IzvAhVHH3IKHUvwAbYQMygzegQIARBZ\n",
      "https://www.google.com/imgres?imgurl=https%3A%2F%2Fwww.refinitiv.com%2Fcontent%2Fdam%2Fmarketing%2Fen_us%2Fimage%2Fphotography%2Fstock%2Fhero%2Fadobestock_335969458.jpg.transform%2Fhero-m%2Fq82%2Fimage.jpg&imgrefurl=https%3A%2F%2Fwww.refinitiv.com%2Fen%2Fartificial-intelligence-machine-learning&tbnid=eWL84qWccWZQeM&vet=12ahUKEwiF78qE5IzvAhVHH3IKHUvwAbYQMyg0egQIARBb..i&docid=qi2stIEoOlC84M&w=1440&h=550&q=%E2%80%98Machine%20Learning&ved=2ahUKEwiF78qE5IzvAhVHH3IKHUvwAbYQMyg0egQIARBb\n",
      "https://www.google.com/imgres?imgurl=https%3A%2F%2Falgorithmia.com%2Fblog%2Fwp-content%2Fuploads%2F2020%2F09%2FActive-Learning-ML-1_Header-scaled.jpg&imgrefurl=https%3A%2F%2Falgorithmia.com%2Fblog%2Factive-learning-machine-learning&tbnid=Qn7m44U74mTCwM&vet=12ahUKEwiF78qE5IzvAhVHH3IKHUvwAbYQMyg1egQIARBd..i&docid=Y-EchsCHpsAYIM&w=2560&h=1136&q=%E2%80%98Machine%20Learning&ved=2ahUKEwiF78qE5IzvAhVHH3IKHUvwAbYQMyg1egQIARBd\n",
      "https://www.google.com/imgres?imgurl=https%3A%2F%2Flawtomated.com%2Fwp-content%2Fuploads%2F2019%2F04%2FMLvsDL.png&imgrefurl=https%3A%2F%2Flawtomated.com%2Fa-i-technical-machine-vs-deep-learning%2F&tbnid=BM2T5fS23WC__M&vet=12ahUKEwiF78qE5IzvAhVHH3IKHUvwAbYQMyg2egQIARBf..i&docid=P7nuutdFwbvG_M&w=706&h=347&q=%E2%80%98Machine%20Learning&ved=2ahUKEwiF78qE5IzvAhVHH3IKHUvwAbYQMyg2egQIARBf\n",
      "https://www.google.com/imgres?imgurl=https%3A%2F%2Fmartechseries.com%2Fwp-content%2Fuploads%2F2019%2F10%2FHow-Complex-Machine-Learning-Will-Enter-Your-Smartphone-Guest-Post.jpg&imgrefurl=https%3A%2F%2Fmartechseries.com%2Fmts-insights%2Fguest-authors%2Fcomplex-machine-learning-will-enter-smartphone%2F&tbnid=PSCAYbaIVqdcbM&vet=12ahUKEwiF78qE5IzvAhVHH3IKHUvwAbYQMyg3egQIARBh..i&docid=5pKbGoOALvHR-M&w=2300&h=1300&q=%E2%80%98Machine%20Learning&ved=2ahUKEwiF78qE5IzvAhVHH3IKHUvwAbYQMyg3egQIARBh\n",
      "https://www.google.com/imgres?imgurl=https%3A%2F%2Fwww.mrdbourke.com%2Fcontent%2Fimages%2F2020%2F07%2Fml-roadmap-blog-post-header.png&imgrefurl=https%3A%2F%2Fwww.mrdbourke.com%2F2020-machine-learning-roadmap%2F&tbnid=bKPkR0b_5o8plM&vet=12ahUKEwiF78qE5IzvAhVHH3IKHUvwAbYQMyg4egQIARBj..i&docid=Ci_DgQJl5A8uxM&w=2000&h=976&q=%E2%80%98Machine%20Learning&ved=2ahUKEwiF78qE5IzvAhVHH3IKHUvwAbYQMyg4egQIARBj\n",
      "https://www.google.com/imgres?imgurl=https%3A%2F%2Fignite.apache.org%2Fimages%2Fsvg-diagrams%2Fmachine_learning.svg&imgrefurl=https%3A%2F%2Fignite.apache.org%2Ffeatures%2Fmachinelearning.html&tbnid=tMp752H52Kt3fM&vet=12ahUKEwiF78qE5IzvAhVHH3IKHUvwAbYQMyg5egQIARBl..i&docid=v8Cof6Wa7gFdJM&w=800&h=701&q=%E2%80%98Machine%20Learning&ved=2ahUKEwiF78qE5IzvAhVHH3IKHUvwAbYQMyg5egQIARBl\n",
      "https://www.google.com/imgres?imgurl=https%3A%2F%2Fdv-website.s3.amazonaws.com%2Fuploads%2F2019%2F03%2Fkf_bhml_032719.jpg&imgrefurl=https%3A%2F%2Fwww.dataversity.net%2Fa-brief-history-of-machine-learning%2F&tbnid=Fdkk-F-cnEPz_M&vet=12ahUKEwiF78qE5IzvAhVHH3IKHUvwAbYQMyg6egQIARBn..i&docid=2YuOTppas5N_DM&w=600&h=448&q=%E2%80%98Machine%20Learning&ved=2ahUKEwiF78qE5IzvAhVHH3IKHUvwAbYQMyg6egQIARBn\n",
      "https://www.google.com/imgres?imgurl=https%3A%2F%2Fwww.bbva.com%2Fwp-content%2Fuploads%2F2019%2F11%2FBBVA-Machine-learning-08112019.png&imgrefurl=https%3A%2F%2Fwww.bbva.com%2Fen%2Fmachine-learning-what-is-it-and-how-does-it-work%2F&tbnid=sJEy2YYgn0SaLM&vet=12ahUKEwiF78qE5IzvAhVHH3IKHUvwAbYQMyg7egQIARBp..i&docid=iJxcxxPzJn7g1M&w=1920&h=1180&q=%E2%80%98Machine%20Learning&ved=2ahUKEwiF78qE5IzvAhVHH3IKHUvwAbYQMyg7egQIARBp\n",
      "https://www.google.com/imgres?imgurl=https%3A%2F%2Fcdn.britannica.com%2Fs%3A800x450%2Cc%3Acrop%2F40%2F216540-138-14385CFE%2FHow-machine-learning-is-predicting-synthetic-products.jpg&imgrefurl=https%3A%2F%2Fwww.britannica.com%2Ftechnology%2Fmachine-learning&tbnid=jJagNU8tZ2wF4M&vet=12ahUKEwiF78qE5IzvAhVHH3IKHUvwAbYQMyg8egQIARBr..i&docid=BwMswl4yZQIR8M&w=800&h=450&q=%E2%80%98Machine%20Learning&ved=2ahUKEwiF78qE5IzvAhVHH3IKHUvwAbYQMyg8egQIARBr\n",
      "https://www.google.com/imgres?imgurl=https%3A%2F%2Fi0.wp.com%2Fbdtechtalks.com%2Fwp-content%2Fuploads%2F2018%2F10%2Fartificial-intelligence-brain.jpg%3Ffit%3D6720%252C4480%26ssl%3D1&imgrefurl=https%3A%2F%2Fbdtechtalks.com%2F2018%2F10%2F08%2Fartificial-intelligence-vs-machine-learning%2F&tbnid=-hghatj2ZVZn0M&vet=12ahUKEwiF78qE5IzvAhVHH3IKHUvwAbYQMyg9egQIARBt..i&docid=-dAZSgD-CBrpfM&w=6720&h=4480&q=%E2%80%98Machine%20Learning&ved=2ahUKEwiF78qE5IzvAhVHH3IKHUvwAbYQMyg9egQIARBt\n",
      "https://www.google.com/imgres?imgurl=https%3A%2F%2Femerj.com%2Fwp-content%2Fuploads%2F2016%2F09%2FWhat-is-Machine-Learning_-950x540.jpg&imgrefurl=https%3A%2F%2Femerj.com%2Fai-glossary-terms%2Fwhat-is-machine-learning%2F&tbnid=-Cq6paQHSSWurM&vet=12ahUKEwiF78qE5IzvAhVHH3IKHUvwAbYQMyg-egQIARBv..i&docid=vq39oDq1a70TBM&w=950&h=540&q=%E2%80%98Machine%20Learning&ved=2ahUKEwiF78qE5IzvAhVHH3IKHUvwAbYQMyg-egQIARBv\n",
      "https://www.google.com/imgres?imgurl=https%3A%2F%2Fbigdata-madesimple.com%2Fwp-content%2Fuploads%2F2018%2F10%2FMachine-Learning.jpg&imgrefurl=https%3A%2F%2Fbigdata-madesimple.com%2Ftop-10-real-life-examples-of-machine-learning%2F&tbnid=Gaaou7vWxEjPgM&vet=12ahUKEwiF78qE5IzvAhVHH3IKHUvwAbYQMyg_egQIARBx..i&docid=dOv9zgGohD0NsM&w=600&h=450&q=%E2%80%98Machine%20Learning&ved=2ahUKEwiF78qE5IzvAhVHH3IKHUvwAbYQMyg_egQIARBx\n",
      "https://www.google.com/imgres?imgurl=https%3A%2F%2Fwww.ionos.com%2Fdigitalguide%2Ffileadmin%2FDigitalGuide%2FTeaser%2Fdeep-learning-vs-machine-learning-t.jpg&imgrefurl=https%3A%2F%2Fwww.ionos.com%2Fdigitalguide%2Fonline-marketing%2Fsearch-engine-marketing%2Fdeep-learning-vs-machine-learning%2F&tbnid=mXIGiJNsUDFdpM&vet=12ahUKEwiF78qE5IzvAhVHH3IKHUvwAbYQMyhAegQIARBz..i&docid=uobRU-Aks3w5jM&w=1200&h=630&q=%E2%80%98Machine%20Learning&ved=2ahUKEwiF78qE5IzvAhVHH3IKHUvwAbYQMyhAegQIARBz\n",
      "https://www.google.com/imgres?imgurl=https%3A%2F%2Fbuiltin.com%2Fsites%2Fdefault%2Ffiles%2Fstyles%2Fckeditor_optimize%2Fpublic%2Finline-images%2Fmachine-learning-pillar-page-overview.jpg&imgrefurl=https%3A%2F%2Fbuiltin.com%2Fmachine-learning&tbnid=VnFRCGRO34q9vM&vet=12ahUKEwiF78qE5IzvAhVHH3IKHUvwAbYQMyhBegQIARB1..i&docid=2WRsUM8G9U-OfM&w=810&h=804&q=%E2%80%98Machine%20Learning&ved=2ahUKEwiF78qE5IzvAhVHH3IKHUvwAbYQMyhBegQIARB1\n",
      "https://www.google.com/imgres?imgurl=https%3A%2F%2Fresources.altair.com%2Fcorp%2Fimages%2Ftrends_machine_learning_header_interior_desktop.jpg&imgrefurl=https%3A%2F%2Fwww.altair.com%2Fmachine-learning%2F&tbnid=a5-QB9qTbRNNGM&vet=12ahUKEwiF78qE5IzvAhVHH3IKHUvwAbYQMyhCegQIARB3..i&docid=BTn3oJmN_CaWMM&w=1920&h=450&q=%E2%80%98Machine%20Learning&ved=2ahUKEwiF78qE5IzvAhVHH3IKHUvwAbYQMyhCegQIARB3\n",
      "https://www.google.com/imgres?imgurl=https%3A%2F%2Fcdn.searchenginejournal.com%2Fwp-content%2Fuploads%2F2020%2F05%2Fhow-machine-learning-in-search-works-everything-you-need-to-know-5eb2e76eb1970.jpg&imgrefurl=https%3A%2F%2Fwww.searchenginejournal.com%2Fsearch-engines%2Fmachine-learning%2F&tbnid=WbjTmEEDy6kBiM&vet=12ahUKEwiF78qE5IzvAhVHH3IKHUvwAbYQMyhDegQIARB5..i&docid=wLu8Pu17yHRYiM&w=1600&h=840&q=%E2%80%98Machine%20Learning&ved=2ahUKEwiF78qE5IzvAhVHH3IKHUvwAbYQMyhDegQIARB5\n",
      "https://www.google.com/imgres?imgurl=https%3A%2F%2Fnews.gsu.edu%2Ffiles%2F2021%2F01%2FDeep-learning-neural-network.jpg&imgrefurl=https%3A%2F%2Fnews.gsu.edu%2F2021%2F01%2F13%2Fdeep-learning-outperforms-standard-machine-learning-in-biomedical-research-applications-research-shows%2F&tbnid=XQUs7nGBfhx_dM&vet=12ahUKEwiF78qE5IzvAhVHH3IKHUvwAbYQMyhEegQIARB7..i&docid=ev7GdGWE5JA8nM&w=2048&h=1080&q=%E2%80%98Machine%20Learning&ved=2ahUKEwiF78qE5IzvAhVHH3IKHUvwAbYQMyhEegQIARB7\n",
      "https://www.google.com/imgres?imgurl=https%3A%2F%2Fi.vas3k.ru%2F7vx.jpg&imgrefurl=https%3A%2F%2Fnoeliagorod.com%2F2019%2F05%2F21%2Fmachine-learning-for-everyone-in-simple-words-with-real-world-examples-yes-again%2F&tbnid=AOT80l8Ahccn8M&vet=12ahUKEwiF78qE5IzvAhVHH3IKHUvwAbYQMyhFegQIARB9..i&docid=xUjFsfBhquRbfM&w=1594&h=1819&q=%E2%80%98Machine%20Learning&ved=2ahUKEwiF78qE5IzvAhVHH3IKHUvwAbYQMyhFegQIARB9\n",
      "https://www.google.com/imgres?imgurl=https%3A%2F%2Fwww.ahajournals.org%2Fcms%2Fasset%2Fc6f16bdf-2e89-4247-9923-29696f91b76f%2Fjah34739-fig-0001.png&imgrefurl=https%3A%2F%2Fwww.ahajournals.org%2Fdoi%2F10.1161%2FJAHA.119.013924&tbnid=MvYtu6LXHwejnM&vet=12ahUKEwiF78qE5IzvAhVHH3IKHUvwAbYQMyhGegQIARB_..i&docid=wuQYDN5pvLW5NM&w=1182&h=1203&q=%E2%80%98Machine%20Learning&ved=2ahUKEwiF78qE5IzvAhVHH3IKHUvwAbYQMyhGegQIARB_\n",
      "https://www.google.com/imgres?imgurl=https%3A%2F%2Fdocs.microsoft.com%2Fen-us%2Fazure%2Fmachine-learning%2Fmedia%2Fconcept-deep-learning-vs-machine-learning%2Fai-vs-machine-learning-vs-deep-learning.png&imgrefurl=https%3A%2F%2Fdocs.microsoft.com%2Fen-us%2Fazure%2Fmachine-learning%2Fconcept-deep-learning-vs-machine-learning&tbnid=TdQZL6LqyZk-iM&vet=12ahUKEwiF78qE5IzvAhVHH3IKHUvwAbYQMyhHegUIARCBAQ..i&docid=OuyW6RIZuyYEOM&w=470&h=325&q=%E2%80%98Machine%20Learning&ved=2ahUKEwiF78qE5IzvAhVHH3IKHUvwAbYQMyhHegUIARCBAQ\n",
      "https://www.google.com/imgres?imgurl=https%3A%2F%2Fblog.udacity.com%2Fwp-content%2Fuploads%2F2020%2F06%2FML-Internship_Blog-scaled.jpeg&imgrefurl=https%3A%2F%2Fblog.udacity.com%2F2020%2F06%2Fwhat-to-expect-during-a-machine-learning-engineer-internship.html&tbnid=VzWbbLKHlDPr7M&vet=12ahUKEwiF78qE5IzvAhVHH3IKHUvwAbYQMyhIegUIARCDAQ..i&docid=PCMjpJ-SOli7TM&w=2560&h=957&q=%E2%80%98Machine%20Learning&ved=2ahUKEwiF78qE5IzvAhVHH3IKHUvwAbYQMyhIegUIARCDAQ\n",
      "https://www.google.com/imgres?imgurl=https%3A%2F%2Fuploads.toptal.io%2Fblog%2Fimage%2F125320%2Ftoptal-blog-image-1517837300693-a3b0d1a0932057bbb4272c6c8feba197.png&imgrefurl=https%3A%2F%2Fwww.toptal.com%2Fmachine-learning%2Fmachine-learning-theory-an-introductory-primer&tbnid=nVPPlHF1nhK8oM&vet=12ahUKEwiF78qE5IzvAhVHH3IKHUvwAbYQMyhKegUIARCMAQ..i&docid=f7v2y1uyJen2KM&w=1720&h=901&q=%E2%80%98Machine%20Learning&ved=2ahUKEwiF78qE5IzvAhVHH3IKHUvwAbYQMyhKegUIARCMAQ\n",
      "https://www.google.com/imgres?imgurl=https%3A%2F%2Fstatic.ebayinc.com%2Fstatic%2Fassets%2FUploads%2FBlog%2FPosts%2F_resampled%2FScaleWidthWyI4MDAiXQ%2FML-2019-LS-V3.jpg&imgrefurl=https%3A%2F%2Ftech.ebayinc.com%2Fresearch%2Fbuilding-a-product-catalog-ebays-university-machine-learning-competition%2F&tbnid=6zyTObj3fOS9FM&vet=12ahUKEwiF78qE5IzvAhVHH3IKHUvwAbYQMyhLegUIARCOAQ..i&docid=HZcAmmYZB2R9cM&w=800&h=450&q=%E2%80%98Machine%20Learning&ved=2ahUKEwiF78qE5IzvAhVHH3IKHUvwAbYQMyhLegUIARCOAQ\n",
      "https://www.google.com/imgres?imgurl=https%3A%2F%2Fdata-flair.training%2Fblogs%2Fwp-content%2Fuploads%2Fsites%2F2%2F2017%2F07%2Fapplications-of-machine-learning-2-1200x720.jpg&imgrefurl=https%3A%2F%2Fdata-flair.training%2Fblogs%2Fmachine-learning-applications%2F&tbnid=c0-LsG3JLVa5YM&vet=12ahUKEwiF78qE5IzvAhVHH3IKHUvwAbYQMyhMegUIARCQAQ..i&docid=fKHLH-SEc_khwM&w=1200&h=720&q=%E2%80%98Machine%20Learning&ved=2ahUKEwiF78qE5IzvAhVHH3IKHUvwAbYQMyhMegUIARCQAQ\n",
      "https://www.google.com/imgres?imgurl=https%3A%2F%2Fkt.cern%2Fsites%2Fknowledgetransfer.web.cern.ch%2Ffiles%2Fstyles%2Fcern_image_gallery_large%2Fpublic%2Fimages%2Fcompetence%2Fimage%2Fmachine-learning-and-deep-learning.png%3Fitok%3DHao_GVoG&imgrefurl=https%3A%2F%2Fkt.cern%2Fcompetences%2Fmachine-learning-and-deep-learning&tbnid=PkSn-gcqqsA1VM&vet=12ahUKEwiF78qE5IzvAhVHH3IKHUvwAbYQMyhNegUIARCSAQ..i&docid=uiBPaEqv7spQLM&w=1218&h=1142&q=%E2%80%98Machine%20Learning&ved=2ahUKEwiF78qE5IzvAhVHH3IKHUvwAbYQMyhNegUIARCSAQ\n",
      "https://www.google.com/imgres?imgurl=https%3A%2F%2Fi.ytimg.com%2Fvi%2FukzFI9rgwfU%2Fmaxresdefault.jpg&imgrefurl=https%3A%2F%2Fwww.youtube.com%2Fwatch%3Fv%3DukzFI9rgwfU&tbnid=I0NA9RJ4LtdeGM&vet=12ahUKEwiF78qE5IzvAhVHH3IKHUvwAbYQMyhOegUIARCUAQ..i&docid=7-4PvcKzP7kcWM&w=1280&h=720&q=%E2%80%98Machine%20Learning&ved=2ahUKEwiF78qE5IzvAhVHH3IKHUvwAbYQMyhOegUIARCUAQ\n",
      "https://www.google.com/imgres?imgurl=https%3A%2F%2Fdownloads.healthcatalyst.com%2Fwp-content%2Fuploads%2F2017%2F04%2Fmachine-learning-in-healthcare.jpg&imgrefurl=https%3A%2F%2Fwww.healthcatalyst.com%2Fclinical-applications-of-machine-learning-in-healthcare&tbnid=mC6xXbFZB3eeXM&vet=12ahUKEwiF78qE5IzvAhVHH3IKHUvwAbYQMyhPegUIARCXAQ..i&docid=J-qeOPThgODM0M&w=1000&h=1000&q=%E2%80%98Machine%20Learning&ved=2ahUKEwiF78qE5IzvAhVHH3IKHUvwAbYQMyhPegUIARCXAQ\n",
      "https://www.google.com/imgres?imgurl=https%3A%2F%2Fwww.edureka.co%2Fblog%2Fwp-content%2Fuploads%2F2019%2F01%2FTop-10-Applications-of-Machine-Learning.jpg&imgrefurl=https%3A%2F%2Fwww.edureka.co%2Fblog%2Fmachine-learning-applications%2F&tbnid=OQ9rhsZnPeOoDM&vet=12ahUKEwiF78qE5IzvAhVHH3IKHUvwAbYQMyhQegUIARCZAQ..i&docid=e5HArQakXenhcM&w=815&h=476&q=%E2%80%98Machine%20Learning&ved=2ahUKEwiF78qE5IzvAhVHH3IKHUvwAbYQMyhQegUIARCZAQ\n",
      "https://www.google.com/imgres?imgurl=https%3A%2F%2Fd2908q01vomqb2.cloudfront.net%2Ff1f836cb4ea6efb2a0b1b99f41ad8b103eff4b59%2F2020%2F08%2F31%2F1-Header.jpg&imgrefurl=https%3A%2F%2Faws.amazon.com%2Fblogs%2Fmachine-learning%2Fthis-month-in-aws-machine-learning-august-2020-edition%2F&tbnid=wluwo1p1IqsLJM&vet=12ahUKEwiF78qE5IzvAhVHH3IKHUvwAbYQMyhRegUIARCbAQ..i&docid=vO30ccMq2JhSLM&w=900&h=449&q=%E2%80%98Machine%20Learning&ved=2ahUKEwiF78qE5IzvAhVHH3IKHUvwAbYQMyhRegUIARCbAQ\n",
      "https://www.google.com/imgres?imgurl=https%3A%2F%2Fimages.idgesg.net%2Fimages%2Farticle%2F2020%2F08%2Fintro_ts_ai_ml_by-monsitj-getty-images_2400x1600-100853894-large.jpg&imgrefurl=https%3A%2F%2Fwww.cio.com%2Farticle%2F3570613%2Fai-and-machine-learning-powering-the-next-gen-enterprise.html&tbnid=es-A1VPSoTAJ-M&vet=12ahUKEwiF78qE5IzvAhVHH3IKHUvwAbYQMyhSegUIARCdAQ..i&docid=volpq_piDu8irM&w=1200&h=800&q=%E2%80%98Machine%20Learning&ved=2ahUKEwiF78qE5IzvAhVHH3IKHUvwAbYQMyhSegUIARCdAQ\n",
      "https://www.google.com/imgres?imgurl=https%3A%2F%2Fspecials-images.forbesimg.com%2Fimageserve%2F5f4e95e4f671590c4412a595%2F960x0.jpg%3Ffit%3Dscale&imgrefurl=https%3A%2F%2Fwww.forbes.com%2Fsites%2Fforbesbusinessdevelopmentcouncil%2F2020%2F09%2F02%2Fwhat-is-the-difference-between-deep-learning-and-machine-learning%2F&tbnid=zfx9nnYb-JM_6M&vet=12ahUKEwiF78qE5IzvAhVHH3IKHUvwAbYQMyhTegUIARCfAQ..i&docid=1QFC1u7ZV4gvhM&w=960&h=720&q=%E2%80%98Machine%20Learning&ved=2ahUKEwiF78qE5IzvAhVHH3IKHUvwAbYQMyhTegUIARCfAQ\n",
      "https://www.google.com/imgres?imgurl=https%3A%2F%2Fanalyticalscience.wiley.com%2Fdo%2F10.1002%2Fmicro.2994%2Ffull%2Fi40507e892b0bb11d8a4f5e2e584e5598.png&imgrefurl=https%3A%2F%2Fanalyticalscience.wiley.com%2Fdo%2F10.1002%2Fmicro.2994&tbnid=j-JlaMbF9o7bwM&vet=12ahUKEwiF78qE5IzvAhVHH3IKHUvwAbYQMyhUegUIARChAQ..i&docid=UdAiVAUHzpa5FM&w=833&h=511&q=%E2%80%98Machine%20Learning&ved=2ahUKEwiF78qE5IzvAhVHH3IKHUvwAbYQMyhUegUIARChAQ\n",
      "https://www.google.com/imgres?imgurl=https%3A%2F%2Fi0.wp.com%2Fblogs.cfainstitute.org%2Finvestor%2Ffiles%2F2018%2F01%2FArtificial-Intelligence-Machine-Learning-and-Deep-Learning-A-Primer.png%3Fresize%3D940%252C575%26ssl%3D1&imgrefurl=https%3A%2F%2Fblogs.cfainstitute.org%2Finvestor%2F2018%2F02%2F13%2Fartificial-intelligence-machine-learning-and-deep-learning-in-investment-management-a-primer%2F&tbnid=xxMrEXgc3ehI9M&vet=12ahUKEwiF78qE5IzvAhVHH3IKHUvwAbYQMyhVegUIARCjAQ..i&docid=N4EH8_OWi1RJsM&w=940&h=575&q=%E2%80%98Machine%20Learning&ved=2ahUKEwiF78qE5IzvAhVHH3IKHUvwAbYQMyhVegUIARCjAQ\n",
      "https://www.google.com/imgres?imgurl=https%3A%2F%2Ftdwi.org%2F-%2Fmedia%2FTDWI%2FTDWI%2FBITW%2Fmachinelearning2.jpg&imgrefurl=https%3A%2F%2Ftdwi.org%2Farticles%2F2018%2F12%2F05%2Fadv-all-machine-learning-needs-careful-data-engineering.aspx&tbnid=TuX9CGk3k1FIiM&vet=12ahUKEwiF78qE5IzvAhVHH3IKHUvwAbYQMyhWegUIARClAQ..i&docid=s3Yg1SNHnzQu0M&w=976&h=400&q=%E2%80%98Machine%20Learning&ved=2ahUKEwiF78qE5IzvAhVHH3IKHUvwAbYQMyhWegUIARClAQ\n",
      "https://www.google.com/imgres?imgurl=https%3A%2F%2Fwww.cpajournal.com%2Fwp-content%2Fuploads%2F2020%2F07%2FCPA.2020.90.6.006.uf0011.jpg&imgrefurl=https%3A%2F%2Fwww.cpajournal.com%2F2020%2F07%2F10%2Fthe-development-of-machine-learning-and-its-implications-for-public-accounting%2F&tbnid=2gmju9N9Je-OIM&vet=12ahUKEwiF78qE5IzvAhVHH3IKHUvwAbYQMyhXegUIARCnAQ..i&docid=wlA7ICS8GQDFzM&w=2548&h=2226&q=%E2%80%98Machine%20Learning&ved=2ahUKEwiF78qE5IzvAhVHH3IKHUvwAbYQMyhXegUIARCnAQ\n",
      "https://www.google.com/imgres?imgurl=https%3A%2F%2Fssir.org%2Fimages%2Fblog%2FiStockmachinelearning592x333.jpg&imgrefurl=https%3A%2F%2Fssir.org%2Farticles%2Fentry%2Fdemystifying_machine_learning_for_global_development&tbnid=us6J9TD0YQxjwM&vet=12ahUKEwiF78qE5IzvAhVHH3IKHUvwAbYQMyhYegUIARCpAQ..i&docid=FucGV17NcjI9TM&w=592&h=333&q=%E2%80%98Machine%20Learning&ved=2ahUKEwiF78qE5IzvAhVHH3IKHUvwAbYQMyhYegUIARCpAQ\n",
      "https://www.google.com/imgres?imgurl=http%3A%2F%2Fcen.acs.org%2Fcontent%2Fdam%2Fcen%2F96%2F34%2F09634-feature1-machineillus.jpg&imgrefurl=https%3A%2F%2Fcen.acs.org%2Fphysical-chemistry%2Fcomputational-chemistry%2Fmachine-learning-overhyped%2F96%2Fi34&tbnid=WnOu276cOgdxMM&vet=12ahUKEwiF78qE5IzvAhVHH3IKHUvwAbYQMyhZegUIARCrAQ..i&docid=OLDEPacVFU5P1M&w=2000&h=1299&q=%E2%80%98Machine%20Learning&ved=2ahUKEwiF78qE5IzvAhVHH3IKHUvwAbYQMyhZegUIARCrAQ\n",
      "https://www.google.com/imgres?imgurl=https%3A%2F%2Fcdn.app.compendium.com%2Fuploads%2Fuser%2Fe7c690e8-6ff9-102a-ac6d-e4aebca50425%2Ff0499405-1197-4b43-b7c5-40548eeb9f34%2FImage%2F5f0b569126b3f2da0538b3ce34bd89d2%2Fdifference_between_ai__machine_learning_and_deep_learning.png&imgrefurl=https%3A%2F%2Fblogs.oracle.com%2Fbigdata%2Fdifference-ai-machine-learning-deep-learning&tbnid=JEQiLvCfkztkzM&vet=12ahUKEwiF78qE5IzvAhVHH3IKHUvwAbYQMyhaegUIARCtAQ..i&docid=EXqA0GSZTPe4xM&w=2526&h=1442&q=%E2%80%98Machine%20Learning&ved=2ahUKEwiF78qE5IzvAhVHH3IKHUvwAbYQMyhaegUIARCtAQ\n",
      "https://www.google.com/imgres?imgurl=https%3A%2F%2Fassets.website-files.com%2F5fb24a974499e90dae242d98%2F5fb24a974499e96f7b2431db_AI%2520venn%2520diagram.png&imgrefurl=https%3A%2F%2Fwww.levity.ai%2Fblog%2Fdifference-machine-learning-deep-learning&tbnid=YztsQcZfxlAOdM&vet=12ahUKEwiF78qE5IzvAhVHH3IKHUvwAbYQMyhbegUIARCvAQ..i&docid=7QVcAfmVEGRZ9M&w=1000&h=687&q=%E2%80%98Machine%20Learning&ved=2ahUKEwiF78qE5IzvAhVHH3IKHUvwAbYQMyhbegUIARCvAQ\n",
      "https://www.google.com/imgres?imgurl=https%3A%2F%2Fblog.dataiku.com%2Fhs-fs%2Fhubfs%2FAI-ML-DL-graphic.png%3Fwidth%3D540%26name%3DAI-ML-DL-graphic.png&imgrefurl=https%3A%2F%2Fblog.dataiku.com%2Fai-vs.-machine-learning-vs.-deep-learning&tbnid=UmZp5Nd1qiVH0M&vet=12ahUKEwiF78qE5IzvAhVHH3IKHUvwAbYQMyhcegUIARCxAQ..i&docid=_meRO8X7i2IgxM&w=589&h=627&q=%E2%80%98Machine%20Learning&ved=2ahUKEwiF78qE5IzvAhVHH3IKHUvwAbYQMyhcegUIARCxAQ\n",
      "https://www.google.com/imgres?imgurl=https%3A%2F%2Fmobidev.biz%2Fwp-content%2Fuploads%2F2020%2F01%2Fmachine-learning-consulting-company.png&imgrefurl=https%3A%2F%2Fmobidev.biz%2Fservices%2Fmachine-learning-consulting&tbnid=EmZj17G4M_zy9M&vet=12ahUKEwiF78qE5IzvAhVHH3IKHUvwAbYQMyhdegUIARCzAQ..i&docid=sQT0l-mXTafgoM&w=2880&h=1200&q=%E2%80%98Machine%20Learning&ved=2ahUKEwiF78qE5IzvAhVHH3IKHUvwAbYQMyhdegUIARCzAQ\n",
      "https://www.google.com/imgres?imgurl=https%3A%2F%2Fdevelopers.google.com%2Fmachine-learning%2Ftesting-debugging%2Fimages%2Fmachine-learning-development-process.svg&imgrefurl=https%3A%2F%2Fdevelopers.google.com%2Fmachine-learning%2Ftesting-debugging&tbnid=BV2r0yTDVlzdEM&vet=12ahUKEwiF78qE5IzvAhVHH3IKHUvwAbYQMyheegUIARC1AQ..i&docid=LFw5L86Ga4-xeM&w=781&h=254&q=%E2%80%98Machine%20Learning&ved=2ahUKEwiF78qE5IzvAhVHH3IKHUvwAbYQMyheegUIARC1AQ\n",
      "https://www.google.com/imgres?imgurl=https%3A%2F%2Fi.ytimg.com%2Fvi%2FATedpHnMpg0%2Fmaxresdefault.jpg&imgrefurl=https%3A%2F%2Fsearchenterpriseai.techtarget.com%2Fdefinition%2Fmachine-learning-ML&tbnid=pCybJj_p7L3tXM&vet=12ahUKEwiF78qE5IzvAhVHH3IKHUvwAbYQMyhfegUIARC3AQ..i&docid=p6dtGcNw2qTSaM&w=1280&h=720&q=%E2%80%98Machine%20Learning&ved=2ahUKEwiF78qE5IzvAhVHH3IKHUvwAbYQMyhfegUIARC3AQ\n",
      "https://www.google.com/imgres?imgurl=https%3A%2F%2Fcdn.filestackcontent.com%2Fauto_image%2Fresize%3Dwidth%3A750%2Fcompress%2Fpl3hOk2XRQu38pX33XAG&imgrefurl=https%3A%2F%2Fwww.xplenty.com%2Fblog%2Ftop-machine-learning-events%2F&tbnid=Olvf7xyw7isWLM&vet=12ahUKEwiF78qE5IzvAhVHH3IKHUvwAbYQMyhgegUIARC5AQ..i&docid=FhtqOtrNN3-QkM&w=750&h=387&q=%E2%80%98Machine%20Learning&ved=2ahUKEwiF78qE5IzvAhVHH3IKHUvwAbYQMyhgegUIARC5AQ\n",
      "https://www.google.com/imgres?imgurl=https%3A%2F%2Fwww.crn.com%2Fresources%2F0263-10e24538a932-582b1d7f148d-1000%2Fai-artificial-intelligence-mind.jpg&imgrefurl=https%3A%2F%2Fwww.crn.com%2Fnews%2Fcloud%2Fthe-12-coolest-machine-learning-startups-of-2020&tbnid=1yB4E1Qm4gMYFM&vet=12ahUKEwiF78qE5IzvAhVHH3IKHUvwAbYQMyhhegUIARC7AQ..i&docid=m3LHgckMR1bTqM&w=609&h=457&q=%E2%80%98Machine%20Learning&ved=2ahUKEwiF78qE5IzvAhVHH3IKHUvwAbYQMyhhegUIARC7AQ\n",
      "https://www.google.com/imgres?imgurl=https%3A%2F%2Fres.cloudinary.com%2Fdyd911kmh%2Fimage%2Fupload%2Ff_auto%2Cq_auto%3Abest%2Fv1582562373%2FML_vs_AI_ph9sbt.png&imgrefurl=https%3A%2F%2Fwww.datacamp.com%2Fcommunity%2Fblog%2Fai-and-ml&tbnid=JknOzFf2OE2GPM&vet=12ahUKEwiF78qE5IzvAhVHH3IKHUvwAbYQMyhjegUIARDEAQ..i&docid=rAQyIZhZlT-SQM&w=1200&h=628&q=%E2%80%98Machine%20Learning&ved=2ahUKEwiF78qE5IzvAhVHH3IKHUvwAbYQMyhjegUIARDEAQ\n",
      "https://www.google.com/imgres?imgurl=https%3A%2F%2Fwww.simplilearn.com%2Fice9%2Ffree_resources_article_thumb%2F10-algorithms-machine-learning-engineers-need-to-know-article.jpg&imgrefurl=https%3A%2F%2Fwww.simplilearn.com%2F10-algorithms-machine-learning-engineers-need-to-know-article&tbnid=-cV1lC26NH2UlM&vet=12ahUKEwiF78qE5IzvAhVHH3IKHUvwAbYQMyhkegUIARDGAQ..i&docid=zDIclzXW4YMF8M&w=848&h=477&q=%E2%80%98Machine%20Learning&ved=2ahUKEwiF78qE5IzvAhVHH3IKHUvwAbYQMyhkegUIARDGAQ\n",
      "https://www.google.com/imgres?imgurl=https%3A%2F%2Fmiro.medium.com%2Fmax%2F3840%2F1*Lejtm0oGlOC5U0-J0JmGhg.png&imgrefurl=https%3A%2F%2Ftowardsai.net%2Fp%2Fmachine-learning%2Fmachine-learning-algorithms-for-beginners-with-python-code-examples-ml-19c6afd60daa&tbnid=7_Jo8bvpqrqXUM&vet=12ahUKEwiF78qE5IzvAhVHH3IKHUvwAbYQMyhlegUIARDIAQ..i&docid=XmUK3RWiuVr5QM&w=1920&h=934&q=%E2%80%98Machine%20Learning&ved=2ahUKEwiF78qE5IzvAhVHH3IKHUvwAbYQMyhlegUIARDIAQ\n",
      "https://www.google.com/imgres?imgurl=https%3A%2F%2Fanalyticsinsight.b-cdn.net%2Fwp-content%2Fuploads%2F2020%2F07%2FAI-Courses.jpeg&imgrefurl=https%3A%2F%2Fwww.analyticsinsight.net%2Ftop-10-courses-to-learn-ai-machine-learning-and-deep-learning%2F&tbnid=WdN45Bzp_FTAiM&vet=12ahUKEwiF78qE5IzvAhVHH3IKHUvwAbYQMyhmegUIARDKAQ..i&docid=zWQGFuwwigqsSM&w=1000&h=666&q=%E2%80%98Machine%20Learning&ved=2ahUKEwiF78qE5IzvAhVHH3IKHUvwAbYQMyhmegUIARDKAQ\n"
     ]
    }
   ],
   "source": [
    "urls = driver.find_elements_by_xpath(\"//a[@class='wXeWr islib nfEiy mM5pbd']\")\n",
    "\n",
    "\n",
    "for urls in urls[0:100]:  \n",
    "    \n",
    "        driver.find_element_by_xpath(\"//div[@class='bRMDJf islir']\").click()\n",
    "       \n",
    "        print(urls.get_attribute(\"href\"))"
   ]
  },
  {
   "cell_type": "markdown",
   "metadata": {},
   "source": [
    "#Q4. Write a python program to search for a smartphone(e.g.: Oneplus Nord, pixel 4A, etc.) on\n",
    "www.flipkart.com and scrape following details for all the search results displayed on 1st page.\n",
    "Details to be scraped: “Brand Name”, “Smartphone name”, “Colour”, “RAM”,\n",
    "“Storage(ROM)”, “Primary Camera”, “Secondary Camera”, “Display Size”, “Display\n",
    "Resolution”, “Processor”, “Processor Cores”, “Battery Capacity”, “Price”, “Product URL”.\n",
    "Incase if any of the details is missing then replace it by “- “. Save your results in a dataframe\n",
    "and CSV."
   ]
  },
  {
   "cell_type": "code",
   "execution_count": 40,
   "metadata": {},
   "outputs": [],
   "source": [
    " driver = webdriver.Chrome(\"C:/Users/CHITRAK/Downloads/chromedriver.exe\")"
   ]
  },
  {
   "cell_type": "code",
   "execution_count": 41,
   "metadata": {},
   "outputs": [],
   "source": [
    "driver.get('https://www.flipkart.com/')"
   ]
  },
  {
   "cell_type": "code",
   "execution_count": 42,
   "metadata": {},
   "outputs": [
    {
     "name": "stdout",
     "output_type": "stream",
     "text": [
      "Enter product:Oneplus Nord\n"
     ]
    }
   ],
   "source": [
    "search = input(\"Enter product:\")"
   ]
  },
  {
   "cell_type": "code",
   "execution_count": 43,
   "metadata": {},
   "outputs": [],
   "source": [
    "search_bar = driver.find_element_by_xpath(\"//input[@class='_3704LK']\")\n",
    "search_bar.send_keys(search)\n",
    "search_btn = driver.find_elements_by_xpath(\"//div[@class='col-12-12 _2oO9oE']/button\")\n",
    "search_btn[0].click()"
   ]
  },
  {
   "cell_type": "code",
   "execution_count": 44,
   "metadata": {},
   "outputs": [],
   "source": [
    "b = []\n",
    "p = []\n",
    "r = []\n",
    "n = []"
   ]
  },
  {
   "cell_type": "code",
   "execution_count": 50,
   "metadata": {},
   "outputs": [],
   "source": [
    "start=0\n",
    "end=3\n",
    "for page in range(start,end):#for loop for scrapping 3 page\n",
    "    \n",
    "    z=driver.find_elements_by_xpath(\"//div[@class='_4rR01T']\")\n",
    "    for i in z:\n",
    "        b.append(i.text)\n",
    "        \n",
    "    y=driver.find_elements_by_xpath(\"//div[@class='_3LWZlK']\")\n",
    "    for i in y:\n",
    "        r.append(i.text)\n",
    "    \n",
    "    x=driver.find_elements_by_xpath(\"//ul[@class='_1xgFaf']\")\n",
    "    for i in x:\n",
    "        p.append(i.text)\n",
    "    \n",
    "    w=driver.find_elements_by_xpath(\"//span[@class='_2_R_DZ']\")\n",
    "    for i in w:\n",
    "        n.append(i.text)"
   ]
  },
  {
   "cell_type": "code",
   "execution_count": 51,
   "metadata": {},
   "outputs": [
    {
     "name": "stdout",
     "output_type": "stream",
     "text": [
      "144\n",
      "144\n",
      "168\n",
      "69\n"
     ]
    }
   ],
   "source": [
    "print(len(b))\n",
    "print(len(p))\n",
    "print(len(r))\n",
    "print(len(n))"
   ]
  },
  {
   "cell_type": "code",
   "execution_count": 52,
   "metadata": {
    "scrolled": true
   },
   "outputs": [],
   "source": [
    "import pandas as pd\n",
    "table=pd.DataFrame({})\n",
    "\n",
    "table['Brand Name/Name of the Product/Colour/RAM']=b\n",
    "table['Rating']=r\n",
    "table['No of Ratings']=n\n",
    "table['Product Specs']=p"
   ]
  },
  {
   "cell_type": "code",
   "execution_count": 53,
   "metadata": {},
   "outputs": [
    {
     "data": {
      "text/html": [
       "<div>\n",
       "<style scoped>\n",
       "    .dataframe tbody tr th:only-of-type {\n",
       "        vertical-align: middle;\n",
       "    }\n",
       "\n",
       "    .dataframe tbody tr th {\n",
       "        vertical-align: top;\n",
       "    }\n",
       "\n",
       "    .dataframe thead th {\n",
       "        text-align: right;\n",
       "    }\n",
       "</style>\n",
       "<table border=\"1\" class=\"dataframe\">\n",
       "  <thead>\n",
       "    <tr style=\"text-align: right;\">\n",
       "      <th></th>\n",
       "      <th>Brand Name/Name of the Product/Colour/RAM</th>\n",
       "      <th>Rating</th>\n",
       "      <th>No of Ratings</th>\n",
       "      <th>Product Specs</th>\n",
       "    </tr>\n",
       "  </thead>\n",
       "  <tbody>\n",
       "    <tr>\n",
       "      <th>0</th>\n",
       "      <td>Kechaoda K-55 Plus</td>\n",
       "      <td>4</td>\n",
       "      <td>7,912 Ratings &amp; 730 Reviews</td>\n",
       "      <td>512 MB RAM | 32 MB ROM\\n4.5 cm (1.77 inch) QVG...</td>\n",
       "    </tr>\n",
       "    <tr>\n",
       "      <th>1</th>\n",
       "      <td>Kechaoda K-55 Plus</td>\n",
       "      <td>4</td>\n",
       "      <td>7,912 Ratings &amp; 730 Reviews</td>\n",
       "      <td>512 MB RAM | 32 MB ROM\\n4.5 cm (1.77 inch) QVG...</td>\n",
       "    </tr>\n",
       "    <tr>\n",
       "      <th>2</th>\n",
       "      <td>Samsung Guru FM Plus</td>\n",
       "      <td>4.2</td>\n",
       "      <td>21,397 Ratings &amp; 1,988 Reviews</td>\n",
       "      <td>128 MB ROM\\n3.81 cm (1.5 inch) Display\\n800 mA...</td>\n",
       "    </tr>\n",
       "    <tr>\n",
       "      <th>3</th>\n",
       "      <td>Kechaoda K116 Plus</td>\n",
       "      <td>4</td>\n",
       "      <td>7,531 Ratings &amp; 610 Reviews</td>\n",
       "      <td>32 MB RAM | 32 MB ROM\\n4.5 cm (1.77 inch) Disp...</td>\n",
       "    </tr>\n",
       "    <tr>\n",
       "      <th>4</th>\n",
       "      <td>Karbonn K5 Plus</td>\n",
       "      <td>4</td>\n",
       "      <td>1,040 Ratings &amp; 92 Reviews</td>\n",
       "      <td>32 MB RAM | 32 MB ROM\\n4.57 cm (1.8 inch) Disp...</td>\n",
       "    </tr>\n",
       "    <tr>\n",
       "      <th>...</th>\n",
       "      <td>...</td>\n",
       "      <td>...</td>\n",
       "      <td>...</td>\n",
       "      <td>...</td>\n",
       "    </tr>\n",
       "    <tr>\n",
       "      <th>64</th>\n",
       "      <td>Jivi X606 Plus</td>\n",
       "      <td>4</td>\n",
       "      <td>10 Ratings &amp; 1 Reviews</td>\n",
       "      <td>5 MB RAM | 32 MB ROM | Expandable Upto 128 GB\\...</td>\n",
       "    </tr>\n",
       "    <tr>\n",
       "      <th>65</th>\n",
       "      <td>Kechaoda K66 Plus</td>\n",
       "      <td>3.8</td>\n",
       "      <td>10 Ratings &amp; 1 Reviews</td>\n",
       "      <td>32 MB RAM | 32 MB ROM\\n4.5 cm (1.77 inch) QVGA...</td>\n",
       "    </tr>\n",
       "    <tr>\n",
       "      <th>66</th>\n",
       "      <td>InFocus VIBE PLUS</td>\n",
       "      <td>3.9</td>\n",
       "      <td>46 Ratings &amp; 6 Reviews</td>\n",
       "      <td>32 MB RAM | 32 MB ROM\\n4.57 cm (1.8 inch) Disp...</td>\n",
       "    </tr>\n",
       "    <tr>\n",
       "      <th>67</th>\n",
       "      <td>InFocus Vibe plus</td>\n",
       "      <td>4.1</td>\n",
       "      <td>3,046 Ratings &amp; 391 Reviews</td>\n",
       "      <td>32 MB RAM | 32 MB ROM | Expandable Upto 32 GB\\...</td>\n",
       "    </tr>\n",
       "    <tr>\n",
       "      <th>68</th>\n",
       "      <td>MU M1000 PLUS</td>\n",
       "      <td>3.9</td>\n",
       "      <td>57 Ratings &amp; 10 Reviews</td>\n",
       "      <td>64 MB RAM | 64 MB ROM\\n6.1 cm (2.4 inch) Displ...</td>\n",
       "    </tr>\n",
       "  </tbody>\n",
       "</table>\n",
       "<p>69 rows × 4 columns</p>\n",
       "</div>"
      ],
      "text/plain": [
       "   Brand Name/Name of the Product/Colour/RAM Rating  \\\n",
       "0                         Kechaoda K-55 Plus      4   \n",
       "1                         Kechaoda K-55 Plus      4   \n",
       "2                       Samsung Guru FM Plus    4.2   \n",
       "3                         Kechaoda K116 Plus      4   \n",
       "4                            Karbonn K5 Plus      4   \n",
       "..                                       ...    ...   \n",
       "64                            Jivi X606 Plus      4   \n",
       "65                         Kechaoda K66 Plus    3.8   \n",
       "66                         InFocus VIBE PLUS    3.9   \n",
       "67                         InFocus Vibe plus    4.1   \n",
       "68                             MU M1000 PLUS    3.9   \n",
       "\n",
       "                     No of Ratings  \\\n",
       "0      7,912 Ratings & 730 Reviews   \n",
       "1      7,912 Ratings & 730 Reviews   \n",
       "2   21,397 Ratings & 1,988 Reviews   \n",
       "3      7,531 Ratings & 610 Reviews   \n",
       "4       1,040 Ratings & 92 Reviews   \n",
       "..                             ...   \n",
       "64          10 Ratings & 1 Reviews   \n",
       "65          10 Ratings & 1 Reviews   \n",
       "66          46 Ratings & 6 Reviews   \n",
       "67     3,046 Ratings & 391 Reviews   \n",
       "68         57 Ratings & 10 Reviews   \n",
       "\n",
       "                                        Product Specs  \n",
       "0   512 MB RAM | 32 MB ROM\\n4.5 cm (1.77 inch) QVG...  \n",
       "1   512 MB RAM | 32 MB ROM\\n4.5 cm (1.77 inch) QVG...  \n",
       "2   128 MB ROM\\n3.81 cm (1.5 inch) Display\\n800 mA...  \n",
       "3   32 MB RAM | 32 MB ROM\\n4.5 cm (1.77 inch) Disp...  \n",
       "4   32 MB RAM | 32 MB ROM\\n4.57 cm (1.8 inch) Disp...  \n",
       "..                                                ...  \n",
       "64  5 MB RAM | 32 MB ROM | Expandable Upto 128 GB\\...  \n",
       "65  32 MB RAM | 32 MB ROM\\n4.5 cm (1.77 inch) QVGA...  \n",
       "66  32 MB RAM | 32 MB ROM\\n4.57 cm (1.8 inch) Disp...  \n",
       "67  32 MB RAM | 32 MB ROM | Expandable Upto 32 GB\\...  \n",
       "68  64 MB RAM | 64 MB ROM\\n6.1 cm (2.4 inch) Displ...  \n",
       "\n",
       "[69 rows x 4 columns]"
      ]
     },
     "execution_count": 53,
     "metadata": {},
     "output_type": "execute_result"
    }
   ],
   "source": [
    "table"
   ]
  },
  {
   "cell_type": "markdown",
   "metadata": {},
   "source": [
    "#Q6. Write a program to scrap details of all the funding deals for second quarter (i.e. July 20 –\n",
    "September 20) from trak.in."
   ]
  },
  {
   "cell_type": "code",
   "execution_count": 77,
   "metadata": {},
   "outputs": [],
   "source": [
    "driver = webdriver.Chrome(\"C:/Users/CHITRAK/Downloads/chromedriver.exe\")"
   ]
  },
  {
   "cell_type": "code",
   "execution_count": 79,
   "metadata": {},
   "outputs": [],
   "source": [
    "driver.get('https://trak.in/')"
   ]
  },
  {
   "cell_type": "code",
   "execution_count": 86,
   "metadata": {},
   "outputs": [],
   "source": [
    "Sept=[]\n",
    "Aug=[]\n",
    "July=[]"
   ]
  },
  {
   "cell_type": "code",
   "execution_count": 81,
   "metadata": {},
   "outputs": [],
   "source": [
    "f_btn = driver.find_elements_by_xpath(\"//li[@id='menu-item-51510']\")\n",
    "f_btn[0].click()"
   ]
  },
  {
   "cell_type": "code",
   "execution_count": 84,
   "metadata": {},
   "outputs": [],
   "source": [
    "z=driver.find_elements_by_xpath(\"//table[@id='tablepress-50']\")\n",
    "for i in z:\n",
    "    Sept.append(i.text)"
   ]
  },
  {
   "cell_type": "code",
   "execution_count": 85,
   "metadata": {},
   "outputs": [
    {
     "data": {
      "text/plain": [
       "[<selenium.webdriver.remote.webelement.WebElement (session=\"9cda5be547fe461107ae5047022266c4\", element=\"f247841f-32a2-4bf2-b499-07b8749a41be\")>,\n",
       " '1 08/09/2020 Byju’s EduTech Online Tutoring Bangalore Silver Lake, Tiger Global, General Atlantic and Owl Ventures\\nPrivate Equity 500,000,000\\n2 12/09/2020 mCaffeine Personal Care Skincare & Haircare Mumbai Amicus Capital Private Equity I LLP, Amicus Capital Partners India Fund I and RP-SG Venture Fund 1 Series B 3,000,000\\n3 09/09/2020 Qshala EduTech Online Curiosity Platform for Kids Bangalore Rainmatter Capital Angel 370,000\\n4 02/09/2020 Winzo Online Gaming Online Gaming New Delhi Kalaari Capital Partners, IndigoEdge Management Consultancy Series B 15,500,000\\n5 09/09/2020 Hippo Video Video Customer Experience(CX) Platform Video Customer Experience(CX) Platform Newark, Delaware, United States of Amercia Alpha Wave Incubation, Exfinity Venture Partners and existing backers.\\nSeries A 4,500,000\\n6 07/09/2020 Melorra E-commerce Online Jewelry Store\\nBangalore Shadow Holdings, Lightbox. Debt Financing upto 8,900,000\\n7 07/09/2020 1mg E-commerce Online Pharmacy Gurgaon Gaja Capital, Tata Capital, Partners Group In Progress 100,000,000\\n8 31/08/2020 mfine HealthTech On-Demand Healthcare Services Bangalore Caretech Pte Inc Series B 5,400,000\\n9 31/08/2020 Apna Human Resources Recruitment Platform Bangalore Lightspeed India and Sequoia Capital India Series A 8,000,000\\n10 03/09/2020 Railofy Transportation WL & RAC protection platform Mumbai Chiratae Ventures Seed 950,000\\n11 08/09/2020 Cell Propulsion Automobile Electric Mobility Solutions Bangalore growX Ventures and Micelio pre-Series A NA']"
      ]
     },
     "execution_count": 85,
     "metadata": {},
     "output_type": "execute_result"
    }
   ],
   "source": [
    "Sept"
   ]
  },
  {
   "cell_type": "code",
   "execution_count": 87,
   "metadata": {},
   "outputs": [],
   "source": [
    "y=driver.find_elements_by_xpath(\"//table[@id='tablepress-49']\")\n",
    "for i in y:\n",
    "    Aug.append(i.text)"
   ]
  },
  {
   "cell_type": "code",
   "execution_count": 88,
   "metadata": {},
   "outputs": [
    {
     "data": {
      "text/plain": [
       "['1 15/08/2020 Practo HealthTech Health care and Wellness Bangalore A1A Company\\nSeries F 32,000,000\\n2 13/08/2020 Medlife E-commerce Online Pharmacy Bangalore Prasid Uno Family Trust and SC Credit Fund 23,000,000\\n3 13/08/2020 HungerBox\\nFoodTech Online Food Delivery Service Bangalore One97, Sabre Partners Trust, Pratithi Investment Trust, and Srihari Kumar Series D1 1,560,000\\n4 04/08/2020 Dunzo Hyper-local Logistics Online Delivery Services Bangalore Existing Backers In Progress 30,000,000\\n5 11/08/2020 Terra.do EduTech Online Climate School, E-learning Stanford, California, Stanford Angels and Entrepreneurs (India), BEENEXT Emerging Asia, Rainmatter Capital\\n\\nSeed 1,400,000\\n6 12/08/2020 Classplus EduTech E-learning, Online Tutoring\\n\\nNoida Falcon Edge In Progress upto 15,000,000\\n7 14/08/2020 Niyo FinTech Financial Services Bangalore Niyo Solutions Inc. 6,000,000\\n8 10/08/2020 ZestMoney FinTech Financial Services Bangalore Primrose Hills Ventures 10,670,000\\n9 07/08/2020 FreshToHome E-commerce Food Delivery Bangalore Ascent Capital Venture 16,200,000\\n10 13/08/2020 Eduvanz FinTech Financial Services Mumbai Sequoia India, Unitus Series A 5,000,000\\n11 03/08/2020 CrowdPouch FinTech Financial Services Bangalore Elina Investments Pvt. Ltd Angel NA\\n12 04/08/2020 DrinkPrime Water Purification Water Purification Bangalore Sequoia Surge, ON Mauritius Pre-Series A 2,880,000']"
      ]
     },
     "execution_count": 88,
     "metadata": {},
     "output_type": "execute_result"
    }
   ],
   "source": [
    "Aug"
   ]
  },
  {
   "cell_type": "code",
   "execution_count": 89,
   "metadata": {},
   "outputs": [],
   "source": [
    "x=driver.find_elements_by_xpath(\"//table[@id='tablepress-48']\")\n",
    "for i in x:\n",
    "    July.append(i.text)"
   ]
  },
  {
   "cell_type": "code",
   "execution_count": 90,
   "metadata": {},
   "outputs": [
    {
     "data": {
      "text/plain": [
       "['1 15/07/2020 Flipkart E-commerce E-commerce Bangalore Walmart Inc\\nM&A 1,200,000,000\\n2 16/07/2020 Vedantu EduTech Online Tutoring Bangalore Coatue Management Series D 100,000,000\\n3 16/07/2020 Crio EduTech Learning Platform for Developers Bangalore 021 Capital pre-Series A 934,160\\n4 14/07/2020 goDutch FinTech Group Payments Mumbai Matrix India,Y Combinator, Global Founders Capital, Soma Capital, and VentureSouq. Seed 1,700,000\\n5 13/07/2020 Mystifly\\nAirfare Marketplace Ticketing, Airline Retailing, and Post-Ticketing Services Singapore and Bangalore Recruit Co. Ltd.\\n\\npre-Series B 3,300,000\\n6 09/07/2020 JetSynthesys Gaming and Entertainment Gaming and Entertainment\\n\\nPune Adar Poonawalla and Kris Gopalakrishnan.\\nVenture-Series Unknown 400,000\\n7 10/07/2020 gigIndia\\nMarketplace Crowd Sourcing, Freelance Pune Incubate Fund India and Beyond Next Ventures pre-Series A 974,200\\n8 15/07/2020 PumPumPum Automotive Rental Used Car-leasing platform Gurgaon Early Adapters Syndicate Seed 292,800\\n9 14/07/2020 FLYX OTT Player Streaming Social Network New York and Delhi Raj Mishra, founder of AIT Global Inc pre-Seed 200,000\\n10 13/07/2020 Open Appliances Pvt. Ltd. Information Technology Internet-of-Things Security Solutions Bangalore Unicorn India Ventures Venture-Series Unknown 500,000']"
      ]
     },
     "execution_count": 90,
     "metadata": {},
     "output_type": "execute_result"
    }
   ],
   "source": [
    "July"
   ]
  },
  {
   "cell_type": "markdown",
   "metadata": {},
   "source": [
    "#Q7.Write a program to scrap all the available details of top 10 gaming laptops from digit.in. "
   ]
  },
  {
   "cell_type": "code",
   "execution_count": 54,
   "metadata": {},
   "outputs": [],
   "source": [
    " driver = webdriver.Chrome(\"C:/Users/CHITRAK/Downloads/chromedriver.exe\")"
   ]
  },
  {
   "cell_type": "code",
   "execution_count": 76,
   "metadata": {},
   "outputs": [],
   "source": [
    "driver.get('https://www.digit.in/')"
   ]
  },
  {
   "cell_type": "code",
   "execution_count": 70,
   "metadata": {},
   "outputs": [],
   "source": [
    "b=[]"
   ]
  },
  {
   "cell_type": "code",
   "execution_count": 56,
   "metadata": {},
   "outputs": [],
   "source": [
    "c_btn = driver.find_elements_by_xpath(\"//input[@type='checkbox']\")\n",
    "c_btn[0].click()"
   ]
  },
  {
   "cell_type": "code",
   "execution_count": 67,
   "metadata": {},
   "outputs": [],
   "source": [
    "driver.get('https://www.digit.in/laptops')"
   ]
  },
  {
   "cell_type": "code",
   "execution_count": 68,
   "metadata": {},
   "outputs": [],
   "source": [
    "driver.get('https://www.digit.in/top-products/best-gaming-laptops-40.html')"
   ]
  },
  {
   "cell_type": "code",
   "execution_count": 72,
   "metadata": {},
   "outputs": [],
   "source": [
    "z=driver.find_elements_by_xpath(\"//table[@id='summtable']\")\n",
    "for i in z:\n",
    "    b.append(i.text)"
   ]
  },
  {
   "cell_type": "code",
   "execution_count": 75,
   "metadata": {},
   "outputs": [
    {
     "data": {
      "text/plain": [
       "['PRODUCT NAME SELLER PRICE\\nMSI GT76 TITAN DT 9SG N/A ₹379990\\nAlienware 17 Area-51m amazon ₹489909\\nHP Omen 15 2020 amazon ₹114990\\nAsus Zephyrus G14 amazon ₹164990\\nLenovo Legion Y540 flipkart ₹79990\\nAsus ROG Zephyrus G GA502 flipkart ₹79990\\nAsus ROG Zephyrus S GX531 amazon ₹146000\\nMSI GT83VR 7RE Titan SLI N/A ₹349990\\nASUS ROG ZEPHYRUS DUO 15 amazon ₹259990\\nDell G3 amazon ₹61990']"
      ]
     },
     "execution_count": 75,
     "metadata": {},
     "output_type": "execute_result"
    }
   ],
   "source": [
    "b[0:10]"
   ]
  }
 ],
 "metadata": {
  "kernelspec": {
   "display_name": "Python 3",
   "language": "python",
   "name": "python3"
  },
  "language_info": {
   "codemirror_mode": {
    "name": "ipython",
    "version": 3
   },
   "file_extension": ".py",
   "mimetype": "text/x-python",
   "name": "python",
   "nbconvert_exporter": "python",
   "pygments_lexer": "ipython3",
   "version": "3.9.0"
  }
 },
 "nbformat": 4,
 "nbformat_minor": 4
}
